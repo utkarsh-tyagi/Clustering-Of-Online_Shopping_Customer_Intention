{
 "cells": [
  {
   "cell_type": "code",
   "execution_count": 2,
   "metadata": {},
   "outputs": [],
   "source": [
    "import pandas as pd\n",
    "import numpy as np\n",
    "import matplotlib.pyplot as plt\n",
    "import seaborn as sns\n",
    "from sklearn.cluster import KMeans\n"
   ]
  },
  {
   "cell_type": "markdown",
   "metadata": {},
   "source": [
    "# Dataset Name: Online Shoppers Purchasing Intention Dataset Data Set\n",
    "\n",
    "Data Set Information: The dataset consists of feature vectors belonging to 12,330 sessions.\n",
    "\n",
    "The dataset was formed so that each session would belong to a different user in a 1-year period to avoid any tendency to a specific campaign, special day, user profile, or period.\n",
    "\n",
    "Attribute Information:\n",
    "\n",
    "•\tThe dataset consists of 10 numerical and 8 categorical attributes.\n",
    "\n",
    "•\tThe 'Revenue' attribute can be used as the class label.\n",
    "\n",
    "•\t\"Administrative\", \"Administrative Duration\", \"Informational\", \"Informational Duration\", \"Product Related\" and \"Product Related Duration\" represent the number of different types of pages visited by the visitor in that session and total time spent in each of these page categories. The values of these features are derived from the URL information of the pages visited by the user and updated in real time when a user takes an action, e.g. moving from one page to another.\n",
    "\n",
    "•\t The \"Bounce Rate\", \"Exit Rate\" and \"Page Value\" features represent the metrics measured by \"Google Analytics\" for each page in the e-commerce site. The value of \"Bounce Rate\" feature for a web page refers to the percentage of visitors who enter the site from that page and then leave (\"bounce\") without triggering any other requests to the analytics server during that session.\n",
    "\n",
    "•\t The value of \"Exit Rate\" feature for a specific web page is calculated as for all pageviews to the page, the percentage that were the last in the session. \n",
    "\n",
    "•\tThe \"Page Value\" feature represents the average value for a web page that a user visited before completing an e-commerce transaction. \n",
    "\n",
    "•\tThe \"Special Day\" feature indicates the closeness of the site visiting time to a specific special day (e.g. Mother’s Day, Valentine's Day) in which the sessions are more likely to be finalized with transaction. \n",
    "\n",
    "•\tThe value of this attribute is determined by considering the dynamics of e-commerce such as the duration between the order date and delivery date. \n",
    "\n",
    "•\tFor example, for Valentina’s day, this value takes a nonzero value between February 2 and February 12, zero before and after this date unless it is close to another special day, and its maximum value of 1 on February 8. The dataset also includes operating system, browser, region, traffic type, visitor type as returning or new visitor, a Boolean value indicating whether the date of the visit is weekend, and month of the year.\n"
   ]
  },
  {
   "cell_type": "markdown",
   "metadata": {},
   "source": [
    "# Data Ingestion"
   ]
  },
  {
   "cell_type": "code",
   "execution_count": 4,
   "metadata": {},
   "outputs": [],
   "source": [
    "data=pd.read_csv(\"online_shoppers_intention.csv\")"
   ]
  },
  {
   "cell_type": "code",
   "execution_count": 5,
   "metadata": {},
   "outputs": [
    {
     "data": {
      "text/html": [
       "<div>\n",
       "<style scoped>\n",
       "    .dataframe tbody tr th:only-of-type {\n",
       "        vertical-align: middle;\n",
       "    }\n",
       "\n",
       "    .dataframe tbody tr th {\n",
       "        vertical-align: top;\n",
       "    }\n",
       "\n",
       "    .dataframe thead th {\n",
       "        text-align: right;\n",
       "    }\n",
       "</style>\n",
       "<table border=\"1\" class=\"dataframe\">\n",
       "  <thead>\n",
       "    <tr style=\"text-align: right;\">\n",
       "      <th></th>\n",
       "      <th>Administrative</th>\n",
       "      <th>Administrative_Duration</th>\n",
       "      <th>Informational</th>\n",
       "      <th>Informational_Duration</th>\n",
       "      <th>ProductRelated</th>\n",
       "      <th>ProductRelated_Duration</th>\n",
       "      <th>BounceRates</th>\n",
       "      <th>ExitRates</th>\n",
       "      <th>PageValues</th>\n",
       "      <th>SpecialDay</th>\n",
       "      <th>Month</th>\n",
       "      <th>OperatingSystems</th>\n",
       "      <th>Browser</th>\n",
       "      <th>Region</th>\n",
       "      <th>TrafficType</th>\n",
       "      <th>VisitorType</th>\n",
       "      <th>Weekend</th>\n",
       "      <th>Revenue</th>\n",
       "    </tr>\n",
       "  </thead>\n",
       "  <tbody>\n",
       "    <tr>\n",
       "      <th>0</th>\n",
       "      <td>0</td>\n",
       "      <td>0.0</td>\n",
       "      <td>0</td>\n",
       "      <td>0.0</td>\n",
       "      <td>1</td>\n",
       "      <td>0.000000</td>\n",
       "      <td>0.200000</td>\n",
       "      <td>0.200000</td>\n",
       "      <td>0.0</td>\n",
       "      <td>0.0</td>\n",
       "      <td>Feb</td>\n",
       "      <td>1</td>\n",
       "      <td>1</td>\n",
       "      <td>1</td>\n",
       "      <td>1</td>\n",
       "      <td>Returning_Visitor</td>\n",
       "      <td>False</td>\n",
       "      <td>False</td>\n",
       "    </tr>\n",
       "    <tr>\n",
       "      <th>1</th>\n",
       "      <td>0</td>\n",
       "      <td>0.0</td>\n",
       "      <td>0</td>\n",
       "      <td>0.0</td>\n",
       "      <td>2</td>\n",
       "      <td>64.000000</td>\n",
       "      <td>0.000000</td>\n",
       "      <td>0.100000</td>\n",
       "      <td>0.0</td>\n",
       "      <td>0.0</td>\n",
       "      <td>Feb</td>\n",
       "      <td>2</td>\n",
       "      <td>2</td>\n",
       "      <td>1</td>\n",
       "      <td>2</td>\n",
       "      <td>Returning_Visitor</td>\n",
       "      <td>False</td>\n",
       "      <td>False</td>\n",
       "    </tr>\n",
       "    <tr>\n",
       "      <th>2</th>\n",
       "      <td>0</td>\n",
       "      <td>0.0</td>\n",
       "      <td>0</td>\n",
       "      <td>0.0</td>\n",
       "      <td>1</td>\n",
       "      <td>0.000000</td>\n",
       "      <td>0.200000</td>\n",
       "      <td>0.200000</td>\n",
       "      <td>0.0</td>\n",
       "      <td>0.0</td>\n",
       "      <td>Feb</td>\n",
       "      <td>4</td>\n",
       "      <td>1</td>\n",
       "      <td>9</td>\n",
       "      <td>3</td>\n",
       "      <td>Returning_Visitor</td>\n",
       "      <td>False</td>\n",
       "      <td>False</td>\n",
       "    </tr>\n",
       "    <tr>\n",
       "      <th>3</th>\n",
       "      <td>0</td>\n",
       "      <td>0.0</td>\n",
       "      <td>0</td>\n",
       "      <td>0.0</td>\n",
       "      <td>2</td>\n",
       "      <td>2.666667</td>\n",
       "      <td>0.050000</td>\n",
       "      <td>0.140000</td>\n",
       "      <td>0.0</td>\n",
       "      <td>0.0</td>\n",
       "      <td>Feb</td>\n",
       "      <td>3</td>\n",
       "      <td>2</td>\n",
       "      <td>2</td>\n",
       "      <td>4</td>\n",
       "      <td>Returning_Visitor</td>\n",
       "      <td>False</td>\n",
       "      <td>False</td>\n",
       "    </tr>\n",
       "    <tr>\n",
       "      <th>4</th>\n",
       "      <td>0</td>\n",
       "      <td>0.0</td>\n",
       "      <td>0</td>\n",
       "      <td>0.0</td>\n",
       "      <td>10</td>\n",
       "      <td>627.500000</td>\n",
       "      <td>0.020000</td>\n",
       "      <td>0.050000</td>\n",
       "      <td>0.0</td>\n",
       "      <td>0.0</td>\n",
       "      <td>Feb</td>\n",
       "      <td>3</td>\n",
       "      <td>3</td>\n",
       "      <td>1</td>\n",
       "      <td>4</td>\n",
       "      <td>Returning_Visitor</td>\n",
       "      <td>True</td>\n",
       "      <td>False</td>\n",
       "    </tr>\n",
       "    <tr>\n",
       "      <th>5</th>\n",
       "      <td>0</td>\n",
       "      <td>0.0</td>\n",
       "      <td>0</td>\n",
       "      <td>0.0</td>\n",
       "      <td>19</td>\n",
       "      <td>154.216667</td>\n",
       "      <td>0.015789</td>\n",
       "      <td>0.024561</td>\n",
       "      <td>0.0</td>\n",
       "      <td>0.0</td>\n",
       "      <td>Feb</td>\n",
       "      <td>2</td>\n",
       "      <td>2</td>\n",
       "      <td>1</td>\n",
       "      <td>3</td>\n",
       "      <td>Returning_Visitor</td>\n",
       "      <td>False</td>\n",
       "      <td>False</td>\n",
       "    </tr>\n",
       "    <tr>\n",
       "      <th>6</th>\n",
       "      <td>0</td>\n",
       "      <td>0.0</td>\n",
       "      <td>0</td>\n",
       "      <td>0.0</td>\n",
       "      <td>1</td>\n",
       "      <td>0.000000</td>\n",
       "      <td>0.200000</td>\n",
       "      <td>0.200000</td>\n",
       "      <td>0.0</td>\n",
       "      <td>0.4</td>\n",
       "      <td>Feb</td>\n",
       "      <td>2</td>\n",
       "      <td>4</td>\n",
       "      <td>3</td>\n",
       "      <td>3</td>\n",
       "      <td>Returning_Visitor</td>\n",
       "      <td>False</td>\n",
       "      <td>False</td>\n",
       "    </tr>\n",
       "    <tr>\n",
       "      <th>7</th>\n",
       "      <td>1</td>\n",
       "      <td>0.0</td>\n",
       "      <td>0</td>\n",
       "      <td>0.0</td>\n",
       "      <td>0</td>\n",
       "      <td>0.000000</td>\n",
       "      <td>0.200000</td>\n",
       "      <td>0.200000</td>\n",
       "      <td>0.0</td>\n",
       "      <td>0.0</td>\n",
       "      <td>Feb</td>\n",
       "      <td>1</td>\n",
       "      <td>2</td>\n",
       "      <td>1</td>\n",
       "      <td>5</td>\n",
       "      <td>Returning_Visitor</td>\n",
       "      <td>True</td>\n",
       "      <td>False</td>\n",
       "    </tr>\n",
       "    <tr>\n",
       "      <th>8</th>\n",
       "      <td>0</td>\n",
       "      <td>0.0</td>\n",
       "      <td>0</td>\n",
       "      <td>0.0</td>\n",
       "      <td>2</td>\n",
       "      <td>37.000000</td>\n",
       "      <td>0.000000</td>\n",
       "      <td>0.100000</td>\n",
       "      <td>0.0</td>\n",
       "      <td>0.8</td>\n",
       "      <td>Feb</td>\n",
       "      <td>2</td>\n",
       "      <td>2</td>\n",
       "      <td>2</td>\n",
       "      <td>3</td>\n",
       "      <td>Returning_Visitor</td>\n",
       "      <td>False</td>\n",
       "      <td>False</td>\n",
       "    </tr>\n",
       "    <tr>\n",
       "      <th>9</th>\n",
       "      <td>0</td>\n",
       "      <td>0.0</td>\n",
       "      <td>0</td>\n",
       "      <td>0.0</td>\n",
       "      <td>3</td>\n",
       "      <td>738.000000</td>\n",
       "      <td>0.000000</td>\n",
       "      <td>0.022222</td>\n",
       "      <td>0.0</td>\n",
       "      <td>0.4</td>\n",
       "      <td>Feb</td>\n",
       "      <td>2</td>\n",
       "      <td>4</td>\n",
       "      <td>1</td>\n",
       "      <td>2</td>\n",
       "      <td>Returning_Visitor</td>\n",
       "      <td>False</td>\n",
       "      <td>False</td>\n",
       "    </tr>\n",
       "  </tbody>\n",
       "</table>\n",
       "</div>"
      ],
      "text/plain": [
       "   Administrative  Administrative_Duration  Informational  \\\n",
       "0               0                      0.0              0   \n",
       "1               0                      0.0              0   \n",
       "2               0                      0.0              0   \n",
       "3               0                      0.0              0   \n",
       "4               0                      0.0              0   \n",
       "5               0                      0.0              0   \n",
       "6               0                      0.0              0   \n",
       "7               1                      0.0              0   \n",
       "8               0                      0.0              0   \n",
       "9               0                      0.0              0   \n",
       "\n",
       "   Informational_Duration  ProductRelated  ProductRelated_Duration  \\\n",
       "0                     0.0               1                 0.000000   \n",
       "1                     0.0               2                64.000000   \n",
       "2                     0.0               1                 0.000000   \n",
       "3                     0.0               2                 2.666667   \n",
       "4                     0.0              10               627.500000   \n",
       "5                     0.0              19               154.216667   \n",
       "6                     0.0               1                 0.000000   \n",
       "7                     0.0               0                 0.000000   \n",
       "8                     0.0               2                37.000000   \n",
       "9                     0.0               3               738.000000   \n",
       "\n",
       "   BounceRates  ExitRates  PageValues  SpecialDay Month  OperatingSystems  \\\n",
       "0     0.200000   0.200000         0.0         0.0   Feb                 1   \n",
       "1     0.000000   0.100000         0.0         0.0   Feb                 2   \n",
       "2     0.200000   0.200000         0.0         0.0   Feb                 4   \n",
       "3     0.050000   0.140000         0.0         0.0   Feb                 3   \n",
       "4     0.020000   0.050000         0.0         0.0   Feb                 3   \n",
       "5     0.015789   0.024561         0.0         0.0   Feb                 2   \n",
       "6     0.200000   0.200000         0.0         0.4   Feb                 2   \n",
       "7     0.200000   0.200000         0.0         0.0   Feb                 1   \n",
       "8     0.000000   0.100000         0.0         0.8   Feb                 2   \n",
       "9     0.000000   0.022222         0.0         0.4   Feb                 2   \n",
       "\n",
       "   Browser  Region  TrafficType        VisitorType  Weekend  Revenue  \n",
       "0        1       1            1  Returning_Visitor    False    False  \n",
       "1        2       1            2  Returning_Visitor    False    False  \n",
       "2        1       9            3  Returning_Visitor    False    False  \n",
       "3        2       2            4  Returning_Visitor    False    False  \n",
       "4        3       1            4  Returning_Visitor     True    False  \n",
       "5        2       1            3  Returning_Visitor    False    False  \n",
       "6        4       3            3  Returning_Visitor    False    False  \n",
       "7        2       1            5  Returning_Visitor     True    False  \n",
       "8        2       2            3  Returning_Visitor    False    False  \n",
       "9        4       1            2  Returning_Visitor    False    False  "
      ]
     },
     "execution_count": 5,
     "metadata": {},
     "output_type": "execute_result"
    }
   ],
   "source": [
    "data.head(10)"
   ]
  },
  {
   "cell_type": "markdown",
   "metadata": {},
   "source": [
    "# Describtive analyis"
   ]
  },
  {
   "cell_type": "code",
   "execution_count": 6,
   "metadata": {},
   "outputs": [
    {
     "data": {
      "text/html": [
       "<div>\n",
       "<style scoped>\n",
       "    .dataframe tbody tr th:only-of-type {\n",
       "        vertical-align: middle;\n",
       "    }\n",
       "\n",
       "    .dataframe tbody tr th {\n",
       "        vertical-align: top;\n",
       "    }\n",
       "\n",
       "    .dataframe thead th {\n",
       "        text-align: right;\n",
       "    }\n",
       "</style>\n",
       "<table border=\"1\" class=\"dataframe\">\n",
       "  <thead>\n",
       "    <tr style=\"text-align: right;\">\n",
       "      <th></th>\n",
       "      <th>count</th>\n",
       "      <th>mean</th>\n",
       "      <th>std</th>\n",
       "      <th>min</th>\n",
       "      <th>25%</th>\n",
       "      <th>50%</th>\n",
       "      <th>75%</th>\n",
       "      <th>max</th>\n",
       "    </tr>\n",
       "  </thead>\n",
       "  <tbody>\n",
       "    <tr>\n",
       "      <th>Administrative</th>\n",
       "      <td>12330.0</td>\n",
       "      <td>2.315166</td>\n",
       "      <td>3.321784</td>\n",
       "      <td>0.0</td>\n",
       "      <td>0.000000</td>\n",
       "      <td>1.000000</td>\n",
       "      <td>4.000000</td>\n",
       "      <td>27.000000</td>\n",
       "    </tr>\n",
       "    <tr>\n",
       "      <th>Administrative_Duration</th>\n",
       "      <td>12330.0</td>\n",
       "      <td>80.818611</td>\n",
       "      <td>176.779107</td>\n",
       "      <td>0.0</td>\n",
       "      <td>0.000000</td>\n",
       "      <td>7.500000</td>\n",
       "      <td>93.256250</td>\n",
       "      <td>3398.750000</td>\n",
       "    </tr>\n",
       "    <tr>\n",
       "      <th>Informational</th>\n",
       "      <td>12330.0</td>\n",
       "      <td>0.503569</td>\n",
       "      <td>1.270156</td>\n",
       "      <td>0.0</td>\n",
       "      <td>0.000000</td>\n",
       "      <td>0.000000</td>\n",
       "      <td>0.000000</td>\n",
       "      <td>24.000000</td>\n",
       "    </tr>\n",
       "    <tr>\n",
       "      <th>Informational_Duration</th>\n",
       "      <td>12330.0</td>\n",
       "      <td>34.472398</td>\n",
       "      <td>140.749294</td>\n",
       "      <td>0.0</td>\n",
       "      <td>0.000000</td>\n",
       "      <td>0.000000</td>\n",
       "      <td>0.000000</td>\n",
       "      <td>2549.375000</td>\n",
       "    </tr>\n",
       "    <tr>\n",
       "      <th>ProductRelated</th>\n",
       "      <td>12330.0</td>\n",
       "      <td>31.731468</td>\n",
       "      <td>44.475503</td>\n",
       "      <td>0.0</td>\n",
       "      <td>7.000000</td>\n",
       "      <td>18.000000</td>\n",
       "      <td>38.000000</td>\n",
       "      <td>705.000000</td>\n",
       "    </tr>\n",
       "    <tr>\n",
       "      <th>ProductRelated_Duration</th>\n",
       "      <td>12330.0</td>\n",
       "      <td>1194.746220</td>\n",
       "      <td>1913.669288</td>\n",
       "      <td>0.0</td>\n",
       "      <td>184.137500</td>\n",
       "      <td>598.936905</td>\n",
       "      <td>1464.157213</td>\n",
       "      <td>63973.522230</td>\n",
       "    </tr>\n",
       "    <tr>\n",
       "      <th>BounceRates</th>\n",
       "      <td>12330.0</td>\n",
       "      <td>0.022191</td>\n",
       "      <td>0.048488</td>\n",
       "      <td>0.0</td>\n",
       "      <td>0.000000</td>\n",
       "      <td>0.003112</td>\n",
       "      <td>0.016813</td>\n",
       "      <td>0.200000</td>\n",
       "    </tr>\n",
       "    <tr>\n",
       "      <th>ExitRates</th>\n",
       "      <td>12330.0</td>\n",
       "      <td>0.043073</td>\n",
       "      <td>0.048597</td>\n",
       "      <td>0.0</td>\n",
       "      <td>0.014286</td>\n",
       "      <td>0.025156</td>\n",
       "      <td>0.050000</td>\n",
       "      <td>0.200000</td>\n",
       "    </tr>\n",
       "    <tr>\n",
       "      <th>PageValues</th>\n",
       "      <td>12330.0</td>\n",
       "      <td>5.889258</td>\n",
       "      <td>18.568437</td>\n",
       "      <td>0.0</td>\n",
       "      <td>0.000000</td>\n",
       "      <td>0.000000</td>\n",
       "      <td>0.000000</td>\n",
       "      <td>361.763742</td>\n",
       "    </tr>\n",
       "    <tr>\n",
       "      <th>SpecialDay</th>\n",
       "      <td>12330.0</td>\n",
       "      <td>0.061427</td>\n",
       "      <td>0.198917</td>\n",
       "      <td>0.0</td>\n",
       "      <td>0.000000</td>\n",
       "      <td>0.000000</td>\n",
       "      <td>0.000000</td>\n",
       "      <td>1.000000</td>\n",
       "    </tr>\n",
       "    <tr>\n",
       "      <th>OperatingSystems</th>\n",
       "      <td>12330.0</td>\n",
       "      <td>2.124006</td>\n",
       "      <td>0.911325</td>\n",
       "      <td>1.0</td>\n",
       "      <td>2.000000</td>\n",
       "      <td>2.000000</td>\n",
       "      <td>3.000000</td>\n",
       "      <td>8.000000</td>\n",
       "    </tr>\n",
       "    <tr>\n",
       "      <th>Browser</th>\n",
       "      <td>12330.0</td>\n",
       "      <td>2.357097</td>\n",
       "      <td>1.717277</td>\n",
       "      <td>1.0</td>\n",
       "      <td>2.000000</td>\n",
       "      <td>2.000000</td>\n",
       "      <td>2.000000</td>\n",
       "      <td>13.000000</td>\n",
       "    </tr>\n",
       "    <tr>\n",
       "      <th>Region</th>\n",
       "      <td>12330.0</td>\n",
       "      <td>3.147364</td>\n",
       "      <td>2.401591</td>\n",
       "      <td>1.0</td>\n",
       "      <td>1.000000</td>\n",
       "      <td>3.000000</td>\n",
       "      <td>4.000000</td>\n",
       "      <td>9.000000</td>\n",
       "    </tr>\n",
       "    <tr>\n",
       "      <th>TrafficType</th>\n",
       "      <td>12330.0</td>\n",
       "      <td>4.069586</td>\n",
       "      <td>4.025169</td>\n",
       "      <td>1.0</td>\n",
       "      <td>2.000000</td>\n",
       "      <td>2.000000</td>\n",
       "      <td>4.000000</td>\n",
       "      <td>20.000000</td>\n",
       "    </tr>\n",
       "  </tbody>\n",
       "</table>\n",
       "</div>"
      ],
      "text/plain": [
       "                           count         mean          std  min         25%  \\\n",
       "Administrative           12330.0     2.315166     3.321784  0.0    0.000000   \n",
       "Administrative_Duration  12330.0    80.818611   176.779107  0.0    0.000000   \n",
       "Informational            12330.0     0.503569     1.270156  0.0    0.000000   \n",
       "Informational_Duration   12330.0    34.472398   140.749294  0.0    0.000000   \n",
       "ProductRelated           12330.0    31.731468    44.475503  0.0    7.000000   \n",
       "ProductRelated_Duration  12330.0  1194.746220  1913.669288  0.0  184.137500   \n",
       "BounceRates              12330.0     0.022191     0.048488  0.0    0.000000   \n",
       "ExitRates                12330.0     0.043073     0.048597  0.0    0.014286   \n",
       "PageValues               12330.0     5.889258    18.568437  0.0    0.000000   \n",
       "SpecialDay               12330.0     0.061427     0.198917  0.0    0.000000   \n",
       "OperatingSystems         12330.0     2.124006     0.911325  1.0    2.000000   \n",
       "Browser                  12330.0     2.357097     1.717277  1.0    2.000000   \n",
       "Region                   12330.0     3.147364     2.401591  1.0    1.000000   \n",
       "TrafficType              12330.0     4.069586     4.025169  1.0    2.000000   \n",
       "\n",
       "                                50%          75%           max  \n",
       "Administrative             1.000000     4.000000     27.000000  \n",
       "Administrative_Duration    7.500000    93.256250   3398.750000  \n",
       "Informational              0.000000     0.000000     24.000000  \n",
       "Informational_Duration     0.000000     0.000000   2549.375000  \n",
       "ProductRelated            18.000000    38.000000    705.000000  \n",
       "ProductRelated_Duration  598.936905  1464.157213  63973.522230  \n",
       "BounceRates                0.003112     0.016813      0.200000  \n",
       "ExitRates                  0.025156     0.050000      0.200000  \n",
       "PageValues                 0.000000     0.000000    361.763742  \n",
       "SpecialDay                 0.000000     0.000000      1.000000  \n",
       "OperatingSystems           2.000000     3.000000      8.000000  \n",
       "Browser                    2.000000     2.000000     13.000000  \n",
       "Region                     3.000000     4.000000      9.000000  \n",
       "TrafficType                2.000000     4.000000     20.000000  "
      ]
     },
     "execution_count": 6,
     "metadata": {},
     "output_type": "execute_result"
    }
   ],
   "source": [
    "data.describe().T"
   ]
  },
  {
   "cell_type": "code",
   "execution_count": 7,
   "metadata": {},
   "outputs": [
    {
     "data": {
      "text/plain": [
       "Administrative             0\n",
       "Administrative_Duration    0\n",
       "Informational              0\n",
       "Informational_Duration     0\n",
       "ProductRelated             0\n",
       "ProductRelated_Duration    0\n",
       "BounceRates                0\n",
       "ExitRates                  0\n",
       "PageValues                 0\n",
       "SpecialDay                 0\n",
       "Month                      0\n",
       "OperatingSystems           0\n",
       "Browser                    0\n",
       "Region                     0\n",
       "TrafficType                0\n",
       "VisitorType                0\n",
       "Weekend                    0\n",
       "Revenue                    0\n",
       "dtype: int64"
      ]
     },
     "execution_count": 7,
     "metadata": {},
     "output_type": "execute_result"
    }
   ],
   "source": [
    "data.isnull().sum()"
   ]
  },
  {
   "cell_type": "code",
   "execution_count": 8,
   "metadata": {},
   "outputs": [
    {
     "data": {
      "text/html": [
       "<div>\n",
       "<style scoped>\n",
       "    .dataframe tbody tr th:only-of-type {\n",
       "        vertical-align: middle;\n",
       "    }\n",
       "\n",
       "    .dataframe tbody tr th {\n",
       "        vertical-align: top;\n",
       "    }\n",
       "\n",
       "    .dataframe thead th {\n",
       "        text-align: right;\n",
       "    }\n",
       "</style>\n",
       "<table border=\"1\" class=\"dataframe\">\n",
       "  <thead>\n",
       "    <tr style=\"text-align: right;\">\n",
       "      <th></th>\n",
       "      <th>Administrative</th>\n",
       "      <th>Administrative_Duration</th>\n",
       "      <th>Informational</th>\n",
       "      <th>Informational_Duration</th>\n",
       "      <th>ProductRelated</th>\n",
       "      <th>ProductRelated_Duration</th>\n",
       "      <th>BounceRates</th>\n",
       "      <th>ExitRates</th>\n",
       "      <th>PageValues</th>\n",
       "      <th>SpecialDay</th>\n",
       "      <th>OperatingSystems</th>\n",
       "      <th>Browser</th>\n",
       "      <th>Region</th>\n",
       "      <th>TrafficType</th>\n",
       "      <th>Weekend</th>\n",
       "      <th>Revenue</th>\n",
       "    </tr>\n",
       "  </thead>\n",
       "  <tbody>\n",
       "    <tr>\n",
       "      <th>Administrative</th>\n",
       "      <td>1.000000</td>\n",
       "      <td>0.601583</td>\n",
       "      <td>0.376850</td>\n",
       "      <td>0.255848</td>\n",
       "      <td>0.431119</td>\n",
       "      <td>0.373939</td>\n",
       "      <td>-0.223563</td>\n",
       "      <td>-0.316483</td>\n",
       "      <td>0.098990</td>\n",
       "      <td>-0.094778</td>\n",
       "      <td>-0.006347</td>\n",
       "      <td>-0.025035</td>\n",
       "      <td>-0.005487</td>\n",
       "      <td>-0.033561</td>\n",
       "      <td>0.026417</td>\n",
       "      <td>0.138917</td>\n",
       "    </tr>\n",
       "    <tr>\n",
       "      <th>Administrative_Duration</th>\n",
       "      <td>0.601583</td>\n",
       "      <td>1.000000</td>\n",
       "      <td>0.302710</td>\n",
       "      <td>0.238031</td>\n",
       "      <td>0.289087</td>\n",
       "      <td>0.355422</td>\n",
       "      <td>-0.144170</td>\n",
       "      <td>-0.205798</td>\n",
       "      <td>0.067608</td>\n",
       "      <td>-0.073304</td>\n",
       "      <td>-0.007343</td>\n",
       "      <td>-0.015392</td>\n",
       "      <td>-0.005561</td>\n",
       "      <td>-0.014376</td>\n",
       "      <td>0.014990</td>\n",
       "      <td>0.093587</td>\n",
       "    </tr>\n",
       "    <tr>\n",
       "      <th>Informational</th>\n",
       "      <td>0.376850</td>\n",
       "      <td>0.302710</td>\n",
       "      <td>1.000000</td>\n",
       "      <td>0.618955</td>\n",
       "      <td>0.374164</td>\n",
       "      <td>0.387505</td>\n",
       "      <td>-0.116114</td>\n",
       "      <td>-0.163666</td>\n",
       "      <td>0.048632</td>\n",
       "      <td>-0.048219</td>\n",
       "      <td>-0.009527</td>\n",
       "      <td>-0.038235</td>\n",
       "      <td>-0.029169</td>\n",
       "      <td>-0.034491</td>\n",
       "      <td>0.035785</td>\n",
       "      <td>0.095200</td>\n",
       "    </tr>\n",
       "    <tr>\n",
       "      <th>Informational_Duration</th>\n",
       "      <td>0.255848</td>\n",
       "      <td>0.238031</td>\n",
       "      <td>0.618955</td>\n",
       "      <td>1.000000</td>\n",
       "      <td>0.280046</td>\n",
       "      <td>0.347364</td>\n",
       "      <td>-0.074067</td>\n",
       "      <td>-0.105276</td>\n",
       "      <td>0.030861</td>\n",
       "      <td>-0.030577</td>\n",
       "      <td>-0.009579</td>\n",
       "      <td>-0.019285</td>\n",
       "      <td>-0.027144</td>\n",
       "      <td>-0.024675</td>\n",
       "      <td>0.024078</td>\n",
       "      <td>0.070345</td>\n",
       "    </tr>\n",
       "    <tr>\n",
       "      <th>ProductRelated</th>\n",
       "      <td>0.431119</td>\n",
       "      <td>0.289087</td>\n",
       "      <td>0.374164</td>\n",
       "      <td>0.280046</td>\n",
       "      <td>1.000000</td>\n",
       "      <td>0.860927</td>\n",
       "      <td>-0.204578</td>\n",
       "      <td>-0.292526</td>\n",
       "      <td>0.056282</td>\n",
       "      <td>-0.023958</td>\n",
       "      <td>0.004290</td>\n",
       "      <td>-0.013146</td>\n",
       "      <td>-0.038122</td>\n",
       "      <td>-0.043064</td>\n",
       "      <td>0.016092</td>\n",
       "      <td>0.158538</td>\n",
       "    </tr>\n",
       "    <tr>\n",
       "      <th>ProductRelated_Duration</th>\n",
       "      <td>0.373939</td>\n",
       "      <td>0.355422</td>\n",
       "      <td>0.387505</td>\n",
       "      <td>0.347364</td>\n",
       "      <td>0.860927</td>\n",
       "      <td>1.000000</td>\n",
       "      <td>-0.184541</td>\n",
       "      <td>-0.251984</td>\n",
       "      <td>0.052823</td>\n",
       "      <td>-0.036380</td>\n",
       "      <td>0.002976</td>\n",
       "      <td>-0.007380</td>\n",
       "      <td>-0.033091</td>\n",
       "      <td>-0.036377</td>\n",
       "      <td>0.007311</td>\n",
       "      <td>0.152373</td>\n",
       "    </tr>\n",
       "    <tr>\n",
       "      <th>BounceRates</th>\n",
       "      <td>-0.223563</td>\n",
       "      <td>-0.144170</td>\n",
       "      <td>-0.116114</td>\n",
       "      <td>-0.074067</td>\n",
       "      <td>-0.204578</td>\n",
       "      <td>-0.184541</td>\n",
       "      <td>1.000000</td>\n",
       "      <td>0.913004</td>\n",
       "      <td>-0.119386</td>\n",
       "      <td>0.072702</td>\n",
       "      <td>0.023823</td>\n",
       "      <td>-0.015772</td>\n",
       "      <td>-0.006485</td>\n",
       "      <td>0.078286</td>\n",
       "      <td>-0.046514</td>\n",
       "      <td>-0.150673</td>\n",
       "    </tr>\n",
       "    <tr>\n",
       "      <th>ExitRates</th>\n",
       "      <td>-0.316483</td>\n",
       "      <td>-0.205798</td>\n",
       "      <td>-0.163666</td>\n",
       "      <td>-0.105276</td>\n",
       "      <td>-0.292526</td>\n",
       "      <td>-0.251984</td>\n",
       "      <td>0.913004</td>\n",
       "      <td>1.000000</td>\n",
       "      <td>-0.174498</td>\n",
       "      <td>0.102242</td>\n",
       "      <td>0.014567</td>\n",
       "      <td>-0.004442</td>\n",
       "      <td>-0.008907</td>\n",
       "      <td>0.078616</td>\n",
       "      <td>-0.062587</td>\n",
       "      <td>-0.207071</td>\n",
       "    </tr>\n",
       "    <tr>\n",
       "      <th>PageValues</th>\n",
       "      <td>0.098990</td>\n",
       "      <td>0.067608</td>\n",
       "      <td>0.048632</td>\n",
       "      <td>0.030861</td>\n",
       "      <td>0.056282</td>\n",
       "      <td>0.052823</td>\n",
       "      <td>-0.119386</td>\n",
       "      <td>-0.174498</td>\n",
       "      <td>1.000000</td>\n",
       "      <td>-0.063541</td>\n",
       "      <td>0.018508</td>\n",
       "      <td>0.045592</td>\n",
       "      <td>0.011315</td>\n",
       "      <td>0.012532</td>\n",
       "      <td>0.012002</td>\n",
       "      <td>0.492569</td>\n",
       "    </tr>\n",
       "    <tr>\n",
       "      <th>SpecialDay</th>\n",
       "      <td>-0.094778</td>\n",
       "      <td>-0.073304</td>\n",
       "      <td>-0.048219</td>\n",
       "      <td>-0.030577</td>\n",
       "      <td>-0.023958</td>\n",
       "      <td>-0.036380</td>\n",
       "      <td>0.072702</td>\n",
       "      <td>0.102242</td>\n",
       "      <td>-0.063541</td>\n",
       "      <td>1.000000</td>\n",
       "      <td>0.012652</td>\n",
       "      <td>0.003499</td>\n",
       "      <td>-0.016098</td>\n",
       "      <td>0.052301</td>\n",
       "      <td>-0.016767</td>\n",
       "      <td>-0.082305</td>\n",
       "    </tr>\n",
       "    <tr>\n",
       "      <th>OperatingSystems</th>\n",
       "      <td>-0.006347</td>\n",
       "      <td>-0.007343</td>\n",
       "      <td>-0.009527</td>\n",
       "      <td>-0.009579</td>\n",
       "      <td>0.004290</td>\n",
       "      <td>0.002976</td>\n",
       "      <td>0.023823</td>\n",
       "      <td>0.014567</td>\n",
       "      <td>0.018508</td>\n",
       "      <td>0.012652</td>\n",
       "      <td>1.000000</td>\n",
       "      <td>0.223013</td>\n",
       "      <td>0.076775</td>\n",
       "      <td>0.189154</td>\n",
       "      <td>0.000284</td>\n",
       "      <td>-0.014668</td>\n",
       "    </tr>\n",
       "    <tr>\n",
       "      <th>Browser</th>\n",
       "      <td>-0.025035</td>\n",
       "      <td>-0.015392</td>\n",
       "      <td>-0.038235</td>\n",
       "      <td>-0.019285</td>\n",
       "      <td>-0.013146</td>\n",
       "      <td>-0.007380</td>\n",
       "      <td>-0.015772</td>\n",
       "      <td>-0.004442</td>\n",
       "      <td>0.045592</td>\n",
       "      <td>0.003499</td>\n",
       "      <td>0.223013</td>\n",
       "      <td>1.000000</td>\n",
       "      <td>0.097393</td>\n",
       "      <td>0.111938</td>\n",
       "      <td>-0.040261</td>\n",
       "      <td>0.023984</td>\n",
       "    </tr>\n",
       "    <tr>\n",
       "      <th>Region</th>\n",
       "      <td>-0.005487</td>\n",
       "      <td>-0.005561</td>\n",
       "      <td>-0.029169</td>\n",
       "      <td>-0.027144</td>\n",
       "      <td>-0.038122</td>\n",
       "      <td>-0.033091</td>\n",
       "      <td>-0.006485</td>\n",
       "      <td>-0.008907</td>\n",
       "      <td>0.011315</td>\n",
       "      <td>-0.016098</td>\n",
       "      <td>0.076775</td>\n",
       "      <td>0.097393</td>\n",
       "      <td>1.000000</td>\n",
       "      <td>0.047520</td>\n",
       "      <td>-0.000691</td>\n",
       "      <td>-0.011595</td>\n",
       "    </tr>\n",
       "    <tr>\n",
       "      <th>TrafficType</th>\n",
       "      <td>-0.033561</td>\n",
       "      <td>-0.014376</td>\n",
       "      <td>-0.034491</td>\n",
       "      <td>-0.024675</td>\n",
       "      <td>-0.043064</td>\n",
       "      <td>-0.036377</td>\n",
       "      <td>0.078286</td>\n",
       "      <td>0.078616</td>\n",
       "      <td>0.012532</td>\n",
       "      <td>0.052301</td>\n",
       "      <td>0.189154</td>\n",
       "      <td>0.111938</td>\n",
       "      <td>0.047520</td>\n",
       "      <td>1.000000</td>\n",
       "      <td>-0.002221</td>\n",
       "      <td>-0.005113</td>\n",
       "    </tr>\n",
       "    <tr>\n",
       "      <th>Weekend</th>\n",
       "      <td>0.026417</td>\n",
       "      <td>0.014990</td>\n",
       "      <td>0.035785</td>\n",
       "      <td>0.024078</td>\n",
       "      <td>0.016092</td>\n",
       "      <td>0.007311</td>\n",
       "      <td>-0.046514</td>\n",
       "      <td>-0.062587</td>\n",
       "      <td>0.012002</td>\n",
       "      <td>-0.016767</td>\n",
       "      <td>0.000284</td>\n",
       "      <td>-0.040261</td>\n",
       "      <td>-0.000691</td>\n",
       "      <td>-0.002221</td>\n",
       "      <td>1.000000</td>\n",
       "      <td>0.029295</td>\n",
       "    </tr>\n",
       "    <tr>\n",
       "      <th>Revenue</th>\n",
       "      <td>0.138917</td>\n",
       "      <td>0.093587</td>\n",
       "      <td>0.095200</td>\n",
       "      <td>0.070345</td>\n",
       "      <td>0.158538</td>\n",
       "      <td>0.152373</td>\n",
       "      <td>-0.150673</td>\n",
       "      <td>-0.207071</td>\n",
       "      <td>0.492569</td>\n",
       "      <td>-0.082305</td>\n",
       "      <td>-0.014668</td>\n",
       "      <td>0.023984</td>\n",
       "      <td>-0.011595</td>\n",
       "      <td>-0.005113</td>\n",
       "      <td>0.029295</td>\n",
       "      <td>1.000000</td>\n",
       "    </tr>\n",
       "  </tbody>\n",
       "</table>\n",
       "</div>"
      ],
      "text/plain": [
       "                         Administrative  Administrative_Duration  \\\n",
       "Administrative                 1.000000                 0.601583   \n",
       "Administrative_Duration        0.601583                 1.000000   \n",
       "Informational                  0.376850                 0.302710   \n",
       "Informational_Duration         0.255848                 0.238031   \n",
       "ProductRelated                 0.431119                 0.289087   \n",
       "ProductRelated_Duration        0.373939                 0.355422   \n",
       "BounceRates                   -0.223563                -0.144170   \n",
       "ExitRates                     -0.316483                -0.205798   \n",
       "PageValues                     0.098990                 0.067608   \n",
       "SpecialDay                    -0.094778                -0.073304   \n",
       "OperatingSystems              -0.006347                -0.007343   \n",
       "Browser                       -0.025035                -0.015392   \n",
       "Region                        -0.005487                -0.005561   \n",
       "TrafficType                   -0.033561                -0.014376   \n",
       "Weekend                        0.026417                 0.014990   \n",
       "Revenue                        0.138917                 0.093587   \n",
       "\n",
       "                         Informational  Informational_Duration  \\\n",
       "Administrative                0.376850                0.255848   \n",
       "Administrative_Duration       0.302710                0.238031   \n",
       "Informational                 1.000000                0.618955   \n",
       "Informational_Duration        0.618955                1.000000   \n",
       "ProductRelated                0.374164                0.280046   \n",
       "ProductRelated_Duration       0.387505                0.347364   \n",
       "BounceRates                  -0.116114               -0.074067   \n",
       "ExitRates                    -0.163666               -0.105276   \n",
       "PageValues                    0.048632                0.030861   \n",
       "SpecialDay                   -0.048219               -0.030577   \n",
       "OperatingSystems             -0.009527               -0.009579   \n",
       "Browser                      -0.038235               -0.019285   \n",
       "Region                       -0.029169               -0.027144   \n",
       "TrafficType                  -0.034491               -0.024675   \n",
       "Weekend                       0.035785                0.024078   \n",
       "Revenue                       0.095200                0.070345   \n",
       "\n",
       "                         ProductRelated  ProductRelated_Duration  BounceRates  \\\n",
       "Administrative                 0.431119                 0.373939    -0.223563   \n",
       "Administrative_Duration        0.289087                 0.355422    -0.144170   \n",
       "Informational                  0.374164                 0.387505    -0.116114   \n",
       "Informational_Duration         0.280046                 0.347364    -0.074067   \n",
       "ProductRelated                 1.000000                 0.860927    -0.204578   \n",
       "ProductRelated_Duration        0.860927                 1.000000    -0.184541   \n",
       "BounceRates                   -0.204578                -0.184541     1.000000   \n",
       "ExitRates                     -0.292526                -0.251984     0.913004   \n",
       "PageValues                     0.056282                 0.052823    -0.119386   \n",
       "SpecialDay                    -0.023958                -0.036380     0.072702   \n",
       "OperatingSystems               0.004290                 0.002976     0.023823   \n",
       "Browser                       -0.013146                -0.007380    -0.015772   \n",
       "Region                        -0.038122                -0.033091    -0.006485   \n",
       "TrafficType                   -0.043064                -0.036377     0.078286   \n",
       "Weekend                        0.016092                 0.007311    -0.046514   \n",
       "Revenue                        0.158538                 0.152373    -0.150673   \n",
       "\n",
       "                         ExitRates  PageValues  SpecialDay  OperatingSystems  \\\n",
       "Administrative           -0.316483    0.098990   -0.094778         -0.006347   \n",
       "Administrative_Duration  -0.205798    0.067608   -0.073304         -0.007343   \n",
       "Informational            -0.163666    0.048632   -0.048219         -0.009527   \n",
       "Informational_Duration   -0.105276    0.030861   -0.030577         -0.009579   \n",
       "ProductRelated           -0.292526    0.056282   -0.023958          0.004290   \n",
       "ProductRelated_Duration  -0.251984    0.052823   -0.036380          0.002976   \n",
       "BounceRates               0.913004   -0.119386    0.072702          0.023823   \n",
       "ExitRates                 1.000000   -0.174498    0.102242          0.014567   \n",
       "PageValues               -0.174498    1.000000   -0.063541          0.018508   \n",
       "SpecialDay                0.102242   -0.063541    1.000000          0.012652   \n",
       "OperatingSystems          0.014567    0.018508    0.012652          1.000000   \n",
       "Browser                  -0.004442    0.045592    0.003499          0.223013   \n",
       "Region                   -0.008907    0.011315   -0.016098          0.076775   \n",
       "TrafficType               0.078616    0.012532    0.052301          0.189154   \n",
       "Weekend                  -0.062587    0.012002   -0.016767          0.000284   \n",
       "Revenue                  -0.207071    0.492569   -0.082305         -0.014668   \n",
       "\n",
       "                          Browser    Region  TrafficType   Weekend   Revenue  \n",
       "Administrative          -0.025035 -0.005487    -0.033561  0.026417  0.138917  \n",
       "Administrative_Duration -0.015392 -0.005561    -0.014376  0.014990  0.093587  \n",
       "Informational           -0.038235 -0.029169    -0.034491  0.035785  0.095200  \n",
       "Informational_Duration  -0.019285 -0.027144    -0.024675  0.024078  0.070345  \n",
       "ProductRelated          -0.013146 -0.038122    -0.043064  0.016092  0.158538  \n",
       "ProductRelated_Duration -0.007380 -0.033091    -0.036377  0.007311  0.152373  \n",
       "BounceRates             -0.015772 -0.006485     0.078286 -0.046514 -0.150673  \n",
       "ExitRates               -0.004442 -0.008907     0.078616 -0.062587 -0.207071  \n",
       "PageValues               0.045592  0.011315     0.012532  0.012002  0.492569  \n",
       "SpecialDay               0.003499 -0.016098     0.052301 -0.016767 -0.082305  \n",
       "OperatingSystems         0.223013  0.076775     0.189154  0.000284 -0.014668  \n",
       "Browser                  1.000000  0.097393     0.111938 -0.040261  0.023984  \n",
       "Region                   0.097393  1.000000     0.047520 -0.000691 -0.011595  \n",
       "TrafficType              0.111938  0.047520     1.000000 -0.002221 -0.005113  \n",
       "Weekend                 -0.040261 -0.000691    -0.002221  1.000000  0.029295  \n",
       "Revenue                  0.023984 -0.011595    -0.005113  0.029295  1.000000  "
      ]
     },
     "execution_count": 8,
     "metadata": {},
     "output_type": "execute_result"
    }
   ],
   "source": [
    "data.corr()"
   ]
  },
  {
   "cell_type": "code",
   "execution_count": 9,
   "metadata": {},
   "outputs": [
    {
     "data": {
      "text/plain": [
       "Index(['Administrative', 'Administrative_Duration', 'Informational',\n",
       "       'Informational_Duration', 'ProductRelated', 'ProductRelated_Duration',\n",
       "       'BounceRates', 'ExitRates', 'PageValues', 'SpecialDay', 'Month',\n",
       "       'OperatingSystems', 'Browser', 'Region', 'TrafficType', 'VisitorType',\n",
       "       'Weekend', 'Revenue'],\n",
       "      dtype='object')"
      ]
     },
     "execution_count": 9,
     "metadata": {},
     "output_type": "execute_result"
    }
   ],
   "source": [
    "data.columns"
   ]
  },
  {
   "cell_type": "code",
   "execution_count": 10,
   "metadata": {},
   "outputs": [
    {
     "data": {
      "text/plain": [
       "(12330, 18)"
      ]
     },
     "execution_count": 10,
     "metadata": {},
     "output_type": "execute_result"
    }
   ],
   "source": [
    "data.shape"
   ]
  },
  {
   "cell_type": "markdown",
   "metadata": {},
   "source": [
    "## The dataset comprises of 12330 rows with 18 columns , also there are currently no null values in our dataset"
   ]
  },
  {
   "cell_type": "code",
   "execution_count": null,
   "metadata": {},
   "outputs": [],
   "source": []
  },
  {
   "cell_type": "markdown",
   "metadata": {},
   "source": [
    "# K-Means Clustering"
   ]
  },
  {
   "cell_type": "code",
   "execution_count": 11,
   "metadata": {},
   "outputs": [],
   "source": [
    "df=data.drop([\"Revenue\"],axis=1)"
   ]
  },
  {
   "cell_type": "code",
   "execution_count": 12,
   "metadata": {},
   "outputs": [],
   "source": [
    "df[\"Weekend\"]=df[\"Weekend\"].astype(\"category\")"
   ]
  },
  {
   "cell_type": "code",
   "execution_count": 13,
   "metadata": {},
   "outputs": [],
   "source": [
    "df=pd.get_dummies(df,drop_first=True)"
   ]
  },
  {
   "cell_type": "code",
   "execution_count": 14,
   "metadata": {},
   "outputs": [],
   "source": [
    "from sklearn.preprocessing import StandardScaler\n",
    "sc=StandardScaler()\n",
    "df[[\"ProductRelated_Duration\",\"BounceRates\",\"ExitRates\",\"PageValues\",\"SpecialDay\"]]=pd.DataFrame(sc.fit_transform(df[[\"ProductRelated_Duration\",\"BounceRates\",\"ExitRates\",\"PageValues\",\"SpecialDay\"]]))"
   ]
  },
  {
   "cell_type": "code",
   "execution_count": 15,
   "metadata": {},
   "outputs": [
    {
     "data": {
      "text/html": [
       "<div>\n",
       "<style scoped>\n",
       "    .dataframe tbody tr th:only-of-type {\n",
       "        vertical-align: middle;\n",
       "    }\n",
       "\n",
       "    .dataframe tbody tr th {\n",
       "        vertical-align: top;\n",
       "    }\n",
       "\n",
       "    .dataframe thead th {\n",
       "        text-align: right;\n",
       "    }\n",
       "</style>\n",
       "<table border=\"1\" class=\"dataframe\">\n",
       "  <thead>\n",
       "    <tr style=\"text-align: right;\">\n",
       "      <th></th>\n",
       "      <th>Administrative</th>\n",
       "      <th>Administrative_Duration</th>\n",
       "      <th>Informational</th>\n",
       "      <th>Informational_Duration</th>\n",
       "      <th>ProductRelated</th>\n",
       "      <th>ProductRelated_Duration</th>\n",
       "      <th>BounceRates</th>\n",
       "      <th>ExitRates</th>\n",
       "      <th>PageValues</th>\n",
       "      <th>SpecialDay</th>\n",
       "      <th>...</th>\n",
       "      <th>Month_Jul</th>\n",
       "      <th>Month_June</th>\n",
       "      <th>Month_Mar</th>\n",
       "      <th>Month_May</th>\n",
       "      <th>Month_Nov</th>\n",
       "      <th>Month_Oct</th>\n",
       "      <th>Month_Sep</th>\n",
       "      <th>VisitorType_Other</th>\n",
       "      <th>VisitorType_Returning_Visitor</th>\n",
       "      <th>Weekend_True</th>\n",
       "    </tr>\n",
       "  </thead>\n",
       "  <tbody>\n",
       "    <tr>\n",
       "      <th>0</th>\n",
       "      <td>0</td>\n",
       "      <td>0.0</td>\n",
       "      <td>0</td>\n",
       "      <td>0.0</td>\n",
       "      <td>1</td>\n",
       "      <td>-0.624348</td>\n",
       "      <td>3.667189</td>\n",
       "      <td>3.229316</td>\n",
       "      <td>-0.317178</td>\n",
       "      <td>-0.308821</td>\n",
       "      <td>...</td>\n",
       "      <td>0</td>\n",
       "      <td>0</td>\n",
       "      <td>0</td>\n",
       "      <td>0</td>\n",
       "      <td>0</td>\n",
       "      <td>0</td>\n",
       "      <td>0</td>\n",
       "      <td>0</td>\n",
       "      <td>1</td>\n",
       "      <td>0</td>\n",
       "    </tr>\n",
       "    <tr>\n",
       "      <th>1</th>\n",
       "      <td>0</td>\n",
       "      <td>0.0</td>\n",
       "      <td>0</td>\n",
       "      <td>0.0</td>\n",
       "      <td>2</td>\n",
       "      <td>-0.590903</td>\n",
       "      <td>-0.457683</td>\n",
       "      <td>1.171473</td>\n",
       "      <td>-0.317178</td>\n",
       "      <td>-0.308821</td>\n",
       "      <td>...</td>\n",
       "      <td>0</td>\n",
       "      <td>0</td>\n",
       "      <td>0</td>\n",
       "      <td>0</td>\n",
       "      <td>0</td>\n",
       "      <td>0</td>\n",
       "      <td>0</td>\n",
       "      <td>0</td>\n",
       "      <td>1</td>\n",
       "      <td>0</td>\n",
       "    </tr>\n",
       "    <tr>\n",
       "      <th>2</th>\n",
       "      <td>0</td>\n",
       "      <td>0.0</td>\n",
       "      <td>0</td>\n",
       "      <td>0.0</td>\n",
       "      <td>1</td>\n",
       "      <td>-0.624348</td>\n",
       "      <td>3.667189</td>\n",
       "      <td>3.229316</td>\n",
       "      <td>-0.317178</td>\n",
       "      <td>-0.308821</td>\n",
       "      <td>...</td>\n",
       "      <td>0</td>\n",
       "      <td>0</td>\n",
       "      <td>0</td>\n",
       "      <td>0</td>\n",
       "      <td>0</td>\n",
       "      <td>0</td>\n",
       "      <td>0</td>\n",
       "      <td>0</td>\n",
       "      <td>1</td>\n",
       "      <td>0</td>\n",
       "    </tr>\n",
       "    <tr>\n",
       "      <th>3</th>\n",
       "      <td>0</td>\n",
       "      <td>0.0</td>\n",
       "      <td>0</td>\n",
       "      <td>0.0</td>\n",
       "      <td>2</td>\n",
       "      <td>-0.622954</td>\n",
       "      <td>0.573535</td>\n",
       "      <td>1.994610</td>\n",
       "      <td>-0.317178</td>\n",
       "      <td>-0.308821</td>\n",
       "      <td>...</td>\n",
       "      <td>0</td>\n",
       "      <td>0</td>\n",
       "      <td>0</td>\n",
       "      <td>0</td>\n",
       "      <td>0</td>\n",
       "      <td>0</td>\n",
       "      <td>0</td>\n",
       "      <td>0</td>\n",
       "      <td>1</td>\n",
       "      <td>0</td>\n",
       "    </tr>\n",
       "    <tr>\n",
       "      <th>4</th>\n",
       "      <td>0</td>\n",
       "      <td>0.0</td>\n",
       "      <td>0</td>\n",
       "      <td>0.0</td>\n",
       "      <td>10</td>\n",
       "      <td>-0.296430</td>\n",
       "      <td>-0.045196</td>\n",
       "      <td>0.142551</td>\n",
       "      <td>-0.317178</td>\n",
       "      <td>-0.308821</td>\n",
       "      <td>...</td>\n",
       "      <td>0</td>\n",
       "      <td>0</td>\n",
       "      <td>0</td>\n",
       "      <td>0</td>\n",
       "      <td>0</td>\n",
       "      <td>0</td>\n",
       "      <td>0</td>\n",
       "      <td>0</td>\n",
       "      <td>1</td>\n",
       "      <td>1</td>\n",
       "    </tr>\n",
       "  </tbody>\n",
       "</table>\n",
       "<p>5 rows × 26 columns</p>\n",
       "</div>"
      ],
      "text/plain": [
       "   Administrative  Administrative_Duration  Informational  \\\n",
       "0               0                      0.0              0   \n",
       "1               0                      0.0              0   \n",
       "2               0                      0.0              0   \n",
       "3               0                      0.0              0   \n",
       "4               0                      0.0              0   \n",
       "\n",
       "   Informational_Duration  ProductRelated  ProductRelated_Duration  \\\n",
       "0                     0.0               1                -0.624348   \n",
       "1                     0.0               2                -0.590903   \n",
       "2                     0.0               1                -0.624348   \n",
       "3                     0.0               2                -0.622954   \n",
       "4                     0.0              10                -0.296430   \n",
       "\n",
       "   BounceRates  ExitRates  PageValues  SpecialDay  ...  Month_Jul  Month_June  \\\n",
       "0     3.667189   3.229316   -0.317178   -0.308821  ...          0           0   \n",
       "1    -0.457683   1.171473   -0.317178   -0.308821  ...          0           0   \n",
       "2     3.667189   3.229316   -0.317178   -0.308821  ...          0           0   \n",
       "3     0.573535   1.994610   -0.317178   -0.308821  ...          0           0   \n",
       "4    -0.045196   0.142551   -0.317178   -0.308821  ...          0           0   \n",
       "\n",
       "   Month_Mar  Month_May  Month_Nov  Month_Oct  Month_Sep  VisitorType_Other  \\\n",
       "0          0          0          0          0          0                  0   \n",
       "1          0          0          0          0          0                  0   \n",
       "2          0          0          0          0          0                  0   \n",
       "3          0          0          0          0          0                  0   \n",
       "4          0          0          0          0          0                  0   \n",
       "\n",
       "   VisitorType_Returning_Visitor  Weekend_True  \n",
       "0                              1             0  \n",
       "1                              1             0  \n",
       "2                              1             0  \n",
       "3                              1             0  \n",
       "4                              1             1  \n",
       "\n",
       "[5 rows x 26 columns]"
      ]
     },
     "execution_count": 15,
     "metadata": {},
     "output_type": "execute_result"
    }
   ],
   "source": [
    "df.head()"
   ]
  },
  {
   "cell_type": "code",
   "execution_count": null,
   "metadata": {},
   "outputs": [],
   "source": []
  },
  {
   "cell_type": "code",
   "execution_count": 23,
   "metadata": {},
   "outputs": [],
   "source": [
    "plt.rcParams['figure.figsize'] = (16, 9)\n",
    "\n",
    "plt.style.use('ggplot')\n",
    "\n",
    "from sklearn import metrics"
   ]
  },
  {
   "cell_type": "code",
   "execution_count": null,
   "metadata": {},
   "outputs": [],
   "source": []
  },
  {
   "cell_type": "code",
   "execution_count": 24,
   "metadata": {},
   "outputs": [],
   "source": [
    "from sklearn.cluster import KMeans\n",
    "cluster_range = range( 1, 10)\n",
    "cluster_errors = []\n",
    "cluster_sil_scores = []\n",
    "for num_clusters in cluster_range:\n",
    "  clusters = KMeans( num_clusters, n_init = 5)\n",
    "  clusters.fit(df)\n",
    "  labels = clusters.labels_                    \n",
    "  centroids = clusters.cluster_centers_ \n",
    "  cluster_errors.append( clusters.inertia_ )\n",
    "  \n"
   ]
  },
  {
   "cell_type": "code",
   "execution_count": 25,
   "metadata": {},
   "outputs": [
    {
     "data": {
      "text/html": [
       "<div>\n",
       "<style scoped>\n",
       "    .dataframe tbody tr th:only-of-type {\n",
       "        vertical-align: middle;\n",
       "    }\n",
       "\n",
       "    .dataframe tbody tr th {\n",
       "        vertical-align: top;\n",
       "    }\n",
       "\n",
       "    .dataframe thead th {\n",
       "        text-align: right;\n",
       "    }\n",
       "</style>\n",
       "<table border=\"1\" class=\"dataframe\">\n",
       "  <thead>\n",
       "    <tr style=\"text-align: right;\">\n",
       "      <th></th>\n",
       "      <th>num_clusters</th>\n",
       "      <th>cluster_errors</th>\n",
       "    </tr>\n",
       "  </thead>\n",
       "  <tbody>\n",
       "    <tr>\n",
       "      <th>0</th>\n",
       "      <td>1</td>\n",
       "      <td>6.544699e+08</td>\n",
       "    </tr>\n",
       "    <tr>\n",
       "      <th>1</th>\n",
       "      <td>2</td>\n",
       "      <td>4.077420e+08</td>\n",
       "    </tr>\n",
       "    <tr>\n",
       "      <th>2</th>\n",
       "      <td>3</td>\n",
       "      <td>2.788418e+08</td>\n",
       "    </tr>\n",
       "    <tr>\n",
       "      <th>3</th>\n",
       "      <td>4</td>\n",
       "      <td>1.961010e+08</td>\n",
       "    </tr>\n",
       "    <tr>\n",
       "      <th>4</th>\n",
       "      <td>5</td>\n",
       "      <td>1.614485e+08</td>\n",
       "    </tr>\n",
       "    <tr>\n",
       "      <th>5</th>\n",
       "      <td>6</td>\n",
       "      <td>1.293275e+08</td>\n",
       "    </tr>\n",
       "    <tr>\n",
       "      <th>6</th>\n",
       "      <td>7</td>\n",
       "      <td>1.111116e+08</td>\n",
       "    </tr>\n",
       "    <tr>\n",
       "      <th>7</th>\n",
       "      <td>8</td>\n",
       "      <td>9.790576e+07</td>\n",
       "    </tr>\n",
       "    <tr>\n",
       "      <th>8</th>\n",
       "      <td>9</td>\n",
       "      <td>8.461827e+07</td>\n",
       "    </tr>\n",
       "  </tbody>\n",
       "</table>\n",
       "</div>"
      ],
      "text/plain": [
       "   num_clusters  cluster_errors\n",
       "0             1    6.544699e+08\n",
       "1             2    4.077420e+08\n",
       "2             3    2.788418e+08\n",
       "3             4    1.961010e+08\n",
       "4             5    1.614485e+08\n",
       "5             6    1.293275e+08\n",
       "6             7    1.111116e+08\n",
       "7             8    9.790576e+07\n",
       "8             9    8.461827e+07"
      ]
     },
     "execution_count": 25,
     "metadata": {},
     "output_type": "execute_result"
    }
   ],
   "source": [
    "\n",
    "\n",
    "# Dataframe of cluster_range and cluster_errors\n",
    "clus_df = pd.DataFrame( { \"num_clusters\":cluster_range, \"cluster_errors\": cluster_errors} )\n",
    "clus_df[0:15]\n",
    "\n",
    "\n"
   ]
  },
  {
   "cell_type": "code",
   "execution_count": 28,
   "metadata": {},
   "outputs": [
    {
     "data": {
      "text/plain": [
       "[<matplotlib.lines.Line2D at 0x20306231898>]"
      ]
     },
     "execution_count": 28,
     "metadata": {},
     "output_type": "execute_result"
    },
    {
     "data": {
      "image/png": "[encoded data removed]",
      "text/plain": [
       "<Figure size 1440x720 with 1 Axes>"
      ]
     },
     "metadata": {},
     "output_type": "display_data"
    }
   ],
   "source": [
    "# Elbow plot\n",
    "\n",
    "plt.figure(figsize=(20,10))\n",
    "plt.plot( clus_df.num_clusters, clus_df.cluster_errors, marker = \"o\" )"
   ]
  },
  {
   "cell_type": "code",
   "execution_count": null,
   "metadata": {},
   "outputs": [],
   "source": []
  },
  {
   "cell_type": "markdown",
   "metadata": {},
   "source": [
    "## The no. of clusters inferred from this elbow plot seems to be 4, but there is also highly possibility of no. of clusters = 3"
   ]
  },
  {
   "cell_type": "code",
   "execution_count": null,
   "metadata": {},
   "outputs": [],
   "source": []
  },
  {
   "cell_type": "markdown",
   "metadata": {},
   "source": [
    "# Agglomerative Clustering"
   ]
  },
  {
   "cell_type": "code",
   "execution_count": 29,
   "metadata": {
    "colab": {},
    "colab_type": "code",
    "id": "RcrsK7wsQ64L"
   },
   "outputs": [],
   "source": [
    "from sklearn.cluster import AgglomerativeClustering "
   ]
  },
  {
   "cell_type": "markdown",
   "metadata": {},
   "source": [
    "## Dendogram"
   ]
  },
  {
   "cell_type": "code",
   "execution_count": 30,
   "metadata": {},
   "outputs": [
    {
     "data": {
      "image/png": "[encoded data removed]",
      "text/plain": [
       "<Figure size 1440x2160 with 1 Axes>"
      ]
     },
     "metadata": {},
     "output_type": "display_data"
    }
   ],
   "source": [
    "import scipy.cluster.hierarchy as shc\n",
    "plt.figure(figsize=(20, 30))  \n",
    "plt.title(\"Dendrograms\")  \n",
    "dend = shc.dendrogram(shc.linkage(df, method='ward'))"
   ]
  },
  {
   "cell_type": "markdown",
   "metadata": {},
   "source": [
    "### Cutting the dendogram at 17500 for better analysis"
   ]
  },
  {
   "cell_type": "code",
   "execution_count": 31,
   "metadata": {},
   "outputs": [
    {
     "data": {
      "text/plain": [
       "<matplotlib.lines.Line2D at 0x20316560898>"
      ]
     },
     "execution_count": 31,
     "metadata": {},
     "output_type": "execute_result"
    },
    {
     "data": {
      "image/png": "[encoded data removed]",
      "text/plain": [
       "<Figure size 504x720 with 1 Axes>"
      ]
     },
     "metadata": {},
     "output_type": "display_data"
    }
   ],
   "source": [
    "plt.figure(figsize=(7, 10))  \n",
    "plt.title(\"Dendrograms\")  \n",
    "dend = shc.dendrogram(shc.linkage(df, method='ward'))\n",
    "plt.axhline(y=17500, color='r', linestyle='--')"
   ]
  },
  {
   "cell_type": "markdown",
   "metadata": {},
   "source": [
    "##  Dendogram is giving us 3 main clusters that are clearly visible , also through  KMEANS were already confused between 4 and 3 , so from both analysis we gonna be taking no. of clusters = 3"
   ]
  },
  {
   "cell_type": "code",
   "execution_count": null,
   "metadata": {},
   "outputs": [],
   "source": []
  },
  {
   "cell_type": "markdown",
   "metadata": {},
   "source": [
    "# Converting Unsupervised problem into Supervised problem"
   ]
  },
  {
   "cell_type": "markdown",
   "metadata": {},
   "source": [
    "## KMeans"
   ]
  },
  {
   "cell_type": "code",
   "execution_count": 32,
   "metadata": {},
   "outputs": [
    {
     "data": {
      "text/html": [
       "<div>\n",
       "<style scoped>\n",
       "    .dataframe tbody tr th:only-of-type {\n",
       "        vertical-align: middle;\n",
       "    }\n",
       "\n",
       "    .dataframe tbody tr th {\n",
       "        vertical-align: top;\n",
       "    }\n",
       "\n",
       "    .dataframe thead th {\n",
       "        text-align: right;\n",
       "    }\n",
       "</style>\n",
       "<table border=\"1\" class=\"dataframe\">\n",
       "  <thead>\n",
       "    <tr style=\"text-align: right;\">\n",
       "      <th></th>\n",
       "      <th>Administrative</th>\n",
       "      <th>Administrative_Duration</th>\n",
       "      <th>Informational</th>\n",
       "      <th>Informational_Duration</th>\n",
       "      <th>ProductRelated</th>\n",
       "      <th>ProductRelated_Duration</th>\n",
       "      <th>BounceRates</th>\n",
       "      <th>ExitRates</th>\n",
       "      <th>PageValues</th>\n",
       "      <th>SpecialDay</th>\n",
       "      <th>...</th>\n",
       "      <th>Month_Jul</th>\n",
       "      <th>Month_June</th>\n",
       "      <th>Month_Mar</th>\n",
       "      <th>Month_May</th>\n",
       "      <th>Month_Nov</th>\n",
       "      <th>Month_Oct</th>\n",
       "      <th>Month_Sep</th>\n",
       "      <th>VisitorType_Other</th>\n",
       "      <th>VisitorType_Returning_Visitor</th>\n",
       "      <th>Weekend_True</th>\n",
       "    </tr>\n",
       "  </thead>\n",
       "  <tbody>\n",
       "    <tr>\n",
       "      <th>0</th>\n",
       "      <td>0</td>\n",
       "      <td>0.0</td>\n",
       "      <td>0</td>\n",
       "      <td>0.0</td>\n",
       "      <td>1</td>\n",
       "      <td>-0.624348</td>\n",
       "      <td>3.667189</td>\n",
       "      <td>3.229316</td>\n",
       "      <td>-0.317178</td>\n",
       "      <td>-0.308821</td>\n",
       "      <td>...</td>\n",
       "      <td>0</td>\n",
       "      <td>0</td>\n",
       "      <td>0</td>\n",
       "      <td>0</td>\n",
       "      <td>0</td>\n",
       "      <td>0</td>\n",
       "      <td>0</td>\n",
       "      <td>0</td>\n",
       "      <td>1</td>\n",
       "      <td>0</td>\n",
       "    </tr>\n",
       "    <tr>\n",
       "      <th>1</th>\n",
       "      <td>0</td>\n",
       "      <td>0.0</td>\n",
       "      <td>0</td>\n",
       "      <td>0.0</td>\n",
       "      <td>2</td>\n",
       "      <td>-0.590903</td>\n",
       "      <td>-0.457683</td>\n",
       "      <td>1.171473</td>\n",
       "      <td>-0.317178</td>\n",
       "      <td>-0.308821</td>\n",
       "      <td>...</td>\n",
       "      <td>0</td>\n",
       "      <td>0</td>\n",
       "      <td>0</td>\n",
       "      <td>0</td>\n",
       "      <td>0</td>\n",
       "      <td>0</td>\n",
       "      <td>0</td>\n",
       "      <td>0</td>\n",
       "      <td>1</td>\n",
       "      <td>0</td>\n",
       "    </tr>\n",
       "    <tr>\n",
       "      <th>2</th>\n",
       "      <td>0</td>\n",
       "      <td>0.0</td>\n",
       "      <td>0</td>\n",
       "      <td>0.0</td>\n",
       "      <td>1</td>\n",
       "      <td>-0.624348</td>\n",
       "      <td>3.667189</td>\n",
       "      <td>3.229316</td>\n",
       "      <td>-0.317178</td>\n",
       "      <td>-0.308821</td>\n",
       "      <td>...</td>\n",
       "      <td>0</td>\n",
       "      <td>0</td>\n",
       "      <td>0</td>\n",
       "      <td>0</td>\n",
       "      <td>0</td>\n",
       "      <td>0</td>\n",
       "      <td>0</td>\n",
       "      <td>0</td>\n",
       "      <td>1</td>\n",
       "      <td>0</td>\n",
       "    </tr>\n",
       "    <tr>\n",
       "      <th>3</th>\n",
       "      <td>0</td>\n",
       "      <td>0.0</td>\n",
       "      <td>0</td>\n",
       "      <td>0.0</td>\n",
       "      <td>2</td>\n",
       "      <td>-0.622954</td>\n",
       "      <td>0.573535</td>\n",
       "      <td>1.994610</td>\n",
       "      <td>-0.317178</td>\n",
       "      <td>-0.308821</td>\n",
       "      <td>...</td>\n",
       "      <td>0</td>\n",
       "      <td>0</td>\n",
       "      <td>0</td>\n",
       "      <td>0</td>\n",
       "      <td>0</td>\n",
       "      <td>0</td>\n",
       "      <td>0</td>\n",
       "      <td>0</td>\n",
       "      <td>1</td>\n",
       "      <td>0</td>\n",
       "    </tr>\n",
       "    <tr>\n",
       "      <th>4</th>\n",
       "      <td>0</td>\n",
       "      <td>0.0</td>\n",
       "      <td>0</td>\n",
       "      <td>0.0</td>\n",
       "      <td>10</td>\n",
       "      <td>-0.296430</td>\n",
       "      <td>-0.045196</td>\n",
       "      <td>0.142551</td>\n",
       "      <td>-0.317178</td>\n",
       "      <td>-0.308821</td>\n",
       "      <td>...</td>\n",
       "      <td>0</td>\n",
       "      <td>0</td>\n",
       "      <td>0</td>\n",
       "      <td>0</td>\n",
       "      <td>0</td>\n",
       "      <td>0</td>\n",
       "      <td>0</td>\n",
       "      <td>0</td>\n",
       "      <td>1</td>\n",
       "      <td>1</td>\n",
       "    </tr>\n",
       "  </tbody>\n",
       "</table>\n",
       "<p>5 rows × 26 columns</p>\n",
       "</div>"
      ],
      "text/plain": [
       "   Administrative  Administrative_Duration  Informational  \\\n",
       "0               0                      0.0              0   \n",
       "1               0                      0.0              0   \n",
       "2               0                      0.0              0   \n",
       "3               0                      0.0              0   \n",
       "4               0                      0.0              0   \n",
       "\n",
       "   Informational_Duration  ProductRelated  ProductRelated_Duration  \\\n",
       "0                     0.0               1                -0.624348   \n",
       "1                     0.0               2                -0.590903   \n",
       "2                     0.0               1                -0.624348   \n",
       "3                     0.0               2                -0.622954   \n",
       "4                     0.0              10                -0.296430   \n",
       "\n",
       "   BounceRates  ExitRates  PageValues  SpecialDay  ...  Month_Jul  Month_June  \\\n",
       "0     3.667189   3.229316   -0.317178   -0.308821  ...          0           0   \n",
       "1    -0.457683   1.171473   -0.317178   -0.308821  ...          0           0   \n",
       "2     3.667189   3.229316   -0.317178   -0.308821  ...          0           0   \n",
       "3     0.573535   1.994610   -0.317178   -0.308821  ...          0           0   \n",
       "4    -0.045196   0.142551   -0.317178   -0.308821  ...          0           0   \n",
       "\n",
       "   Month_Mar  Month_May  Month_Nov  Month_Oct  Month_Sep  VisitorType_Other  \\\n",
       "0          0          0          0          0          0                  0   \n",
       "1          0          0          0          0          0                  0   \n",
       "2          0          0          0          0          0                  0   \n",
       "3          0          0          0          0          0                  0   \n",
       "4          0          0          0          0          0                  0   \n",
       "\n",
       "   VisitorType_Returning_Visitor  Weekend_True  \n",
       "0                              1             0  \n",
       "1                              1             0  \n",
       "2                              1             0  \n",
       "3                              1             0  \n",
       "4                              1             1  \n",
       "\n",
       "[5 rows x 26 columns]"
      ]
     },
     "execution_count": 32,
     "metadata": {},
     "output_type": "execute_result"
    }
   ],
   "source": [
    "df.head()"
   ]
  },
  {
   "cell_type": "code",
   "execution_count": null,
   "metadata": {},
   "outputs": [],
   "source": []
  },
  {
   "cell_type": "code",
   "execution_count": 33,
   "metadata": {},
   "outputs": [
    {
     "name": "stdout",
     "output_type": "stream",
     "text": [
      "[0 0 0 ... 0 0 0] 278841776.6858006\n"
     ]
    }
   ],
   "source": [
    "batman= KMeans(n_clusters = 3,init = 'k-means++',max_iter = 750,n_init =2)\n",
    "              \n",
    "batman.fit(df)\n",
    "print(batman.labels_,(batman.inertia_))\n",
    "    \n",
    "df[\"labels\"]=batman.labels_"
   ]
  },
  {
   "cell_type": "code",
   "execution_count": 34,
   "metadata": {},
   "outputs": [],
   "source": [
    "# grouping data based on data\n",
    "group1=df[df.labels==0]\n",
    "group2=df[df.labels==1]\n",
    "group3=df[df.labels==2]\n"
   ]
  },
  {
   "cell_type": "code",
   "execution_count": 35,
   "metadata": {},
   "outputs": [
    {
     "data": {
      "text/html": [
       "<div>\n",
       "<style scoped>\n",
       "    .dataframe tbody tr th:only-of-type {\n",
       "        vertical-align: middle;\n",
       "    }\n",
       "\n",
       "    .dataframe tbody tr th {\n",
       "        vertical-align: top;\n",
       "    }\n",
       "\n",
       "    .dataframe thead th {\n",
       "        text-align: right;\n",
       "    }\n",
       "</style>\n",
       "<table border=\"1\" class=\"dataframe\">\n",
       "  <thead>\n",
       "    <tr style=\"text-align: right;\">\n",
       "      <th></th>\n",
       "      <th>Administrative</th>\n",
       "      <th>Administrative_Duration</th>\n",
       "      <th>Informational</th>\n",
       "      <th>Informational_Duration</th>\n",
       "      <th>ProductRelated</th>\n",
       "      <th>ProductRelated_Duration</th>\n",
       "      <th>BounceRates</th>\n",
       "      <th>ExitRates</th>\n",
       "      <th>PageValues</th>\n",
       "      <th>SpecialDay</th>\n",
       "      <th>...</th>\n",
       "      <th>Month_June</th>\n",
       "      <th>Month_Mar</th>\n",
       "      <th>Month_May</th>\n",
       "      <th>Month_Nov</th>\n",
       "      <th>Month_Oct</th>\n",
       "      <th>Month_Sep</th>\n",
       "      <th>VisitorType_Other</th>\n",
       "      <th>VisitorType_Returning_Visitor</th>\n",
       "      <th>Weekend_True</th>\n",
       "      <th>labels</th>\n",
       "    </tr>\n",
       "  </thead>\n",
       "  <tbody>\n",
       "    <tr>\n",
       "      <th>0</th>\n",
       "      <td>0</td>\n",
       "      <td>0.000000</td>\n",
       "      <td>0</td>\n",
       "      <td>0.0</td>\n",
       "      <td>1</td>\n",
       "      <td>-0.624348</td>\n",
       "      <td>3.667189</td>\n",
       "      <td>3.229316</td>\n",
       "      <td>-0.317178</td>\n",
       "      <td>-0.308821</td>\n",
       "      <td>...</td>\n",
       "      <td>0</td>\n",
       "      <td>0</td>\n",
       "      <td>0</td>\n",
       "      <td>0</td>\n",
       "      <td>0</td>\n",
       "      <td>0</td>\n",
       "      <td>0</td>\n",
       "      <td>1</td>\n",
       "      <td>0</td>\n",
       "      <td>0</td>\n",
       "    </tr>\n",
       "    <tr>\n",
       "      <th>1</th>\n",
       "      <td>0</td>\n",
       "      <td>0.000000</td>\n",
       "      <td>0</td>\n",
       "      <td>0.0</td>\n",
       "      <td>2</td>\n",
       "      <td>-0.590903</td>\n",
       "      <td>-0.457683</td>\n",
       "      <td>1.171473</td>\n",
       "      <td>-0.317178</td>\n",
       "      <td>-0.308821</td>\n",
       "      <td>...</td>\n",
       "      <td>0</td>\n",
       "      <td>0</td>\n",
       "      <td>0</td>\n",
       "      <td>0</td>\n",
       "      <td>0</td>\n",
       "      <td>0</td>\n",
       "      <td>0</td>\n",
       "      <td>1</td>\n",
       "      <td>0</td>\n",
       "      <td>0</td>\n",
       "    </tr>\n",
       "    <tr>\n",
       "      <th>2</th>\n",
       "      <td>0</td>\n",
       "      <td>0.000000</td>\n",
       "      <td>0</td>\n",
       "      <td>0.0</td>\n",
       "      <td>1</td>\n",
       "      <td>-0.624348</td>\n",
       "      <td>3.667189</td>\n",
       "      <td>3.229316</td>\n",
       "      <td>-0.317178</td>\n",
       "      <td>-0.308821</td>\n",
       "      <td>...</td>\n",
       "      <td>0</td>\n",
       "      <td>0</td>\n",
       "      <td>0</td>\n",
       "      <td>0</td>\n",
       "      <td>0</td>\n",
       "      <td>0</td>\n",
       "      <td>0</td>\n",
       "      <td>1</td>\n",
       "      <td>0</td>\n",
       "      <td>0</td>\n",
       "    </tr>\n",
       "    <tr>\n",
       "      <th>3</th>\n",
       "      <td>0</td>\n",
       "      <td>0.000000</td>\n",
       "      <td>0</td>\n",
       "      <td>0.0</td>\n",
       "      <td>2</td>\n",
       "      <td>-0.622954</td>\n",
       "      <td>0.573535</td>\n",
       "      <td>1.994610</td>\n",
       "      <td>-0.317178</td>\n",
       "      <td>-0.308821</td>\n",
       "      <td>...</td>\n",
       "      <td>0</td>\n",
       "      <td>0</td>\n",
       "      <td>0</td>\n",
       "      <td>0</td>\n",
       "      <td>0</td>\n",
       "      <td>0</td>\n",
       "      <td>0</td>\n",
       "      <td>1</td>\n",
       "      <td>0</td>\n",
       "      <td>0</td>\n",
       "    </tr>\n",
       "    <tr>\n",
       "      <th>4</th>\n",
       "      <td>0</td>\n",
       "      <td>0.000000</td>\n",
       "      <td>0</td>\n",
       "      <td>0.0</td>\n",
       "      <td>10</td>\n",
       "      <td>-0.296430</td>\n",
       "      <td>-0.045196</td>\n",
       "      <td>0.142551</td>\n",
       "      <td>-0.317178</td>\n",
       "      <td>-0.308821</td>\n",
       "      <td>...</td>\n",
       "      <td>0</td>\n",
       "      <td>0</td>\n",
       "      <td>0</td>\n",
       "      <td>0</td>\n",
       "      <td>0</td>\n",
       "      <td>0</td>\n",
       "      <td>0</td>\n",
       "      <td>1</td>\n",
       "      <td>1</td>\n",
       "      <td>0</td>\n",
       "    </tr>\n",
       "    <tr>\n",
       "      <th>5</th>\n",
       "      <td>0</td>\n",
       "      <td>0.000000</td>\n",
       "      <td>0</td>\n",
       "      <td>0.0</td>\n",
       "      <td>19</td>\n",
       "      <td>-0.543757</td>\n",
       "      <td>-0.132035</td>\n",
       "      <td>-0.380935</td>\n",
       "      <td>-0.317178</td>\n",
       "      <td>-0.308821</td>\n",
       "      <td>...</td>\n",
       "      <td>0</td>\n",
       "      <td>0</td>\n",
       "      <td>0</td>\n",
       "      <td>0</td>\n",
       "      <td>0</td>\n",
       "      <td>0</td>\n",
       "      <td>0</td>\n",
       "      <td>1</td>\n",
       "      <td>0</td>\n",
       "      <td>0</td>\n",
       "    </tr>\n",
       "    <tr>\n",
       "      <th>6</th>\n",
       "      <td>0</td>\n",
       "      <td>0.000000</td>\n",
       "      <td>0</td>\n",
       "      <td>0.0</td>\n",
       "      <td>1</td>\n",
       "      <td>-0.624348</td>\n",
       "      <td>3.667189</td>\n",
       "      <td>3.229316</td>\n",
       "      <td>-0.317178</td>\n",
       "      <td>1.702146</td>\n",
       "      <td>...</td>\n",
       "      <td>0</td>\n",
       "      <td>0</td>\n",
       "      <td>0</td>\n",
       "      <td>0</td>\n",
       "      <td>0</td>\n",
       "      <td>0</td>\n",
       "      <td>0</td>\n",
       "      <td>1</td>\n",
       "      <td>0</td>\n",
       "      <td>0</td>\n",
       "    </tr>\n",
       "    <tr>\n",
       "      <th>7</th>\n",
       "      <td>1</td>\n",
       "      <td>0.000000</td>\n",
       "      <td>0</td>\n",
       "      <td>0.0</td>\n",
       "      <td>0</td>\n",
       "      <td>-0.624348</td>\n",
       "      <td>3.667189</td>\n",
       "      <td>3.229316</td>\n",
       "      <td>-0.317178</td>\n",
       "      <td>-0.308821</td>\n",
       "      <td>...</td>\n",
       "      <td>0</td>\n",
       "      <td>0</td>\n",
       "      <td>0</td>\n",
       "      <td>0</td>\n",
       "      <td>0</td>\n",
       "      <td>0</td>\n",
       "      <td>0</td>\n",
       "      <td>1</td>\n",
       "      <td>1</td>\n",
       "      <td>0</td>\n",
       "    </tr>\n",
       "    <tr>\n",
       "      <th>8</th>\n",
       "      <td>0</td>\n",
       "      <td>0.000000</td>\n",
       "      <td>0</td>\n",
       "      <td>0.0</td>\n",
       "      <td>2</td>\n",
       "      <td>-0.605012</td>\n",
       "      <td>-0.457683</td>\n",
       "      <td>1.171473</td>\n",
       "      <td>-0.317178</td>\n",
       "      <td>3.713114</td>\n",
       "      <td>...</td>\n",
       "      <td>0</td>\n",
       "      <td>0</td>\n",
       "      <td>0</td>\n",
       "      <td>0</td>\n",
       "      <td>0</td>\n",
       "      <td>0</td>\n",
       "      <td>0</td>\n",
       "      <td>1</td>\n",
       "      <td>0</td>\n",
       "      <td>0</td>\n",
       "    </tr>\n",
       "    <tr>\n",
       "      <th>9</th>\n",
       "      <td>0</td>\n",
       "      <td>0.000000</td>\n",
       "      <td>0</td>\n",
       "      <td>0.0</td>\n",
       "      <td>3</td>\n",
       "      <td>-0.238685</td>\n",
       "      <td>-0.457683</td>\n",
       "      <td>-0.429072</td>\n",
       "      <td>-0.317178</td>\n",
       "      <td>1.702146</td>\n",
       "      <td>...</td>\n",
       "      <td>0</td>\n",
       "      <td>0</td>\n",
       "      <td>0</td>\n",
       "      <td>0</td>\n",
       "      <td>0</td>\n",
       "      <td>0</td>\n",
       "      <td>0</td>\n",
       "      <td>1</td>\n",
       "      <td>0</td>\n",
       "      <td>0</td>\n",
       "    </tr>\n",
       "    <tr>\n",
       "      <th>10</th>\n",
       "      <td>0</td>\n",
       "      <td>0.000000</td>\n",
       "      <td>0</td>\n",
       "      <td>0.0</td>\n",
       "      <td>3</td>\n",
       "      <td>-0.417929</td>\n",
       "      <td>-0.457683</td>\n",
       "      <td>0.485525</td>\n",
       "      <td>-0.317178</td>\n",
       "      <td>-0.308821</td>\n",
       "      <td>...</td>\n",
       "      <td>0</td>\n",
       "      <td>0</td>\n",
       "      <td>0</td>\n",
       "      <td>0</td>\n",
       "      <td>0</td>\n",
       "      <td>0</td>\n",
       "      <td>0</td>\n",
       "      <td>1</td>\n",
       "      <td>0</td>\n",
       "      <td>0</td>\n",
       "    </tr>\n",
       "    <tr>\n",
       "      <th>11</th>\n",
       "      <td>0</td>\n",
       "      <td>0.000000</td>\n",
       "      <td>0</td>\n",
       "      <td>0.0</td>\n",
       "      <td>16</td>\n",
       "      <td>-0.411267</td>\n",
       "      <td>-0.070976</td>\n",
       "      <td>-0.354761</td>\n",
       "      <td>-0.317178</td>\n",
       "      <td>1.702146</td>\n",
       "      <td>...</td>\n",
       "      <td>0</td>\n",
       "      <td>0</td>\n",
       "      <td>0</td>\n",
       "      <td>0</td>\n",
       "      <td>0</td>\n",
       "      <td>0</td>\n",
       "      <td>0</td>\n",
       "      <td>1</td>\n",
       "      <td>0</td>\n",
       "      <td>0</td>\n",
       "    </tr>\n",
       "    <tr>\n",
       "      <th>12</th>\n",
       "      <td>0</td>\n",
       "      <td>0.000000</td>\n",
       "      <td>0</td>\n",
       "      <td>0.0</td>\n",
       "      <td>7</td>\n",
       "      <td>-0.477765</td>\n",
       "      <td>-0.457683</td>\n",
       "      <td>-0.298415</td>\n",
       "      <td>-0.317178</td>\n",
       "      <td>-0.308821</td>\n",
       "      <td>...</td>\n",
       "      <td>0</td>\n",
       "      <td>0</td>\n",
       "      <td>0</td>\n",
       "      <td>0</td>\n",
       "      <td>0</td>\n",
       "      <td>0</td>\n",
       "      <td>0</td>\n",
       "      <td>1</td>\n",
       "      <td>0</td>\n",
       "      <td>0</td>\n",
       "    </tr>\n",
       "    <tr>\n",
       "      <th>13</th>\n",
       "      <td>0</td>\n",
       "      <td>0.000000</td>\n",
       "      <td>0</td>\n",
       "      <td>0.0</td>\n",
       "      <td>6</td>\n",
       "      <td>-0.573135</td>\n",
       "      <td>-0.457683</td>\n",
       "      <td>0.485525</td>\n",
       "      <td>-0.317178</td>\n",
       "      <td>-0.308821</td>\n",
       "      <td>...</td>\n",
       "      <td>0</td>\n",
       "      <td>0</td>\n",
       "      <td>0</td>\n",
       "      <td>0</td>\n",
       "      <td>0</td>\n",
       "      <td>0</td>\n",
       "      <td>0</td>\n",
       "      <td>1</td>\n",
       "      <td>0</td>\n",
       "      <td>0</td>\n",
       "    </tr>\n",
       "    <tr>\n",
       "      <th>14</th>\n",
       "      <td>0</td>\n",
       "      <td>0.000000</td>\n",
       "      <td>0</td>\n",
       "      <td>0.0</td>\n",
       "      <td>2</td>\n",
       "      <td>-0.588812</td>\n",
       "      <td>-0.457683</td>\n",
       "      <td>1.171473</td>\n",
       "      <td>-0.317178</td>\n",
       "      <td>-0.308821</td>\n",
       "      <td>...</td>\n",
       "      <td>0</td>\n",
       "      <td>0</td>\n",
       "      <td>0</td>\n",
       "      <td>0</td>\n",
       "      <td>0</td>\n",
       "      <td>0</td>\n",
       "      <td>0</td>\n",
       "      <td>1</td>\n",
       "      <td>0</td>\n",
       "      <td>0</td>\n",
       "    </tr>\n",
       "    <tr>\n",
       "      <th>15</th>\n",
       "      <td>2</td>\n",
       "      <td>53.000000</td>\n",
       "      <td>0</td>\n",
       "      <td>0.0</td>\n",
       "      <td>23</td>\n",
       "      <td>0.247461</td>\n",
       "      <td>-0.285813</td>\n",
       "      <td>-0.550682</td>\n",
       "      <td>-0.317178</td>\n",
       "      <td>-0.308821</td>\n",
       "      <td>...</td>\n",
       "      <td>0</td>\n",
       "      <td>0</td>\n",
       "      <td>0</td>\n",
       "      <td>0</td>\n",
       "      <td>0</td>\n",
       "      <td>0</td>\n",
       "      <td>0</td>\n",
       "      <td>1</td>\n",
       "      <td>0</td>\n",
       "      <td>0</td>\n",
       "    </tr>\n",
       "    <tr>\n",
       "      <th>16</th>\n",
       "      <td>0</td>\n",
       "      <td>0.000000</td>\n",
       "      <td>0</td>\n",
       "      <td>0.0</td>\n",
       "      <td>1</td>\n",
       "      <td>-0.624348</td>\n",
       "      <td>3.667189</td>\n",
       "      <td>3.229316</td>\n",
       "      <td>-0.317178</td>\n",
       "      <td>-0.308821</td>\n",
       "      <td>...</td>\n",
       "      <td>0</td>\n",
       "      <td>0</td>\n",
       "      <td>0</td>\n",
       "      <td>0</td>\n",
       "      <td>0</td>\n",
       "      <td>0</td>\n",
       "      <td>0</td>\n",
       "      <td>1</td>\n",
       "      <td>0</td>\n",
       "      <td>0</td>\n",
       "    </tr>\n",
       "    <tr>\n",
       "      <th>17</th>\n",
       "      <td>0</td>\n",
       "      <td>0.000000</td>\n",
       "      <td>0</td>\n",
       "      <td>0.0</td>\n",
       "      <td>13</td>\n",
       "      <td>-0.449301</td>\n",
       "      <td>-0.457683</td>\n",
       "      <td>-0.728075</td>\n",
       "      <td>-0.317178</td>\n",
       "      <td>-0.308821</td>\n",
       "      <td>...</td>\n",
       "      <td>0</td>\n",
       "      <td>0</td>\n",
       "      <td>0</td>\n",
       "      <td>0</td>\n",
       "      <td>0</td>\n",
       "      <td>0</td>\n",
       "      <td>0</td>\n",
       "      <td>1</td>\n",
       "      <td>1</td>\n",
       "      <td>0</td>\n",
       "    </tr>\n",
       "    <tr>\n",
       "      <th>18</th>\n",
       "      <td>0</td>\n",
       "      <td>0.000000</td>\n",
       "      <td>0</td>\n",
       "      <td>0.0</td>\n",
       "      <td>2</td>\n",
       "      <td>-0.607625</td>\n",
       "      <td>-0.457683</td>\n",
       "      <td>1.171473</td>\n",
       "      <td>-0.317178</td>\n",
       "      <td>-0.308821</td>\n",
       "      <td>...</td>\n",
       "      <td>0</td>\n",
       "      <td>0</td>\n",
       "      <td>0</td>\n",
       "      <td>0</td>\n",
       "      <td>0</td>\n",
       "      <td>0</td>\n",
       "      <td>0</td>\n",
       "      <td>1</td>\n",
       "      <td>0</td>\n",
       "      <td>0</td>\n",
       "    </tr>\n",
       "    <tr>\n",
       "      <th>19</th>\n",
       "      <td>0</td>\n",
       "      <td>0.000000</td>\n",
       "      <td>0</td>\n",
       "      <td>0.0</td>\n",
       "      <td>20</td>\n",
       "      <td>0.933543</td>\n",
       "      <td>-0.457683</td>\n",
       "      <td>-0.680586</td>\n",
       "      <td>-0.317178</td>\n",
       "      <td>-0.308821</td>\n",
       "      <td>...</td>\n",
       "      <td>0</td>\n",
       "      <td>0</td>\n",
       "      <td>0</td>\n",
       "      <td>0</td>\n",
       "      <td>0</td>\n",
       "      <td>0</td>\n",
       "      <td>0</td>\n",
       "      <td>1</td>\n",
       "      <td>0</td>\n",
       "      <td>0</td>\n",
       "    </tr>\n",
       "    <tr>\n",
       "      <th>20</th>\n",
       "      <td>0</td>\n",
       "      <td>0.000000</td>\n",
       "      <td>0</td>\n",
       "      <td>0.0</td>\n",
       "      <td>8</td>\n",
       "      <td>-0.553190</td>\n",
       "      <td>-0.457683</td>\n",
       "      <td>-0.714884</td>\n",
       "      <td>-0.317178</td>\n",
       "      <td>4.718598</td>\n",
       "      <td>...</td>\n",
       "      <td>0</td>\n",
       "      <td>0</td>\n",
       "      <td>0</td>\n",
       "      <td>0</td>\n",
       "      <td>0</td>\n",
       "      <td>0</td>\n",
       "      <td>0</td>\n",
       "      <td>1</td>\n",
       "      <td>1</td>\n",
       "      <td>0</td>\n",
       "    </tr>\n",
       "    <tr>\n",
       "      <th>21</th>\n",
       "      <td>0</td>\n",
       "      <td>0.000000</td>\n",
       "      <td>0</td>\n",
       "      <td>0.0</td>\n",
       "      <td>2</td>\n",
       "      <td>-0.624348</td>\n",
       "      <td>3.667189</td>\n",
       "      <td>3.229316</td>\n",
       "      <td>-0.317178</td>\n",
       "      <td>-0.308821</td>\n",
       "      <td>...</td>\n",
       "      <td>0</td>\n",
       "      <td>0</td>\n",
       "      <td>0</td>\n",
       "      <td>0</td>\n",
       "      <td>0</td>\n",
       "      <td>0</td>\n",
       "      <td>0</td>\n",
       "      <td>1</td>\n",
       "      <td>0</td>\n",
       "      <td>0</td>\n",
       "    </tr>\n",
       "    <tr>\n",
       "      <th>22</th>\n",
       "      <td>0</td>\n",
       "      <td>0.000000</td>\n",
       "      <td>0</td>\n",
       "      <td>0.0</td>\n",
       "      <td>3</td>\n",
       "      <td>-0.569477</td>\n",
       "      <td>-0.457683</td>\n",
       "      <td>-0.200423</td>\n",
       "      <td>-0.317178</td>\n",
       "      <td>-0.308821</td>\n",
       "      <td>...</td>\n",
       "      <td>0</td>\n",
       "      <td>0</td>\n",
       "      <td>0</td>\n",
       "      <td>0</td>\n",
       "      <td>0</td>\n",
       "      <td>0</td>\n",
       "      <td>0</td>\n",
       "      <td>1</td>\n",
       "      <td>0</td>\n",
       "      <td>0</td>\n",
       "    </tr>\n",
       "    <tr>\n",
       "      <th>23</th>\n",
       "      <td>0</td>\n",
       "      <td>0.000000</td>\n",
       "      <td>0</td>\n",
       "      <td>0.0</td>\n",
       "      <td>2</td>\n",
       "      <td>-0.616509</td>\n",
       "      <td>-0.457683</td>\n",
       "      <td>1.171473</td>\n",
       "      <td>-0.317178</td>\n",
       "      <td>3.713114</td>\n",
       "      <td>...</td>\n",
       "      <td>0</td>\n",
       "      <td>0</td>\n",
       "      <td>0</td>\n",
       "      <td>0</td>\n",
       "      <td>0</td>\n",
       "      <td>0</td>\n",
       "      <td>0</td>\n",
       "      <td>1</td>\n",
       "      <td>0</td>\n",
       "      <td>0</td>\n",
       "    </tr>\n",
       "    <tr>\n",
       "      <th>24</th>\n",
       "      <td>0</td>\n",
       "      <td>0.000000</td>\n",
       "      <td>0</td>\n",
       "      <td>0.0</td>\n",
       "      <td>1</td>\n",
       "      <td>-0.624348</td>\n",
       "      <td>3.667189</td>\n",
       "      <td>3.229316</td>\n",
       "      <td>-0.317178</td>\n",
       "      <td>-0.308821</td>\n",
       "      <td>...</td>\n",
       "      <td>0</td>\n",
       "      <td>0</td>\n",
       "      <td>0</td>\n",
       "      <td>0</td>\n",
       "      <td>0</td>\n",
       "      <td>0</td>\n",
       "      <td>0</td>\n",
       "      <td>1</td>\n",
       "      <td>1</td>\n",
       "      <td>0</td>\n",
       "    </tr>\n",
       "    <tr>\n",
       "      <th>25</th>\n",
       "      <td>0</td>\n",
       "      <td>0.000000</td>\n",
       "      <td>0</td>\n",
       "      <td>0.0</td>\n",
       "      <td>5</td>\n",
       "      <td>-0.542825</td>\n",
       "      <td>-0.457683</td>\n",
       "      <td>-0.063233</td>\n",
       "      <td>-0.317178</td>\n",
       "      <td>-0.308821</td>\n",
       "      <td>...</td>\n",
       "      <td>0</td>\n",
       "      <td>0</td>\n",
       "      <td>0</td>\n",
       "      <td>0</td>\n",
       "      <td>0</td>\n",
       "      <td>0</td>\n",
       "      <td>0</td>\n",
       "      <td>1</td>\n",
       "      <td>0</td>\n",
       "      <td>0</td>\n",
       "    </tr>\n",
       "    <tr>\n",
       "      <th>26</th>\n",
       "      <td>4</td>\n",
       "      <td>64.600000</td>\n",
       "      <td>0</td>\n",
       "      <td>0.0</td>\n",
       "      <td>32</td>\n",
       "      <td>-0.030990</td>\n",
       "      <td>-0.398756</td>\n",
       "      <td>-0.690386</td>\n",
       "      <td>-0.317178</td>\n",
       "      <td>-0.308821</td>\n",
       "      <td>...</td>\n",
       "      <td>0</td>\n",
       "      <td>0</td>\n",
       "      <td>0</td>\n",
       "      <td>0</td>\n",
       "      <td>0</td>\n",
       "      <td>0</td>\n",
       "      <td>0</td>\n",
       "      <td>1</td>\n",
       "      <td>0</td>\n",
       "      <td>0</td>\n",
       "    </tr>\n",
       "    <tr>\n",
       "      <th>27</th>\n",
       "      <td>0</td>\n",
       "      <td>0.000000</td>\n",
       "      <td>0</td>\n",
       "      <td>0.0</td>\n",
       "      <td>4</td>\n",
       "      <td>-0.584632</td>\n",
       "      <td>0.573535</td>\n",
       "      <td>1.171473</td>\n",
       "      <td>-0.317178</td>\n",
       "      <td>-0.308821</td>\n",
       "      <td>...</td>\n",
       "      <td>0</td>\n",
       "      <td>0</td>\n",
       "      <td>0</td>\n",
       "      <td>0</td>\n",
       "      <td>0</td>\n",
       "      <td>0</td>\n",
       "      <td>0</td>\n",
       "      <td>1</td>\n",
       "      <td>0</td>\n",
       "      <td>0</td>\n",
       "    </tr>\n",
       "    <tr>\n",
       "      <th>28</th>\n",
       "      <td>0</td>\n",
       "      <td>0.000000</td>\n",
       "      <td>0</td>\n",
       "      <td>0.0</td>\n",
       "      <td>4</td>\n",
       "      <td>-0.591425</td>\n",
       "      <td>-0.457683</td>\n",
       "      <td>0.142551</td>\n",
       "      <td>-0.317178</td>\n",
       "      <td>0.696663</td>\n",
       "      <td>...</td>\n",
       "      <td>0</td>\n",
       "      <td>0</td>\n",
       "      <td>0</td>\n",
       "      <td>0</td>\n",
       "      <td>0</td>\n",
       "      <td>0</td>\n",
       "      <td>0</td>\n",
       "      <td>1</td>\n",
       "      <td>0</td>\n",
       "      <td>0</td>\n",
       "    </tr>\n",
       "    <tr>\n",
       "      <th>29</th>\n",
       "      <td>1</td>\n",
       "      <td>6.000000</td>\n",
       "      <td>1</td>\n",
       "      <td>0.0</td>\n",
       "      <td>45</td>\n",
       "      <td>0.202762</td>\n",
       "      <td>0.439028</td>\n",
       "      <td>0.159451</td>\n",
       "      <td>2.600782</td>\n",
       "      <td>1.702146</td>\n",
       "      <td>...</td>\n",
       "      <td>0</td>\n",
       "      <td>0</td>\n",
       "      <td>0</td>\n",
       "      <td>0</td>\n",
       "      <td>0</td>\n",
       "      <td>0</td>\n",
       "      <td>0</td>\n",
       "      <td>1</td>\n",
       "      <td>0</td>\n",
       "      <td>0</td>\n",
       "    </tr>\n",
       "    <tr>\n",
       "      <th>...</th>\n",
       "      <td>...</td>\n",
       "      <td>...</td>\n",
       "      <td>...</td>\n",
       "      <td>...</td>\n",
       "      <td>...</td>\n",
       "      <td>...</td>\n",
       "      <td>...</td>\n",
       "      <td>...</td>\n",
       "      <td>...</td>\n",
       "      <td>...</td>\n",
       "      <td>...</td>\n",
       "      <td>...</td>\n",
       "      <td>...</td>\n",
       "      <td>...</td>\n",
       "      <td>...</td>\n",
       "      <td>...</td>\n",
       "      <td>...</td>\n",
       "      <td>...</td>\n",
       "      <td>...</td>\n",
       "      <td>...</td>\n",
       "      <td>...</td>\n",
       "    </tr>\n",
       "    <tr>\n",
       "      <th>70</th>\n",
       "      <td>0</td>\n",
       "      <td>0.000000</td>\n",
       "      <td>0</td>\n",
       "      <td>0.0</td>\n",
       "      <td>1</td>\n",
       "      <td>-0.624348</td>\n",
       "      <td>3.667189</td>\n",
       "      <td>3.229316</td>\n",
       "      <td>-0.317178</td>\n",
       "      <td>-0.308821</td>\n",
       "      <td>...</td>\n",
       "      <td>0</td>\n",
       "      <td>0</td>\n",
       "      <td>0</td>\n",
       "      <td>0</td>\n",
       "      <td>0</td>\n",
       "      <td>0</td>\n",
       "      <td>0</td>\n",
       "      <td>1</td>\n",
       "      <td>0</td>\n",
       "      <td>0</td>\n",
       "    </tr>\n",
       "    <tr>\n",
       "      <th>71</th>\n",
       "      <td>0</td>\n",
       "      <td>0.000000</td>\n",
       "      <td>0</td>\n",
       "      <td>0.0</td>\n",
       "      <td>20</td>\n",
       "      <td>-0.521202</td>\n",
       "      <td>0.057926</td>\n",
       "      <td>0.193997</td>\n",
       "      <td>-0.317178</td>\n",
       "      <td>-0.308821</td>\n",
       "      <td>...</td>\n",
       "      <td>0</td>\n",
       "      <td>0</td>\n",
       "      <td>0</td>\n",
       "      <td>0</td>\n",
       "      <td>0</td>\n",
       "      <td>0</td>\n",
       "      <td>0</td>\n",
       "      <td>1</td>\n",
       "      <td>0</td>\n",
       "      <td>0</td>\n",
       "    </tr>\n",
       "    <tr>\n",
       "      <th>72</th>\n",
       "      <td>0</td>\n",
       "      <td>0.000000</td>\n",
       "      <td>0</td>\n",
       "      <td>0.0</td>\n",
       "      <td>2</td>\n",
       "      <td>-0.601877</td>\n",
       "      <td>-0.457683</td>\n",
       "      <td>1.171473</td>\n",
       "      <td>-0.317178</td>\n",
       "      <td>1.702146</td>\n",
       "      <td>...</td>\n",
       "      <td>0</td>\n",
       "      <td>0</td>\n",
       "      <td>0</td>\n",
       "      <td>0</td>\n",
       "      <td>0</td>\n",
       "      <td>0</td>\n",
       "      <td>0</td>\n",
       "      <td>1</td>\n",
       "      <td>0</td>\n",
       "      <td>0</td>\n",
       "    </tr>\n",
       "    <tr>\n",
       "      <th>73</th>\n",
       "      <td>0</td>\n",
       "      <td>0.000000</td>\n",
       "      <td>0</td>\n",
       "      <td>0.0</td>\n",
       "      <td>8</td>\n",
       "      <td>-0.401381</td>\n",
       "      <td>-0.457683</td>\n",
       "      <td>-0.629140</td>\n",
       "      <td>-0.317178</td>\n",
       "      <td>-0.308821</td>\n",
       "      <td>...</td>\n",
       "      <td>0</td>\n",
       "      <td>0</td>\n",
       "      <td>0</td>\n",
       "      <td>0</td>\n",
       "      <td>0</td>\n",
       "      <td>0</td>\n",
       "      <td>0</td>\n",
       "      <td>1</td>\n",
       "      <td>0</td>\n",
       "      <td>0</td>\n",
       "    </tr>\n",
       "    <tr>\n",
       "      <th>74</th>\n",
       "      <td>0</td>\n",
       "      <td>0.000000</td>\n",
       "      <td>0</td>\n",
       "      <td>0.0</td>\n",
       "      <td>3</td>\n",
       "      <td>-0.553800</td>\n",
       "      <td>-0.457683</td>\n",
       "      <td>0.485525</td>\n",
       "      <td>-0.317178</td>\n",
       "      <td>-0.308821</td>\n",
       "      <td>...</td>\n",
       "      <td>0</td>\n",
       "      <td>0</td>\n",
       "      <td>0</td>\n",
       "      <td>0</td>\n",
       "      <td>0</td>\n",
       "      <td>0</td>\n",
       "      <td>0</td>\n",
       "      <td>1</td>\n",
       "      <td>0</td>\n",
       "      <td>0</td>\n",
       "    </tr>\n",
       "    <tr>\n",
       "      <th>75</th>\n",
       "      <td>0</td>\n",
       "      <td>0.000000</td>\n",
       "      <td>0</td>\n",
       "      <td>0.0</td>\n",
       "      <td>16</td>\n",
       "      <td>-0.316898</td>\n",
       "      <td>-0.457683</td>\n",
       "      <td>-0.371910</td>\n",
       "      <td>-0.317178</td>\n",
       "      <td>-0.308821</td>\n",
       "      <td>...</td>\n",
       "      <td>0</td>\n",
       "      <td>0</td>\n",
       "      <td>0</td>\n",
       "      <td>0</td>\n",
       "      <td>0</td>\n",
       "      <td>0</td>\n",
       "      <td>0</td>\n",
       "      <td>1</td>\n",
       "      <td>0</td>\n",
       "      <td>0</td>\n",
       "    </tr>\n",
       "    <tr>\n",
       "      <th>76</th>\n",
       "      <td>10</td>\n",
       "      <td>1005.666667</td>\n",
       "      <td>0</td>\n",
       "      <td>0.0</td>\n",
       "      <td>36</td>\n",
       "      <td>0.478992</td>\n",
       "      <td>-0.368012</td>\n",
       "      <td>-0.588132</td>\n",
       "      <td>0.298915</td>\n",
       "      <td>-0.308821</td>\n",
       "      <td>...</td>\n",
       "      <td>0</td>\n",
       "      <td>0</td>\n",
       "      <td>0</td>\n",
       "      <td>0</td>\n",
       "      <td>0</td>\n",
       "      <td>0</td>\n",
       "      <td>0</td>\n",
       "      <td>1</td>\n",
       "      <td>0</td>\n",
       "      <td>1</td>\n",
       "    </tr>\n",
       "    <tr>\n",
       "      <th>77</th>\n",
       "      <td>0</td>\n",
       "      <td>0.000000</td>\n",
       "      <td>0</td>\n",
       "      <td>0.0</td>\n",
       "      <td>2</td>\n",
       "      <td>-0.584632</td>\n",
       "      <td>-0.457683</td>\n",
       "      <td>0.142551</td>\n",
       "      <td>-0.317178</td>\n",
       "      <td>2.707630</td>\n",
       "      <td>...</td>\n",
       "      <td>0</td>\n",
       "      <td>0</td>\n",
       "      <td>0</td>\n",
       "      <td>0</td>\n",
       "      <td>0</td>\n",
       "      <td>0</td>\n",
       "      <td>0</td>\n",
       "      <td>1</td>\n",
       "      <td>0</td>\n",
       "      <td>0</td>\n",
       "    </tr>\n",
       "    <tr>\n",
       "      <th>78</th>\n",
       "      <td>0</td>\n",
       "      <td>0.000000</td>\n",
       "      <td>0</td>\n",
       "      <td>0.0</td>\n",
       "      <td>1</td>\n",
       "      <td>-0.624348</td>\n",
       "      <td>3.667189</td>\n",
       "      <td>3.229316</td>\n",
       "      <td>-0.317178</td>\n",
       "      <td>4.718598</td>\n",
       "      <td>...</td>\n",
       "      <td>0</td>\n",
       "      <td>0</td>\n",
       "      <td>0</td>\n",
       "      <td>0</td>\n",
       "      <td>0</td>\n",
       "      <td>0</td>\n",
       "      <td>0</td>\n",
       "      <td>1</td>\n",
       "      <td>1</td>\n",
       "      <td>0</td>\n",
       "    </tr>\n",
       "    <tr>\n",
       "      <th>79</th>\n",
       "      <td>0</td>\n",
       "      <td>0.000000</td>\n",
       "      <td>0</td>\n",
       "      <td>0.0</td>\n",
       "      <td>1</td>\n",
       "      <td>-0.624348</td>\n",
       "      <td>3.667189</td>\n",
       "      <td>3.229316</td>\n",
       "      <td>-0.317178</td>\n",
       "      <td>1.702146</td>\n",
       "      <td>...</td>\n",
       "      <td>0</td>\n",
       "      <td>0</td>\n",
       "      <td>0</td>\n",
       "      <td>0</td>\n",
       "      <td>0</td>\n",
       "      <td>0</td>\n",
       "      <td>0</td>\n",
       "      <td>1</td>\n",
       "      <td>0</td>\n",
       "      <td>0</td>\n",
       "    </tr>\n",
       "    <tr>\n",
       "      <th>80</th>\n",
       "      <td>0</td>\n",
       "      <td>0.000000</td>\n",
       "      <td>0</td>\n",
       "      <td>0.0</td>\n",
       "      <td>7</td>\n",
       "      <td>-0.515651</td>\n",
       "      <td>-0.457683</td>\n",
       "      <td>-0.298415</td>\n",
       "      <td>-0.317178</td>\n",
       "      <td>-0.308821</td>\n",
       "      <td>...</td>\n",
       "      <td>0</td>\n",
       "      <td>0</td>\n",
       "      <td>0</td>\n",
       "      <td>0</td>\n",
       "      <td>0</td>\n",
       "      <td>0</td>\n",
       "      <td>0</td>\n",
       "      <td>1</td>\n",
       "      <td>1</td>\n",
       "      <td>0</td>\n",
       "    </tr>\n",
       "    <tr>\n",
       "      <th>81</th>\n",
       "      <td>0</td>\n",
       "      <td>0.000000</td>\n",
       "      <td>0</td>\n",
       "      <td>0.0</td>\n",
       "      <td>4</td>\n",
       "      <td>-0.483252</td>\n",
       "      <td>-0.457683</td>\n",
       "      <td>-0.543397</td>\n",
       "      <td>-0.317178</td>\n",
       "      <td>3.713114</td>\n",
       "      <td>...</td>\n",
       "      <td>0</td>\n",
       "      <td>0</td>\n",
       "      <td>0</td>\n",
       "      <td>0</td>\n",
       "      <td>0</td>\n",
       "      <td>0</td>\n",
       "      <td>0</td>\n",
       "      <td>1</td>\n",
       "      <td>0</td>\n",
       "      <td>0</td>\n",
       "    </tr>\n",
       "    <tr>\n",
       "      <th>82</th>\n",
       "      <td>0</td>\n",
       "      <td>0.000000</td>\n",
       "      <td>0</td>\n",
       "      <td>0.0</td>\n",
       "      <td>6</td>\n",
       "      <td>-0.603706</td>\n",
       "      <td>-0.457683</td>\n",
       "      <td>-0.474802</td>\n",
       "      <td>-0.317178</td>\n",
       "      <td>-0.308821</td>\n",
       "      <td>...</td>\n",
       "      <td>0</td>\n",
       "      <td>0</td>\n",
       "      <td>0</td>\n",
       "      <td>0</td>\n",
       "      <td>0</td>\n",
       "      <td>0</td>\n",
       "      <td>0</td>\n",
       "      <td>1</td>\n",
       "      <td>0</td>\n",
       "      <td>0</td>\n",
       "    </tr>\n",
       "    <tr>\n",
       "      <th>83</th>\n",
       "      <td>0</td>\n",
       "      <td>0.000000</td>\n",
       "      <td>0</td>\n",
       "      <td>0.0</td>\n",
       "      <td>12</td>\n",
       "      <td>-0.428381</td>\n",
       "      <td>-0.113944</td>\n",
       "      <td>0.314038</td>\n",
       "      <td>-0.317178</td>\n",
       "      <td>-0.308821</td>\n",
       "      <td>...</td>\n",
       "      <td>0</td>\n",
       "      <td>0</td>\n",
       "      <td>0</td>\n",
       "      <td>0</td>\n",
       "      <td>0</td>\n",
       "      <td>0</td>\n",
       "      <td>0</td>\n",
       "      <td>1</td>\n",
       "      <td>0</td>\n",
       "      <td>0</td>\n",
       "    </tr>\n",
       "    <tr>\n",
       "      <th>84</th>\n",
       "      <td>0</td>\n",
       "      <td>0.000000</td>\n",
       "      <td>0</td>\n",
       "      <td>0.0</td>\n",
       "      <td>1</td>\n",
       "      <td>-0.624348</td>\n",
       "      <td>3.667189</td>\n",
       "      <td>3.229316</td>\n",
       "      <td>-0.317178</td>\n",
       "      <td>3.713114</td>\n",
       "      <td>...</td>\n",
       "      <td>0</td>\n",
       "      <td>0</td>\n",
       "      <td>0</td>\n",
       "      <td>0</td>\n",
       "      <td>0</td>\n",
       "      <td>0</td>\n",
       "      <td>0</td>\n",
       "      <td>1</td>\n",
       "      <td>1</td>\n",
       "      <td>0</td>\n",
       "    </tr>\n",
       "    <tr>\n",
       "      <th>85</th>\n",
       "      <td>0</td>\n",
       "      <td>0.000000</td>\n",
       "      <td>0</td>\n",
       "      <td>0.0</td>\n",
       "      <td>1</td>\n",
       "      <td>-0.624348</td>\n",
       "      <td>3.667189</td>\n",
       "      <td>3.229316</td>\n",
       "      <td>-0.317178</td>\n",
       "      <td>-0.308821</td>\n",
       "      <td>...</td>\n",
       "      <td>0</td>\n",
       "      <td>0</td>\n",
       "      <td>0</td>\n",
       "      <td>0</td>\n",
       "      <td>0</td>\n",
       "      <td>0</td>\n",
       "      <td>0</td>\n",
       "      <td>1</td>\n",
       "      <td>0</td>\n",
       "      <td>0</td>\n",
       "    </tr>\n",
       "    <tr>\n",
       "      <th>86</th>\n",
       "      <td>0</td>\n",
       "      <td>0.000000</td>\n",
       "      <td>0</td>\n",
       "      <td>0.0</td>\n",
       "      <td>7</td>\n",
       "      <td>-0.545961</td>\n",
       "      <td>0.720852</td>\n",
       "      <td>0.877495</td>\n",
       "      <td>-0.317178</td>\n",
       "      <td>-0.308821</td>\n",
       "      <td>...</td>\n",
       "      <td>0</td>\n",
       "      <td>0</td>\n",
       "      <td>0</td>\n",
       "      <td>0</td>\n",
       "      <td>0</td>\n",
       "      <td>0</td>\n",
       "      <td>0</td>\n",
       "      <td>1</td>\n",
       "      <td>0</td>\n",
       "      <td>0</td>\n",
       "    </tr>\n",
       "    <tr>\n",
       "      <th>87</th>\n",
       "      <td>0</td>\n",
       "      <td>0.000000</td>\n",
       "      <td>0</td>\n",
       "      <td>0.0</td>\n",
       "      <td>3</td>\n",
       "      <td>-0.552232</td>\n",
       "      <td>-0.457683</td>\n",
       "      <td>0.485525</td>\n",
       "      <td>-0.317178</td>\n",
       "      <td>-0.308821</td>\n",
       "      <td>...</td>\n",
       "      <td>0</td>\n",
       "      <td>0</td>\n",
       "      <td>0</td>\n",
       "      <td>0</td>\n",
       "      <td>0</td>\n",
       "      <td>0</td>\n",
       "      <td>0</td>\n",
       "      <td>1</td>\n",
       "      <td>0</td>\n",
       "      <td>0</td>\n",
       "    </tr>\n",
       "    <tr>\n",
       "      <th>88</th>\n",
       "      <td>0</td>\n",
       "      <td>0.000000</td>\n",
       "      <td>0</td>\n",
       "      <td>0.0</td>\n",
       "      <td>7</td>\n",
       "      <td>-0.447978</td>\n",
       "      <td>0.131584</td>\n",
       "      <td>-0.396408</td>\n",
       "      <td>-0.317178</td>\n",
       "      <td>1.702146</td>\n",
       "      <td>...</td>\n",
       "      <td>0</td>\n",
       "      <td>0</td>\n",
       "      <td>0</td>\n",
       "      <td>0</td>\n",
       "      <td>0</td>\n",
       "      <td>0</td>\n",
       "      <td>0</td>\n",
       "      <td>1</td>\n",
       "      <td>0</td>\n",
       "      <td>0</td>\n",
       "    </tr>\n",
       "    <tr>\n",
       "      <th>89</th>\n",
       "      <td>0</td>\n",
       "      <td>0.000000</td>\n",
       "      <td>0</td>\n",
       "      <td>0.0</td>\n",
       "      <td>19</td>\n",
       "      <td>-0.300332</td>\n",
       "      <td>-0.457683</td>\n",
       "      <td>-0.723909</td>\n",
       "      <td>-0.317178</td>\n",
       "      <td>-0.308821</td>\n",
       "      <td>...</td>\n",
       "      <td>0</td>\n",
       "      <td>0</td>\n",
       "      <td>0</td>\n",
       "      <td>0</td>\n",
       "      <td>0</td>\n",
       "      <td>0</td>\n",
       "      <td>0</td>\n",
       "      <td>1</td>\n",
       "      <td>0</td>\n",
       "      <td>0</td>\n",
       "    </tr>\n",
       "    <tr>\n",
       "      <th>90</th>\n",
       "      <td>2</td>\n",
       "      <td>36.000000</td>\n",
       "      <td>0</td>\n",
       "      <td>0.0</td>\n",
       "      <td>15</td>\n",
       "      <td>-0.536112</td>\n",
       "      <td>-0.457683</td>\n",
       "      <td>-0.644271</td>\n",
       "      <td>-0.317178</td>\n",
       "      <td>1.702146</td>\n",
       "      <td>...</td>\n",
       "      <td>0</td>\n",
       "      <td>0</td>\n",
       "      <td>0</td>\n",
       "      <td>0</td>\n",
       "      <td>0</td>\n",
       "      <td>0</td>\n",
       "      <td>0</td>\n",
       "      <td>1</td>\n",
       "      <td>0</td>\n",
       "      <td>0</td>\n",
       "    </tr>\n",
       "    <tr>\n",
       "      <th>91</th>\n",
       "      <td>0</td>\n",
       "      <td>0.000000</td>\n",
       "      <td>0</td>\n",
       "      <td>0.0</td>\n",
       "      <td>1</td>\n",
       "      <td>-0.624348</td>\n",
       "      <td>3.667189</td>\n",
       "      <td>3.229316</td>\n",
       "      <td>-0.317178</td>\n",
       "      <td>-0.308821</td>\n",
       "      <td>...</td>\n",
       "      <td>0</td>\n",
       "      <td>0</td>\n",
       "      <td>0</td>\n",
       "      <td>0</td>\n",
       "      <td>0</td>\n",
       "      <td>0</td>\n",
       "      <td>0</td>\n",
       "      <td>1</td>\n",
       "      <td>1</td>\n",
       "      <td>0</td>\n",
       "    </tr>\n",
       "    <tr>\n",
       "      <th>92</th>\n",
       "      <td>0</td>\n",
       "      <td>0.000000</td>\n",
       "      <td>0</td>\n",
       "      <td>0.0</td>\n",
       "      <td>2</td>\n",
       "      <td>-0.597173</td>\n",
       "      <td>-0.457683</td>\n",
       "      <td>1.171473</td>\n",
       "      <td>-0.317178</td>\n",
       "      <td>-0.308821</td>\n",
       "      <td>...</td>\n",
       "      <td>0</td>\n",
       "      <td>0</td>\n",
       "      <td>0</td>\n",
       "      <td>0</td>\n",
       "      <td>0</td>\n",
       "      <td>0</td>\n",
       "      <td>0</td>\n",
       "      <td>1</td>\n",
       "      <td>0</td>\n",
       "      <td>0</td>\n",
       "    </tr>\n",
       "    <tr>\n",
       "      <th>93</th>\n",
       "      <td>0</td>\n",
       "      <td>0.000000</td>\n",
       "      <td>0</td>\n",
       "      <td>0.0</td>\n",
       "      <td>13</td>\n",
       "      <td>-0.285064</td>\n",
       "      <td>-0.457683</td>\n",
       "      <td>-0.569779</td>\n",
       "      <td>-0.317178</td>\n",
       "      <td>-0.308821</td>\n",
       "      <td>...</td>\n",
       "      <td>0</td>\n",
       "      <td>0</td>\n",
       "      <td>0</td>\n",
       "      <td>0</td>\n",
       "      <td>0</td>\n",
       "      <td>0</td>\n",
       "      <td>0</td>\n",
       "      <td>0</td>\n",
       "      <td>0</td>\n",
       "      <td>0</td>\n",
       "    </tr>\n",
       "    <tr>\n",
       "      <th>94</th>\n",
       "      <td>0</td>\n",
       "      <td>0.000000</td>\n",
       "      <td>0</td>\n",
       "      <td>0.0</td>\n",
       "      <td>27</td>\n",
       "      <td>-0.140789</td>\n",
       "      <td>-0.381296</td>\n",
       "      <td>-0.352856</td>\n",
       "      <td>-0.317178</td>\n",
       "      <td>2.707630</td>\n",
       "      <td>...</td>\n",
       "      <td>0</td>\n",
       "      <td>0</td>\n",
       "      <td>0</td>\n",
       "      <td>0</td>\n",
       "      <td>0</td>\n",
       "      <td>0</td>\n",
       "      <td>0</td>\n",
       "      <td>1</td>\n",
       "      <td>0</td>\n",
       "      <td>0</td>\n",
       "    </tr>\n",
       "    <tr>\n",
       "      <th>95</th>\n",
       "      <td>0</td>\n",
       "      <td>0.000000</td>\n",
       "      <td>0</td>\n",
       "      <td>0.0</td>\n",
       "      <td>2</td>\n",
       "      <td>-0.607102</td>\n",
       "      <td>-0.457683</td>\n",
       "      <td>1.171473</td>\n",
       "      <td>-0.317178</td>\n",
       "      <td>0.696663</td>\n",
       "      <td>...</td>\n",
       "      <td>0</td>\n",
       "      <td>0</td>\n",
       "      <td>0</td>\n",
       "      <td>0</td>\n",
       "      <td>0</td>\n",
       "      <td>0</td>\n",
       "      <td>0</td>\n",
       "      <td>1</td>\n",
       "      <td>0</td>\n",
       "      <td>0</td>\n",
       "    </tr>\n",
       "    <tr>\n",
       "      <th>96</th>\n",
       "      <td>0</td>\n",
       "      <td>0.000000</td>\n",
       "      <td>0</td>\n",
       "      <td>0.0</td>\n",
       "      <td>6</td>\n",
       "      <td>0.194270</td>\n",
       "      <td>0.573535</td>\n",
       "      <td>0.485525</td>\n",
       "      <td>-0.317178</td>\n",
       "      <td>0.696663</td>\n",
       "      <td>...</td>\n",
       "      <td>0</td>\n",
       "      <td>0</td>\n",
       "      <td>0</td>\n",
       "      <td>0</td>\n",
       "      <td>0</td>\n",
       "      <td>0</td>\n",
       "      <td>0</td>\n",
       "      <td>1</td>\n",
       "      <td>0</td>\n",
       "      <td>0</td>\n",
       "    </tr>\n",
       "    <tr>\n",
       "      <th>97</th>\n",
       "      <td>0</td>\n",
       "      <td>0.000000</td>\n",
       "      <td>0</td>\n",
       "      <td>0.0</td>\n",
       "      <td>4</td>\n",
       "      <td>-0.569477</td>\n",
       "      <td>-0.457683</td>\n",
       "      <td>-0.371910</td>\n",
       "      <td>-0.317178</td>\n",
       "      <td>2.707630</td>\n",
       "      <td>...</td>\n",
       "      <td>0</td>\n",
       "      <td>0</td>\n",
       "      <td>0</td>\n",
       "      <td>0</td>\n",
       "      <td>0</td>\n",
       "      <td>0</td>\n",
       "      <td>0</td>\n",
       "      <td>1</td>\n",
       "      <td>0</td>\n",
       "      <td>0</td>\n",
       "    </tr>\n",
       "    <tr>\n",
       "      <th>98</th>\n",
       "      <td>0</td>\n",
       "      <td>0.000000</td>\n",
       "      <td>1</td>\n",
       "      <td>0.0</td>\n",
       "      <td>7</td>\n",
       "      <td>-0.598219</td>\n",
       "      <td>0.328007</td>\n",
       "      <td>0.779502</td>\n",
       "      <td>-0.317178</td>\n",
       "      <td>2.707630</td>\n",
       "      <td>...</td>\n",
       "      <td>0</td>\n",
       "      <td>0</td>\n",
       "      <td>0</td>\n",
       "      <td>0</td>\n",
       "      <td>0</td>\n",
       "      <td>0</td>\n",
       "      <td>0</td>\n",
       "      <td>1</td>\n",
       "      <td>0</td>\n",
       "      <td>0</td>\n",
       "    </tr>\n",
       "    <tr>\n",
       "      <th>99</th>\n",
       "      <td>0</td>\n",
       "      <td>0.000000</td>\n",
       "      <td>0</td>\n",
       "      <td>0.0</td>\n",
       "      <td>16</td>\n",
       "      <td>-0.287703</td>\n",
       "      <td>-0.371748</td>\n",
       "      <td>-0.234720</td>\n",
       "      <td>-0.317178</td>\n",
       "      <td>-0.308821</td>\n",
       "      <td>...</td>\n",
       "      <td>0</td>\n",
       "      <td>0</td>\n",
       "      <td>0</td>\n",
       "      <td>0</td>\n",
       "      <td>0</td>\n",
       "      <td>0</td>\n",
       "      <td>0</td>\n",
       "      <td>1</td>\n",
       "      <td>0</td>\n",
       "      <td>0</td>\n",
       "    </tr>\n",
       "  </tbody>\n",
       "</table>\n",
       "<p>100 rows × 27 columns</p>\n",
       "</div>"
      ],
      "text/plain": [
       "    Administrative  Administrative_Duration  Informational  \\\n",
       "0                0                 0.000000              0   \n",
       "1                0                 0.000000              0   \n",
       "2                0                 0.000000              0   \n",
       "3                0                 0.000000              0   \n",
       "4                0                 0.000000              0   \n",
       "5                0                 0.000000              0   \n",
       "6                0                 0.000000              0   \n",
       "7                1                 0.000000              0   \n",
       "8                0                 0.000000              0   \n",
       "9                0                 0.000000              0   \n",
       "10               0                 0.000000              0   \n",
       "11               0                 0.000000              0   \n",
       "12               0                 0.000000              0   \n",
       "13               0                 0.000000              0   \n",
       "14               0                 0.000000              0   \n",
       "15               2                53.000000              0   \n",
       "16               0                 0.000000              0   \n",
       "17               0                 0.000000              0   \n",
       "18               0                 0.000000              0   \n",
       "19               0                 0.000000              0   \n",
       "20               0                 0.000000              0   \n",
       "21               0                 0.000000              0   \n",
       "22               0                 0.000000              0   \n",
       "23               0                 0.000000              0   \n",
       "24               0                 0.000000              0   \n",
       "25               0                 0.000000              0   \n",
       "26               4                64.600000              0   \n",
       "27               0                 0.000000              0   \n",
       "28               0                 0.000000              0   \n",
       "29               1                 6.000000              1   \n",
       "..             ...                      ...            ...   \n",
       "70               0                 0.000000              0   \n",
       "71               0                 0.000000              0   \n",
       "72               0                 0.000000              0   \n",
       "73               0                 0.000000              0   \n",
       "74               0                 0.000000              0   \n",
       "75               0                 0.000000              0   \n",
       "76              10              1005.666667              0   \n",
       "77               0                 0.000000              0   \n",
       "78               0                 0.000000              0   \n",
       "79               0                 0.000000              0   \n",
       "80               0                 0.000000              0   \n",
       "81               0                 0.000000              0   \n",
       "82               0                 0.000000              0   \n",
       "83               0                 0.000000              0   \n",
       "84               0                 0.000000              0   \n",
       "85               0                 0.000000              0   \n",
       "86               0                 0.000000              0   \n",
       "87               0                 0.000000              0   \n",
       "88               0                 0.000000              0   \n",
       "89               0                 0.000000              0   \n",
       "90               2                36.000000              0   \n",
       "91               0                 0.000000              0   \n",
       "92               0                 0.000000              0   \n",
       "93               0                 0.000000              0   \n",
       "94               0                 0.000000              0   \n",
       "95               0                 0.000000              0   \n",
       "96               0                 0.000000              0   \n",
       "97               0                 0.000000              0   \n",
       "98               0                 0.000000              1   \n",
       "99               0                 0.000000              0   \n",
       "\n",
       "    Informational_Duration  ProductRelated  ProductRelated_Duration  \\\n",
       "0                      0.0               1                -0.624348   \n",
       "1                      0.0               2                -0.590903   \n",
       "2                      0.0               1                -0.624348   \n",
       "3                      0.0               2                -0.622954   \n",
       "4                      0.0              10                -0.296430   \n",
       "5                      0.0              19                -0.543757   \n",
       "6                      0.0               1                -0.624348   \n",
       "7                      0.0               0                -0.624348   \n",
       "8                      0.0               2                -0.605012   \n",
       "9                      0.0               3                -0.238685   \n",
       "10                     0.0               3                -0.417929   \n",
       "11                     0.0              16                -0.411267   \n",
       "12                     0.0               7                -0.477765   \n",
       "13                     0.0               6                -0.573135   \n",
       "14                     0.0               2                -0.588812   \n",
       "15                     0.0              23                 0.247461   \n",
       "16                     0.0               1                -0.624348   \n",
       "17                     0.0              13                -0.449301   \n",
       "18                     0.0               2                -0.607625   \n",
       "19                     0.0              20                 0.933543   \n",
       "20                     0.0               8                -0.553190   \n",
       "21                     0.0               2                -0.624348   \n",
       "22                     0.0               3                -0.569477   \n",
       "23                     0.0               2                -0.616509   \n",
       "24                     0.0               1                -0.624348   \n",
       "25                     0.0               5                -0.542825   \n",
       "26                     0.0              32                -0.030990   \n",
       "27                     0.0               4                -0.584632   \n",
       "28                     0.0               4                -0.591425   \n",
       "29                     0.0              45                 0.202762   \n",
       "..                     ...             ...                      ...   \n",
       "70                     0.0               1                -0.624348   \n",
       "71                     0.0              20                -0.521202   \n",
       "72                     0.0               2                -0.601877   \n",
       "73                     0.0               8                -0.401381   \n",
       "74                     0.0               3                -0.553800   \n",
       "75                     0.0              16                -0.316898   \n",
       "76                     0.0              36                 0.478992   \n",
       "77                     0.0               2                -0.584632   \n",
       "78                     0.0               1                -0.624348   \n",
       "79                     0.0               1                -0.624348   \n",
       "80                     0.0               7                -0.515651   \n",
       "81                     0.0               4                -0.483252   \n",
       "82                     0.0               6                -0.603706   \n",
       "83                     0.0              12                -0.428381   \n",
       "84                     0.0               1                -0.624348   \n",
       "85                     0.0               1                -0.624348   \n",
       "86                     0.0               7                -0.545961   \n",
       "87                     0.0               3                -0.552232   \n",
       "88                     0.0               7                -0.447978   \n",
       "89                     0.0              19                -0.300332   \n",
       "90                     0.0              15                -0.536112   \n",
       "91                     0.0               1                -0.624348   \n",
       "92                     0.0               2                -0.597173   \n",
       "93                     0.0              13                -0.285064   \n",
       "94                     0.0              27                -0.140789   \n",
       "95                     0.0               2                -0.607102   \n",
       "96                     0.0               6                 0.194270   \n",
       "97                     0.0               4                -0.569477   \n",
       "98                     0.0               7                -0.598219   \n",
       "99                     0.0              16                -0.287703   \n",
       "\n",
       "    BounceRates  ExitRates  PageValues  SpecialDay  ...  Month_June  \\\n",
       "0      3.667189   3.229316   -0.317178   -0.308821  ...           0   \n",
       "1     -0.457683   1.171473   -0.317178   -0.308821  ...           0   \n",
       "2      3.667189   3.229316   -0.317178   -0.308821  ...           0   \n",
       "3      0.573535   1.994610   -0.317178   -0.308821  ...           0   \n",
       "4     -0.045196   0.142551   -0.317178   -0.308821  ...           0   \n",
       "5     -0.132035  -0.380935   -0.317178   -0.308821  ...           0   \n",
       "6      3.667189   3.229316   -0.317178    1.702146  ...           0   \n",
       "7      3.667189   3.229316   -0.317178   -0.308821  ...           0   \n",
       "8     -0.457683   1.171473   -0.317178    3.713114  ...           0   \n",
       "9     -0.457683  -0.429072   -0.317178    1.702146  ...           0   \n",
       "10    -0.457683   0.485525   -0.317178   -0.308821  ...           0   \n",
       "11    -0.070976  -0.354761   -0.317178    1.702146  ...           0   \n",
       "12    -0.457683  -0.298415   -0.317178   -0.308821  ...           0   \n",
       "13    -0.457683   0.485525   -0.317178   -0.308821  ...           0   \n",
       "14    -0.457683   1.171473   -0.317178   -0.308821  ...           0   \n",
       "15    -0.285813  -0.550682   -0.317178   -0.308821  ...           0   \n",
       "16     3.667189   3.229316   -0.317178   -0.308821  ...           0   \n",
       "17    -0.457683  -0.728075   -0.317178   -0.308821  ...           0   \n",
       "18    -0.457683   1.171473   -0.317178   -0.308821  ...           0   \n",
       "19    -0.457683  -0.680586   -0.317178   -0.308821  ...           0   \n",
       "20    -0.457683  -0.714884   -0.317178    4.718598  ...           0   \n",
       "21     3.667189   3.229316   -0.317178   -0.308821  ...           0   \n",
       "22    -0.457683  -0.200423   -0.317178   -0.308821  ...           0   \n",
       "23    -0.457683   1.171473   -0.317178    3.713114  ...           0   \n",
       "24     3.667189   3.229316   -0.317178   -0.308821  ...           0   \n",
       "25    -0.457683  -0.063233   -0.317178   -0.308821  ...           0   \n",
       "26    -0.398756  -0.690386   -0.317178   -0.308821  ...           0   \n",
       "27     0.573535   1.171473   -0.317178   -0.308821  ...           0   \n",
       "28    -0.457683   0.142551   -0.317178    0.696663  ...           0   \n",
       "29     0.439028   0.159451    2.600782    1.702146  ...           0   \n",
       "..          ...        ...         ...         ...  ...         ...   \n",
       "70     3.667189   3.229316   -0.317178   -0.308821  ...           0   \n",
       "71     0.057926   0.193997   -0.317178   -0.308821  ...           0   \n",
       "72    -0.457683   1.171473   -0.317178    1.702146  ...           0   \n",
       "73    -0.457683  -0.629140   -0.317178   -0.308821  ...           0   \n",
       "74    -0.457683   0.485525   -0.317178   -0.308821  ...           0   \n",
       "75    -0.457683  -0.371910   -0.317178   -0.308821  ...           0   \n",
       "76    -0.368012  -0.588132    0.298915   -0.308821  ...           0   \n",
       "77    -0.457683   0.142551   -0.317178    2.707630  ...           0   \n",
       "78     3.667189   3.229316   -0.317178    4.718598  ...           0   \n",
       "79     3.667189   3.229316   -0.317178    1.702146  ...           0   \n",
       "80    -0.457683  -0.298415   -0.317178   -0.308821  ...           0   \n",
       "81    -0.457683  -0.543397   -0.317178    3.713114  ...           0   \n",
       "82    -0.457683  -0.474802   -0.317178   -0.308821  ...           0   \n",
       "83    -0.113944   0.314038   -0.317178   -0.308821  ...           0   \n",
       "84     3.667189   3.229316   -0.317178    3.713114  ...           0   \n",
       "85     3.667189   3.229316   -0.317178   -0.308821  ...           0   \n",
       "86     0.720852   0.877495   -0.317178   -0.308821  ...           0   \n",
       "87    -0.457683   0.485525   -0.317178   -0.308821  ...           0   \n",
       "88     0.131584  -0.396408   -0.317178    1.702146  ...           0   \n",
       "89    -0.457683  -0.723909   -0.317178   -0.308821  ...           0   \n",
       "90    -0.457683  -0.644271   -0.317178    1.702146  ...           0   \n",
       "91     3.667189   3.229316   -0.317178   -0.308821  ...           0   \n",
       "92    -0.457683   1.171473   -0.317178   -0.308821  ...           0   \n",
       "93    -0.457683  -0.569779   -0.317178   -0.308821  ...           0   \n",
       "94    -0.381296  -0.352856   -0.317178    2.707630  ...           0   \n",
       "95    -0.457683   1.171473   -0.317178    0.696663  ...           0   \n",
       "96     0.573535   0.485525   -0.317178    0.696663  ...           0   \n",
       "97    -0.457683  -0.371910   -0.317178    2.707630  ...           0   \n",
       "98     0.328007   0.779502   -0.317178    2.707630  ...           0   \n",
       "99    -0.371748  -0.234720   -0.317178   -0.308821  ...           0   \n",
       "\n",
       "    Month_Mar  Month_May  Month_Nov  Month_Oct  Month_Sep  VisitorType_Other  \\\n",
       "0           0          0          0          0          0                  0   \n",
       "1           0          0          0          0          0                  0   \n",
       "2           0          0          0          0          0                  0   \n",
       "3           0          0          0          0          0                  0   \n",
       "4           0          0          0          0          0                  0   \n",
       "5           0          0          0          0          0                  0   \n",
       "6           0          0          0          0          0                  0   \n",
       "7           0          0          0          0          0                  0   \n",
       "8           0          0          0          0          0                  0   \n",
       "9           0          0          0          0          0                  0   \n",
       "10          0          0          0          0          0                  0   \n",
       "11          0          0          0          0          0                  0   \n",
       "12          0          0          0          0          0                  0   \n",
       "13          0          0          0          0          0                  0   \n",
       "14          0          0          0          0          0                  0   \n",
       "15          0          0          0          0          0                  0   \n",
       "16          0          0          0          0          0                  0   \n",
       "17          0          0          0          0          0                  0   \n",
       "18          0          0          0          0          0                  0   \n",
       "19          0          0          0          0          0                  0   \n",
       "20          0          0          0          0          0                  0   \n",
       "21          0          0          0          0          0                  0   \n",
       "22          0          0          0          0          0                  0   \n",
       "23          0          0          0          0          0                  0   \n",
       "24          0          0          0          0          0                  0   \n",
       "25          0          0          0          0          0                  0   \n",
       "26          0          0          0          0          0                  0   \n",
       "27          0          0          0          0          0                  0   \n",
       "28          0          0          0          0          0                  0   \n",
       "29          0          0          0          0          0                  0   \n",
       "..        ...        ...        ...        ...        ...                ...   \n",
       "70          0          0          0          0          0                  0   \n",
       "71          0          0          0          0          0                  0   \n",
       "72          0          0          0          0          0                  0   \n",
       "73          0          0          0          0          0                  0   \n",
       "74          0          0          0          0          0                  0   \n",
       "75          0          0          0          0          0                  0   \n",
       "76          0          0          0          0          0                  0   \n",
       "77          0          0          0          0          0                  0   \n",
       "78          0          0          0          0          0                  0   \n",
       "79          0          0          0          0          0                  0   \n",
       "80          0          0          0          0          0                  0   \n",
       "81          0          0          0          0          0                  0   \n",
       "82          0          0          0          0          0                  0   \n",
       "83          0          0          0          0          0                  0   \n",
       "84          0          0          0          0          0                  0   \n",
       "85          0          0          0          0          0                  0   \n",
       "86          0          0          0          0          0                  0   \n",
       "87          0          0          0          0          0                  0   \n",
       "88          0          0          0          0          0                  0   \n",
       "89          0          0          0          0          0                  0   \n",
       "90          0          0          0          0          0                  0   \n",
       "91          0          0          0          0          0                  0   \n",
       "92          0          0          0          0          0                  0   \n",
       "93          0          0          0          0          0                  0   \n",
       "94          0          0          0          0          0                  0   \n",
       "95          0          0          0          0          0                  0   \n",
       "96          0          0          0          0          0                  0   \n",
       "97          0          0          0          0          0                  0   \n",
       "98          0          0          0          0          0                  0   \n",
       "99          0          0          0          0          0                  0   \n",
       "\n",
       "    VisitorType_Returning_Visitor  Weekend_True  labels  \n",
       "0                               1             0       0  \n",
       "1                               1             0       0  \n",
       "2                               1             0       0  \n",
       "3                               1             0       0  \n",
       "4                               1             1       0  \n",
       "5                               1             0       0  \n",
       "6                               1             0       0  \n",
       "7                               1             1       0  \n",
       "8                               1             0       0  \n",
       "9                               1             0       0  \n",
       "10                              1             0       0  \n",
       "11                              1             0       0  \n",
       "12                              1             0       0  \n",
       "13                              1             0       0  \n",
       "14                              1             0       0  \n",
       "15                              1             0       0  \n",
       "16                              1             0       0  \n",
       "17                              1             1       0  \n",
       "18                              1             0       0  \n",
       "19                              1             0       0  \n",
       "20                              1             1       0  \n",
       "21                              1             0       0  \n",
       "22                              1             0       0  \n",
       "23                              1             0       0  \n",
       "24                              1             1       0  \n",
       "25                              1             0       0  \n",
       "26                              1             0       0  \n",
       "27                              1             0       0  \n",
       "28                              1             0       0  \n",
       "29                              1             0       0  \n",
       "..                            ...           ...     ...  \n",
       "70                              1             0       0  \n",
       "71                              1             0       0  \n",
       "72                              1             0       0  \n",
       "73                              1             0       0  \n",
       "74                              1             0       0  \n",
       "75                              1             0       0  \n",
       "76                              1             0       1  \n",
       "77                              1             0       0  \n",
       "78                              1             1       0  \n",
       "79                              1             0       0  \n",
       "80                              1             1       0  \n",
       "81                              1             0       0  \n",
       "82                              1             0       0  \n",
       "83                              1             0       0  \n",
       "84                              1             1       0  \n",
       "85                              1             0       0  \n",
       "86                              1             0       0  \n",
       "87                              1             0       0  \n",
       "88                              1             0       0  \n",
       "89                              1             0       0  \n",
       "90                              1             0       0  \n",
       "91                              1             1       0  \n",
       "92                              1             0       0  \n",
       "93                              0             0       0  \n",
       "94                              1             0       0  \n",
       "95                              1             0       0  \n",
       "96                              1             0       0  \n",
       "97                              1             0       0  \n",
       "98                              1             0       0  \n",
       "99                              1             0       0  \n",
       "\n",
       "[100 rows x 27 columns]"
      ]
     },
     "execution_count": 35,
     "metadata": {},
     "output_type": "execute_result"
    }
   ],
   "source": [
    "df.head(100)"
   ]
  },
  {
   "cell_type": "code",
   "execution_count": 36,
   "metadata": {},
   "outputs": [
    {
     "data": {
      "text/plain": [
       "0    11595\n",
       "1      468\n",
       "2      267\n",
       "Name: labels, dtype: int64"
      ]
     },
     "execution_count": 36,
     "metadata": {},
     "output_type": "execute_result"
    }
   ],
   "source": [
    "df.labels.value_counts()"
   ]
  },
  {
   "cell_type": "markdown",
   "metadata": {},
   "source": [
    "## Applying PCA"
   ]
  },
  {
   "cell_type": "code",
   "execution_count": 37,
   "metadata": {},
   "outputs": [],
   "source": [
    "from sklearn.decomposition import PCA\n",
    "from mpl_toolkits.mplot3d import Axes3D\n"
   ]
  },
  {
   "cell_type": "markdown",
   "metadata": {},
   "source": [
    "## We gonna be using n_components = 5 for our PCA"
   ]
  },
  {
   "cell_type": "code",
   "execution_count": 38,
   "metadata": {},
   "outputs": [],
   "source": [
    "x = df.drop(\"labels\",axis=1)\n",
    "y =df.labels\n",
    "\n",
    "df_pca= PCA(n_components=5).fit_transform(x)\n"
   ]
  },
  {
   "cell_type": "markdown",
   "metadata": {},
   "source": [
    "### Plotting first 3 components"
   ]
  },
  {
   "cell_type": "code",
   "execution_count": 39,
   "metadata": {},
   "outputs": [
    {
     "data": {
      "image/png": "[encoded data removed]",
      "text/plain": [
       "<Figure size 576x432 with 1 Axes>"
      ]
     },
     "metadata": {},
     "output_type": "display_data"
    }
   ],
   "source": [
    "fig = plt.figure(1, figsize=(8, 6))\n",
    "ax = Axes3D(fig, elev=-150, azim=110)\n",
    "ax.scatter(df_pca[:, 0],df_pca[:, 1],df_pca[:, 2], c=y,cmap=plt.cm.Set1, edgecolor='k')\n",
    "ax.set_title(\"First three PCA components directions\")\n",
    "ax.set_xlabel(\"1st eigenvector\")\n",
    "ax.w_xaxis.set_ticklabels([])\n",
    "ax.set_ylabel(\"2nd eigenvector\")\n",
    "ax.w_yaxis.set_ticklabels([])\n",
    "ax.set_zlabel(\"3rd eigenvector\")\n",
    "ax.w_zaxis.set_ticklabels([])\n",
    "plt.show()"
   ]
  },
  {
   "cell_type": "code",
   "execution_count": null,
   "metadata": {},
   "outputs": [],
   "source": []
  },
  {
   "cell_type": "code",
   "execution_count": 40,
   "metadata": {},
   "outputs": [],
   "source": [
    "df_pca_dt=pd.DataFrame(df_pca)"
   ]
  },
  {
   "cell_type": "code",
   "execution_count": 41,
   "metadata": {},
   "outputs": [],
   "source": [
    "df_pca_dt[\"label\"]=y"
   ]
  },
  {
   "cell_type": "code",
   "execution_count": 42,
   "metadata": {},
   "outputs": [
    {
     "data": {
      "text/html": [
       "<div>\n",
       "<style scoped>\n",
       "    .dataframe tbody tr th:only-of-type {\n",
       "        vertical-align: middle;\n",
       "    }\n",
       "\n",
       "    .dataframe tbody tr th {\n",
       "        vertical-align: top;\n",
       "    }\n",
       "\n",
       "    .dataframe thead th {\n",
       "        text-align: right;\n",
       "    }\n",
       "</style>\n",
       "<table border=\"1\" class=\"dataframe\">\n",
       "  <thead>\n",
       "    <tr style=\"text-align: right;\">\n",
       "      <th></th>\n",
       "      <th>0</th>\n",
       "      <th>1</th>\n",
       "      <th>2</th>\n",
       "      <th>3</th>\n",
       "      <th>4</th>\n",
       "      <th>label</th>\n",
       "    </tr>\n",
       "  </thead>\n",
       "  <tbody>\n",
       "    <tr>\n",
       "      <th>0</th>\n",
       "      <td>-90.219082</td>\n",
       "      <td>-0.881253</td>\n",
       "      <td>-23.042583</td>\n",
       "      <td>-3.279213</td>\n",
       "      <td>1.785094</td>\n",
       "      <td>0</td>\n",
       "    </tr>\n",
       "    <tr>\n",
       "      <th>1</th>\n",
       "      <td>-90.127348</td>\n",
       "      <td>-0.836166</td>\n",
       "      <td>-22.022917</td>\n",
       "      <td>-2.291094</td>\n",
       "      <td>1.306779</td>\n",
       "      <td>0</td>\n",
       "    </tr>\n",
       "    <tr>\n",
       "      <th>2</th>\n",
       "      <td>-90.221572</td>\n",
       "      <td>-0.885953</td>\n",
       "      <td>-23.064187</td>\n",
       "      <td>-0.793286</td>\n",
       "      <td>0.479863</td>\n",
       "      <td>0</td>\n",
       "    </tr>\n",
       "    <tr>\n",
       "      <th>3</th>\n",
       "      <td>-90.130393</td>\n",
       "      <td>-0.837714</td>\n",
       "      <td>-22.040974</td>\n",
       "      <td>-0.174135</td>\n",
       "      <td>1.259717</td>\n",
       "      <td>0</td>\n",
       "    </tr>\n",
       "    <tr>\n",
       "      <th>4</th>\n",
       "      <td>-89.435033</td>\n",
       "      <td>-0.470418</td>\n",
       "      <td>-14.062239</td>\n",
       "      <td>-0.171176</td>\n",
       "      <td>1.369256</td>\n",
       "      <td>0</td>\n",
       "    </tr>\n",
       "  </tbody>\n",
       "</table>\n",
       "</div>"
      ],
      "text/plain": [
       "           0         1          2         3         4  label\n",
       "0 -90.219082 -0.881253 -23.042583 -3.279213  1.785094      0\n",
       "1 -90.127348 -0.836166 -22.022917 -2.291094  1.306779      0\n",
       "2 -90.221572 -0.885953 -23.064187 -0.793286  0.479863      0\n",
       "3 -90.130393 -0.837714 -22.040974 -0.174135  1.259717      0\n",
       "4 -89.435033 -0.470418 -14.062239 -0.171176  1.369256      0"
      ]
     },
     "execution_count": 42,
     "metadata": {},
     "output_type": "execute_result"
    }
   ],
   "source": [
    "df_pca_dt.head()"
   ]
  },
  {
   "cell_type": "code",
   "execution_count": null,
   "metadata": {},
   "outputs": [],
   "source": []
  },
  {
   "cell_type": "markdown",
   "metadata": {},
   "source": [
    "# Modeling"
   ]
  },
  {
   "cell_type": "code",
   "execution_count": null,
   "metadata": {},
   "outputs": [],
   "source": []
  },
  {
   "cell_type": "code",
   "execution_count": 43,
   "metadata": {},
   "outputs": [],
   "source": [
    "from sklearn.model_selection import train_test_split"
   ]
  },
  {
   "cell_type": "code",
   "execution_count": 44,
   "metadata": {},
   "outputs": [],
   "source": [
    "scaled_xtrain,scaled_xtest,ytrain,ytest=train_test_split(df_pca,y,test_size=0.30,random_state=12)"
   ]
  },
  {
   "cell_type": "code",
   "execution_count": null,
   "metadata": {},
   "outputs": [],
   "source": []
  },
  {
   "cell_type": "code",
   "execution_count": 45,
   "metadata": {},
   "outputs": [],
   "source": [
    "from sklearn.linear_model import LogisticRegression\n",
    "lr=LogisticRegression()"
   ]
  },
  {
   "cell_type": "code",
   "execution_count": 46,
   "metadata": {},
   "outputs": [
    {
     "name": "stderr",
     "output_type": "stream",
     "text": [
      "C:\\Users\\Asus\\Anaconda3\\lib\\site-packages\\sklearn\\linear_model\\logistic.py:433: FutureWarning: Default solver will be changed to 'lbfgs' in 0.22. Specify a solver to silence this warning.\n",
      "  FutureWarning)\n",
      "C:\\Users\\Asus\\Anaconda3\\lib\\site-packages\\sklearn\\linear_model\\logistic.py:460: FutureWarning: Default multi_class will be changed to 'auto' in 0.22. Specify the multi_class option to silence this warning.\n",
      "  \"this warning.\", FutureWarning)\n"
     ]
    }
   ],
   "source": [
    "y_lr=lr.fit(scaled_xtrain,ytrain).predict(scaled_xtest)"
   ]
  },
  {
   "cell_type": "code",
   "execution_count": 47,
   "metadata": {},
   "outputs": [],
   "source": [
    "from sklearn.metrics import classification_report,confusion_matrix,explained_variance_score,cohen_kappa_score,accuracy_score,f1_score"
   ]
  },
  {
   "cell_type": "code",
   "execution_count": 48,
   "metadata": {},
   "outputs": [
    {
     "name": "stdout",
     "output_type": "stream",
     "text": [
      "              precision    recall  f1-score   support\n",
      "\n",
      "           0       1.00      1.00      1.00      3463\n",
      "           1       0.98      0.96      0.97       154\n",
      "           2       1.00      0.95      0.97        82\n",
      "\n",
      "   micro avg       1.00      1.00      1.00      3699\n",
      "   macro avg       0.99      0.97      0.98      3699\n",
      "weighted avg       1.00      1.00      1.00      3699\n",
      "\n"
     ]
    }
   ],
   "source": [
    "classificationreport = classification_report(ytest,y_lr)\n",
    "print(classificationreport)"
   ]
  },
  {
   "cell_type": "code",
   "execution_count": 49,
   "metadata": {},
   "outputs": [
    {
     "data": {
      "text/plain": [
       "0.9967558799675588"
      ]
     },
     "execution_count": 49,
     "metadata": {},
     "output_type": "execute_result"
    }
   ],
   "source": [
    "accuracy_score(ytest,y_lr)"
   ]
  },
  {
   "cell_type": "code",
   "execution_count": 50,
   "metadata": {},
   "outputs": [
    {
     "data": {
      "text/plain": [
       "0.972873624751809"
      ]
     },
     "execution_count": 50,
     "metadata": {},
     "output_type": "execute_result"
    }
   ],
   "source": [
    "cohen_kappa_score(ytest,y_lr)"
   ]
  },
  {
   "cell_type": "code",
   "execution_count": null,
   "metadata": {},
   "outputs": [],
   "source": []
  },
  {
   "cell_type": "code",
   "execution_count": 51,
   "metadata": {},
   "outputs": [
    {
     "data": {
      "text/plain": [
       "0.9538837693558189"
      ]
     },
     "execution_count": 51,
     "metadata": {},
     "output_type": "execute_result"
    }
   ],
   "source": [
    "explained_variance_score(ytest,y_lr)"
   ]
  },
  {
   "cell_type": "code",
   "execution_count": 52,
   "metadata": {},
   "outputs": [],
   "source": [
    "# Decision Tree"
   ]
  },
  {
   "cell_type": "code",
   "execution_count": 53,
   "metadata": {},
   "outputs": [],
   "source": [
    "from sklearn.tree import DecisionTreeClassifier\n",
    "dt=DecisionTreeClassifier()"
   ]
  },
  {
   "cell_type": "code",
   "execution_count": 54,
   "metadata": {},
   "outputs": [],
   "source": [
    "y_dt=dt.fit(scaled_xtrain,ytrain).predict(scaled_xtest)"
   ]
  },
  {
   "cell_type": "code",
   "execution_count": 55,
   "metadata": {},
   "outputs": [],
   "source": [
    "from sklearn.metrics import classification_report,confusion_matrix,explained_variance_score,cohen_kappa_score,accuracy_score"
   ]
  },
  {
   "cell_type": "code",
   "execution_count": 56,
   "metadata": {},
   "outputs": [
    {
     "name": "stdout",
     "output_type": "stream",
     "text": [
      "              precision    recall  f1-score   support\n",
      "\n",
      "           0       1.00      1.00      1.00      3463\n",
      "           1       0.98      0.99      0.98       154\n",
      "           2       0.97      0.93      0.95        82\n",
      "\n",
      "   micro avg       1.00      1.00      1.00      3699\n",
      "   macro avg       0.98      0.97      0.98      3699\n",
      "weighted avg       1.00      1.00      1.00      3699\n",
      "\n"
     ]
    }
   ],
   "source": [
    "classificationreport = classification_report(ytest,y_dt)\n",
    "print(classificationreport)"
   ]
  },
  {
   "cell_type": "code",
   "execution_count": 57,
   "metadata": {},
   "outputs": [
    {
     "data": {
      "text/plain": [
       "0.9975669099756691"
      ]
     },
     "execution_count": 57,
     "metadata": {},
     "output_type": "execute_result"
    }
   ],
   "source": [
    "accuracy_score(ytest,y_dt)"
   ]
  },
  {
   "cell_type": "code",
   "execution_count": null,
   "metadata": {},
   "outputs": [],
   "source": []
  },
  {
   "cell_type": "code",
   "execution_count": 58,
   "metadata": {},
   "outputs": [
    {
     "data": {
      "text/plain": [
       "0.9798184625513086"
      ]
     },
     "execution_count": 58,
     "metadata": {},
     "output_type": "execute_result"
    }
   ],
   "source": [
    "cohen_kappa_score(ytest,y_dt)"
   ]
  },
  {
   "cell_type": "code",
   "execution_count": 59,
   "metadata": {},
   "outputs": [
    {
     "data": {
      "text/plain": [
       "0.9538409579294491"
      ]
     },
     "execution_count": 59,
     "metadata": {},
     "output_type": "execute_result"
    }
   ],
   "source": [
    "explained_variance_score(ytest,y_dt)"
   ]
  },
  {
   "cell_type": "code",
   "execution_count": null,
   "metadata": {},
   "outputs": [],
   "source": []
  },
  {
   "cell_type": "code",
   "execution_count": 60,
   "metadata": {},
   "outputs": [],
   "source": [
    "# KNN"
   ]
  },
  {
   "cell_type": "code",
   "execution_count": 61,
   "metadata": {},
   "outputs": [],
   "source": [
    "from sklearn.neighbors import KNeighborsClassifier\n",
    "knn=KNeighborsClassifier()"
   ]
  },
  {
   "cell_type": "code",
   "execution_count": 62,
   "metadata": {},
   "outputs": [],
   "source": [
    "y_kn=knn.fit(scaled_xtrain,ytrain).predict(scaled_xtest)"
   ]
  },
  {
   "cell_type": "code",
   "execution_count": 63,
   "metadata": {},
   "outputs": [],
   "source": [
    "from sklearn.metrics import classification_report,confusion_matrix,explained_variance_score,cohen_kappa_score,accuracy_score"
   ]
  },
  {
   "cell_type": "code",
   "execution_count": 64,
   "metadata": {},
   "outputs": [
    {
     "name": "stdout",
     "output_type": "stream",
     "text": [
      "              precision    recall  f1-score   support\n",
      "\n",
      "           0       1.00      1.00      1.00      3463\n",
      "           1       0.99      0.98      0.98       154\n",
      "           2       0.99      1.00      0.99        82\n",
      "\n",
      "   micro avg       1.00      1.00      1.00      3699\n",
      "   macro avg       0.99      0.99      0.99      3699\n",
      "weighted avg       1.00      1.00      1.00      3699\n",
      "\n"
     ]
    }
   ],
   "source": [
    "classificationreport = classification_report(ytest,y_kn)\n",
    "print(classificationreport)"
   ]
  },
  {
   "cell_type": "code",
   "execution_count": 65,
   "metadata": {},
   "outputs": [
    {
     "data": {
      "text/plain": [
       "0.9983779399837794"
      ]
     },
     "execution_count": 65,
     "metadata": {},
     "output_type": "execute_result"
    }
   ],
   "source": [
    "accuracy_score(ytest,y_kn)"
   ]
  },
  {
   "cell_type": "code",
   "execution_count": null,
   "metadata": {},
   "outputs": [],
   "source": []
  },
  {
   "cell_type": "code",
   "execution_count": 66,
   "metadata": {},
   "outputs": [
    {
     "data": {
      "text/plain": [
       "0.9866290250285565"
      ]
     },
     "execution_count": 66,
     "metadata": {},
     "output_type": "execute_result"
    }
   ],
   "source": [
    "cohen_kappa_score(ytest,y_kn)"
   ]
  },
  {
   "cell_type": "code",
   "execution_count": 67,
   "metadata": {},
   "outputs": [
    {
     "data": {
      "text/plain": [
       "0.9802056613354548"
      ]
     },
     "execution_count": 67,
     "metadata": {},
     "output_type": "execute_result"
    }
   ],
   "source": [
    "explained_variance_score(ytest,y_kn)"
   ]
  },
  {
   "cell_type": "code",
   "execution_count": null,
   "metadata": {},
   "outputs": [],
   "source": []
  },
  {
   "cell_type": "code",
   "execution_count": 68,
   "metadata": {},
   "outputs": [],
   "source": [
    "# Naive Bayes"
   ]
  },
  {
   "cell_type": "code",
   "execution_count": 69,
   "metadata": {},
   "outputs": [],
   "source": [
    "from sklearn.naive_bayes import GaussianNB\n",
    "nb=GaussianNB()\n"
   ]
  },
  {
   "cell_type": "code",
   "execution_count": 70,
   "metadata": {},
   "outputs": [],
   "source": [
    "y_nb=nb.fit(scaled_xtrain,ytrain).predict(scaled_xtest)"
   ]
  },
  {
   "cell_type": "code",
   "execution_count": 71,
   "metadata": {},
   "outputs": [],
   "source": [
    "from sklearn.metrics import classification_report,confusion_matrix,explained_variance_score,cohen_kappa_score,accuracy_score,f1_score"
   ]
  },
  {
   "cell_type": "code",
   "execution_count": 72,
   "metadata": {},
   "outputs": [
    {
     "name": "stdout",
     "output_type": "stream",
     "text": [
      "              precision    recall  f1-score   support\n",
      "\n",
      "           0       1.00      0.96      0.98      3463\n",
      "           1       0.61      0.97      0.75       154\n",
      "           2       0.58      0.98      0.72        82\n",
      "\n",
      "   micro avg       0.96      0.96      0.96      3699\n",
      "   macro avg       0.73      0.97      0.82      3699\n",
      "weighted avg       0.97      0.96      0.96      3699\n",
      "\n"
     ]
    }
   ],
   "source": [
    "classificationreport = classification_report(ytest,y_nb)\n",
    "print(classificationreport)"
   ]
  },
  {
   "cell_type": "code",
   "execution_count": 73,
   "metadata": {},
   "outputs": [
    {
     "data": {
      "text/plain": [
       "0.9583671262503379"
      ]
     },
     "execution_count": 73,
     "metadata": {},
     "output_type": "execute_result"
    }
   ],
   "source": [
    "accuracy_score(ytest,y_nb)"
   ]
  },
  {
   "cell_type": "code",
   "execution_count": 74,
   "metadata": {},
   "outputs": [
    {
     "data": {
      "text/plain": [
       "0.7354947093927084"
      ]
     },
     "execution_count": 74,
     "metadata": {},
     "output_type": "execute_result"
    }
   ],
   "source": [
    "cohen_kappa_score(ytest,y_nb)"
   ]
  },
  {
   "cell_type": "code",
   "execution_count": null,
   "metadata": {},
   "outputs": [],
   "source": []
  },
  {
   "cell_type": "code",
   "execution_count": 75,
   "metadata": {},
   "outputs": [
    {
     "data": {
      "text/plain": [
       "0.3233677846394979"
      ]
     },
     "execution_count": 75,
     "metadata": {},
     "output_type": "execute_result"
    }
   ],
   "source": [
    "explained_variance_score(ytest,y_nb)"
   ]
  },
  {
   "cell_type": "markdown",
   "metadata": {},
   "source": [
    "# Ensemble Techniques"
   ]
  },
  {
   "cell_type": "code",
   "execution_count": 76,
   "metadata": {},
   "outputs": [],
   "source": [
    "# Random Forest"
   ]
  },
  {
   "cell_type": "code",
   "execution_count": 77,
   "metadata": {},
   "outputs": [],
   "source": [
    "from sklearn.ensemble import RandomForestClassifier\n",
    "rf=RandomForestClassifier()"
   ]
  },
  {
   "cell_type": "code",
   "execution_count": 78,
   "metadata": {},
   "outputs": [
    {
     "name": "stderr",
     "output_type": "stream",
     "text": [
      "C:\\Users\\Asus\\Anaconda3\\lib\\site-packages\\sklearn\\ensemble\\forest.py:246: FutureWarning: The default value of n_estimators will change from 10 in version 0.20 to 100 in 0.22.\n",
      "  \"10 in version 0.20 to 100 in 0.22.\", FutureWarning)\n"
     ]
    }
   ],
   "source": [
    "y_rf=rf.fit(scaled_xtrain,ytrain).predict(scaled_xtest)"
   ]
  },
  {
   "cell_type": "code",
   "execution_count": 79,
   "metadata": {},
   "outputs": [],
   "source": [
    "from sklearn.metrics import classification_report,confusion_matrix,explained_variance_score,cohen_kappa_score,accuracy_score"
   ]
  },
  {
   "cell_type": "code",
   "execution_count": 80,
   "metadata": {},
   "outputs": [
    {
     "name": "stdout",
     "output_type": "stream",
     "text": [
      "              precision    recall  f1-score   support\n",
      "\n",
      "           0       1.00      1.00      1.00      3463\n",
      "           1       0.98      1.00      0.99       154\n",
      "           2       0.96      0.98      0.97        82\n",
      "\n",
      "   micro avg       1.00      1.00      1.00      3699\n",
      "   macro avg       0.98      0.99      0.99      3699\n",
      "weighted avg       1.00      1.00      1.00      3699\n",
      "\n"
     ]
    }
   ],
   "source": [
    "classificationreport = classification_report(ytest,y_rf)\n",
    "print(classificationreport)"
   ]
  },
  {
   "cell_type": "code",
   "execution_count": 81,
   "metadata": {},
   "outputs": [
    {
     "data": {
      "text/plain": [
       "0.9981075966477426"
      ]
     },
     "execution_count": 81,
     "metadata": {},
     "output_type": "execute_result"
    }
   ],
   "source": [
    "accuracy_score(ytest,y_rf)"
   ]
  },
  {
   "cell_type": "code",
   "execution_count": 82,
   "metadata": {},
   "outputs": [
    {
     "data": {
      "text/plain": [
       "0.9845239376008607"
      ]
     },
     "execution_count": 82,
     "metadata": {},
     "output_type": "execute_result"
    }
   ],
   "source": [
    "cohen_kappa_score(ytest,y_rf)"
   ]
  },
  {
   "cell_type": "code",
   "execution_count": null,
   "metadata": {},
   "outputs": [],
   "source": []
  },
  {
   "cell_type": "code",
   "execution_count": 83,
   "metadata": {},
   "outputs": [
    {
     "data": {
      "text/plain": [
       "0.958225561513479"
      ]
     },
     "execution_count": 83,
     "metadata": {},
     "output_type": "execute_result"
    }
   ],
   "source": [
    "explained_variance_score(ytest,y_rf)"
   ]
  },
  {
   "cell_type": "code",
   "execution_count": 84,
   "metadata": {},
   "outputs": [],
   "source": [
    "# XGBoost"
   ]
  },
  {
   "cell_type": "code",
   "execution_count": 85,
   "metadata": {},
   "outputs": [],
   "source": [
    "from xgboost import XGBClassifier\n",
    "xgb=XGBClassifier()"
   ]
  },
  {
   "cell_type": "code",
   "execution_count": 86,
   "metadata": {},
   "outputs": [],
   "source": [
    "y_xgb=xgb.fit(scaled_xtrain,ytrain).predict(scaled_xtest)"
   ]
  },
  {
   "cell_type": "code",
   "execution_count": 87,
   "metadata": {},
   "outputs": [],
   "source": [
    "from sklearn.metrics import classification_report,confusion_matrix,explained_variance_score,cohen_kappa_score,accuracy_score,f1_score"
   ]
  },
  {
   "cell_type": "code",
   "execution_count": 88,
   "metadata": {},
   "outputs": [
    {
     "name": "stdout",
     "output_type": "stream",
     "text": [
      "              precision    recall  f1-score   support\n",
      "\n",
      "           0       1.00      1.00      1.00      3463\n",
      "           1       0.99      0.99      0.99       154\n",
      "           2       0.96      0.98      0.97        82\n",
      "\n",
      "   micro avg       1.00      1.00      1.00      3699\n",
      "   macro avg       0.98      0.99      0.99      3699\n",
      "weighted avg       1.00      1.00      1.00      3699\n",
      "\n"
     ]
    }
   ],
   "source": [
    "classificationreport = classification_report(ytest,y_xgb)\n",
    "print(classificationreport)"
   ]
  },
  {
   "cell_type": "code",
   "execution_count": 89,
   "metadata": {},
   "outputs": [
    {
     "data": {
      "text/plain": [
       "0.9981075966477426"
      ]
     },
     "execution_count": 89,
     "metadata": {},
     "output_type": "execute_result"
    }
   ],
   "source": [
    "accuracy_score(ytest,y_xgb)"
   ]
  },
  {
   "cell_type": "code",
   "execution_count": 90,
   "metadata": {},
   "outputs": [
    {
     "data": {
      "text/plain": [
       "0.984431565447491"
      ]
     },
     "execution_count": 90,
     "metadata": {},
     "output_type": "execute_result"
    }
   ],
   "source": [
    "cohen_kappa_score(ytest,y_xgb)"
   ]
  },
  {
   "cell_type": "code",
   "execution_count": null,
   "metadata": {},
   "outputs": [],
   "source": []
  },
  {
   "cell_type": "code",
   "execution_count": 91,
   "metadata": {},
   "outputs": [
    {
     "data": {
      "text/plain": [
       "0.9648113859366843"
      ]
     },
     "execution_count": 91,
     "metadata": {},
     "output_type": "execute_result"
    }
   ],
   "source": [
    "explained_variance_score(ytest,y_xgb)"
   ]
  },
  {
   "cell_type": "code",
   "execution_count": null,
   "metadata": {},
   "outputs": [],
   "source": []
  },
  {
   "cell_type": "code",
   "execution_count": null,
   "metadata": {},
   "outputs": [],
   "source": []
  },
  {
   "cell_type": "markdown",
   "metadata": {},
   "source": [
    "# Without PCA"
   ]
  },
  {
   "cell_type": "code",
   "execution_count": null,
   "metadata": {},
   "outputs": [],
   "source": []
  },
  {
   "cell_type": "code",
   "execution_count": 92,
   "metadata": {},
   "outputs": [
    {
     "data": {
      "text/html": [
       "<div>\n",
       "<style scoped>\n",
       "    .dataframe tbody tr th:only-of-type {\n",
       "        vertical-align: middle;\n",
       "    }\n",
       "\n",
       "    .dataframe tbody tr th {\n",
       "        vertical-align: top;\n",
       "    }\n",
       "\n",
       "    .dataframe thead th {\n",
       "        text-align: right;\n",
       "    }\n",
       "</style>\n",
       "<table border=\"1\" class=\"dataframe\">\n",
       "  <thead>\n",
       "    <tr style=\"text-align: right;\">\n",
       "      <th></th>\n",
       "      <th>Administrative</th>\n",
       "      <th>Administrative_Duration</th>\n",
       "      <th>Informational</th>\n",
       "      <th>Informational_Duration</th>\n",
       "      <th>ProductRelated</th>\n",
       "      <th>ProductRelated_Duration</th>\n",
       "      <th>BounceRates</th>\n",
       "      <th>ExitRates</th>\n",
       "      <th>PageValues</th>\n",
       "      <th>SpecialDay</th>\n",
       "      <th>...</th>\n",
       "      <th>Month_June</th>\n",
       "      <th>Month_Mar</th>\n",
       "      <th>Month_May</th>\n",
       "      <th>Month_Nov</th>\n",
       "      <th>Month_Oct</th>\n",
       "      <th>Month_Sep</th>\n",
       "      <th>VisitorType_Other</th>\n",
       "      <th>VisitorType_Returning_Visitor</th>\n",
       "      <th>Weekend_True</th>\n",
       "      <th>labels</th>\n",
       "    </tr>\n",
       "  </thead>\n",
       "  <tbody>\n",
       "    <tr>\n",
       "      <th>0</th>\n",
       "      <td>0</td>\n",
       "      <td>0.0</td>\n",
       "      <td>0</td>\n",
       "      <td>0.0</td>\n",
       "      <td>1</td>\n",
       "      <td>-0.624348</td>\n",
       "      <td>3.667189</td>\n",
       "      <td>3.229316</td>\n",
       "      <td>-0.317178</td>\n",
       "      <td>-0.308821</td>\n",
       "      <td>...</td>\n",
       "      <td>0</td>\n",
       "      <td>0</td>\n",
       "      <td>0</td>\n",
       "      <td>0</td>\n",
       "      <td>0</td>\n",
       "      <td>0</td>\n",
       "      <td>0</td>\n",
       "      <td>1</td>\n",
       "      <td>0</td>\n",
       "      <td>0</td>\n",
       "    </tr>\n",
       "    <tr>\n",
       "      <th>1</th>\n",
       "      <td>0</td>\n",
       "      <td>0.0</td>\n",
       "      <td>0</td>\n",
       "      <td>0.0</td>\n",
       "      <td>2</td>\n",
       "      <td>-0.590903</td>\n",
       "      <td>-0.457683</td>\n",
       "      <td>1.171473</td>\n",
       "      <td>-0.317178</td>\n",
       "      <td>-0.308821</td>\n",
       "      <td>...</td>\n",
       "      <td>0</td>\n",
       "      <td>0</td>\n",
       "      <td>0</td>\n",
       "      <td>0</td>\n",
       "      <td>0</td>\n",
       "      <td>0</td>\n",
       "      <td>0</td>\n",
       "      <td>1</td>\n",
       "      <td>0</td>\n",
       "      <td>0</td>\n",
       "    </tr>\n",
       "    <tr>\n",
       "      <th>2</th>\n",
       "      <td>0</td>\n",
       "      <td>0.0</td>\n",
       "      <td>0</td>\n",
       "      <td>0.0</td>\n",
       "      <td>1</td>\n",
       "      <td>-0.624348</td>\n",
       "      <td>3.667189</td>\n",
       "      <td>3.229316</td>\n",
       "      <td>-0.317178</td>\n",
       "      <td>-0.308821</td>\n",
       "      <td>...</td>\n",
       "      <td>0</td>\n",
       "      <td>0</td>\n",
       "      <td>0</td>\n",
       "      <td>0</td>\n",
       "      <td>0</td>\n",
       "      <td>0</td>\n",
       "      <td>0</td>\n",
       "      <td>1</td>\n",
       "      <td>0</td>\n",
       "      <td>0</td>\n",
       "    </tr>\n",
       "    <tr>\n",
       "      <th>3</th>\n",
       "      <td>0</td>\n",
       "      <td>0.0</td>\n",
       "      <td>0</td>\n",
       "      <td>0.0</td>\n",
       "      <td>2</td>\n",
       "      <td>-0.622954</td>\n",
       "      <td>0.573535</td>\n",
       "      <td>1.994610</td>\n",
       "      <td>-0.317178</td>\n",
       "      <td>-0.308821</td>\n",
       "      <td>...</td>\n",
       "      <td>0</td>\n",
       "      <td>0</td>\n",
       "      <td>0</td>\n",
       "      <td>0</td>\n",
       "      <td>0</td>\n",
       "      <td>0</td>\n",
       "      <td>0</td>\n",
       "      <td>1</td>\n",
       "      <td>0</td>\n",
       "      <td>0</td>\n",
       "    </tr>\n",
       "    <tr>\n",
       "      <th>4</th>\n",
       "      <td>0</td>\n",
       "      <td>0.0</td>\n",
       "      <td>0</td>\n",
       "      <td>0.0</td>\n",
       "      <td>10</td>\n",
       "      <td>-0.296430</td>\n",
       "      <td>-0.045196</td>\n",
       "      <td>0.142551</td>\n",
       "      <td>-0.317178</td>\n",
       "      <td>-0.308821</td>\n",
       "      <td>...</td>\n",
       "      <td>0</td>\n",
       "      <td>0</td>\n",
       "      <td>0</td>\n",
       "      <td>0</td>\n",
       "      <td>0</td>\n",
       "      <td>0</td>\n",
       "      <td>0</td>\n",
       "      <td>1</td>\n",
       "      <td>1</td>\n",
       "      <td>0</td>\n",
       "    </tr>\n",
       "  </tbody>\n",
       "</table>\n",
       "<p>5 rows × 27 columns</p>\n",
       "</div>"
      ],
      "text/plain": [
       "   Administrative  Administrative_Duration  Informational  \\\n",
       "0               0                      0.0              0   \n",
       "1               0                      0.0              0   \n",
       "2               0                      0.0              0   \n",
       "3               0                      0.0              0   \n",
       "4               0                      0.0              0   \n",
       "\n",
       "   Informational_Duration  ProductRelated  ProductRelated_Duration  \\\n",
       "0                     0.0               1                -0.624348   \n",
       "1                     0.0               2                -0.590903   \n",
       "2                     0.0               1                -0.624348   \n",
       "3                     0.0               2                -0.622954   \n",
       "4                     0.0              10                -0.296430   \n",
       "\n",
       "   BounceRates  ExitRates  PageValues  SpecialDay  ...  Month_June  Month_Mar  \\\n",
       "0     3.667189   3.229316   -0.317178   -0.308821  ...           0          0   \n",
       "1    -0.457683   1.171473   -0.317178   -0.308821  ...           0          0   \n",
       "2     3.667189   3.229316   -0.317178   -0.308821  ...           0          0   \n",
       "3     0.573535   1.994610   -0.317178   -0.308821  ...           0          0   \n",
       "4    -0.045196   0.142551   -0.317178   -0.308821  ...           0          0   \n",
       "\n",
       "   Month_May  Month_Nov  Month_Oct  Month_Sep  VisitorType_Other  \\\n",
       "0          0          0          0          0                  0   \n",
       "1          0          0          0          0                  0   \n",
       "2          0          0          0          0                  0   \n",
       "3          0          0          0          0                  0   \n",
       "4          0          0          0          0                  0   \n",
       "\n",
       "   VisitorType_Returning_Visitor  Weekend_True  labels  \n",
       "0                              1             0       0  \n",
       "1                              1             0       0  \n",
       "2                              1             0       0  \n",
       "3                              1             0       0  \n",
       "4                              1             1       0  \n",
       "\n",
       "[5 rows x 27 columns]"
      ]
     },
     "execution_count": 92,
     "metadata": {},
     "output_type": "execute_result"
    }
   ],
   "source": [
    "df.head()"
   ]
  },
  {
   "cell_type": "code",
   "execution_count": 93,
   "metadata": {},
   "outputs": [],
   "source": [
    "xx=df.drop(\"labels\",axis=1)\n",
    "y=df.labels"
   ]
  },
  {
   "cell_type": "code",
   "execution_count": null,
   "metadata": {},
   "outputs": [],
   "source": []
  },
  {
   "cell_type": "code",
   "execution_count": 94,
   "metadata": {},
   "outputs": [],
   "source": [
    "from sklearn.model_selection import train_test_split"
   ]
  },
  {
   "cell_type": "code",
   "execution_count": 95,
   "metadata": {},
   "outputs": [],
   "source": [
    "scaled_xtrain,scaled_xtest,ytrain,ytest=train_test_split(x,y,test_size=0.30,random_state=12)"
   ]
  },
  {
   "cell_type": "code",
   "execution_count": 96,
   "metadata": {},
   "outputs": [],
   "source": [
    "# Logistic"
   ]
  },
  {
   "cell_type": "code",
   "execution_count": 97,
   "metadata": {},
   "outputs": [],
   "source": [
    "from sklearn.linear_model import LogisticRegression\n",
    "lr=LogisticRegression()"
   ]
  },
  {
   "cell_type": "code",
   "execution_count": 98,
   "metadata": {},
   "outputs": [
    {
     "name": "stderr",
     "output_type": "stream",
     "text": [
      "C:\\Users\\Asus\\Anaconda3\\lib\\site-packages\\sklearn\\linear_model\\logistic.py:433: FutureWarning: Default solver will be changed to 'lbfgs' in 0.22. Specify a solver to silence this warning.\n",
      "  FutureWarning)\n",
      "C:\\Users\\Asus\\Anaconda3\\lib\\site-packages\\sklearn\\linear_model\\logistic.py:460: FutureWarning: Default multi_class will be changed to 'auto' in 0.22. Specify the multi_class option to silence this warning.\n",
      "  \"this warning.\", FutureWarning)\n"
     ]
    }
   ],
   "source": [
    "y_lr=lr.fit(scaled_xtrain,ytrain).predict(scaled_xtest)"
   ]
  },
  {
   "cell_type": "code",
   "execution_count": 99,
   "metadata": {},
   "outputs": [],
   "source": [
    "from sklearn.metrics import classification_report,confusion_matrix,explained_variance_score,cohen_kappa_score,accuracy_score,f1_score"
   ]
  },
  {
   "cell_type": "code",
   "execution_count": 100,
   "metadata": {},
   "outputs": [
    {
     "name": "stdout",
     "output_type": "stream",
     "text": [
      "              precision    recall  f1-score   support\n",
      "\n",
      "           0       1.00      1.00      1.00      3463\n",
      "           1       0.96      0.96      0.96       154\n",
      "           2       0.96      0.89      0.92        82\n",
      "\n",
      "   micro avg       0.99      0.99      0.99      3699\n",
      "   macro avg       0.97      0.95      0.96      3699\n",
      "weighted avg       0.99      0.99      0.99      3699\n",
      "\n"
     ]
    }
   ],
   "source": [
    "classificationreport = classification_report(ytest,y_lr)\n",
    "print(classificationreport)"
   ]
  },
  {
   "cell_type": "code",
   "execution_count": 101,
   "metadata": {},
   "outputs": [
    {
     "data": {
      "text/plain": [
       "0.9940524466071912"
      ]
     },
     "execution_count": 101,
     "metadata": {},
     "output_type": "execute_result"
    }
   ],
   "source": [
    "accuracy_score(ytest,y_lr)"
   ]
  },
  {
   "cell_type": "code",
   "execution_count": 102,
   "metadata": {},
   "outputs": [
    {
     "data": {
      "text/plain": [
       "0.9503643170564792"
      ]
     },
     "execution_count": 102,
     "metadata": {},
     "output_type": "execute_result"
    }
   ],
   "source": [
    "cohen_kappa_score(ytest,y_lr)"
   ]
  },
  {
   "cell_type": "code",
   "execution_count": null,
   "metadata": {},
   "outputs": [],
   "source": []
  },
  {
   "cell_type": "code",
   "execution_count": 103,
   "metadata": {},
   "outputs": [
    {
     "data": {
      "text/plain": [
       "0.885714897306091"
      ]
     },
     "execution_count": 103,
     "metadata": {},
     "output_type": "execute_result"
    }
   ],
   "source": [
    "explained_variance_score(ytest,y_lr)"
   ]
  },
  {
   "cell_type": "code",
   "execution_count": 104,
   "metadata": {},
   "outputs": [],
   "source": [
    "# Decision Tree"
   ]
  },
  {
   "cell_type": "code",
   "execution_count": 105,
   "metadata": {},
   "outputs": [],
   "source": [
    "from sklearn.tree import DecisionTreeClassifier\n",
    "dt=DecisionTreeClassifier()"
   ]
  },
  {
   "cell_type": "code",
   "execution_count": 106,
   "metadata": {},
   "outputs": [],
   "source": [
    "y_dt=dt.fit(scaled_xtrain,ytrain).predict(scaled_xtest)"
   ]
  },
  {
   "cell_type": "code",
   "execution_count": 107,
   "metadata": {},
   "outputs": [],
   "source": [
    "from sklearn.metrics import classification_report,confusion_matrix,explained_variance_score,cohen_kappa_score,accuracy_score"
   ]
  },
  {
   "cell_type": "code",
   "execution_count": 108,
   "metadata": {},
   "outputs": [
    {
     "name": "stdout",
     "output_type": "stream",
     "text": [
      "              precision    recall  f1-score   support\n",
      "\n",
      "           0       1.00      1.00      1.00      3463\n",
      "           1       0.99      0.98      0.98       154\n",
      "           2       0.94      0.95      0.95        82\n",
      "\n",
      "   micro avg       1.00      1.00      1.00      3699\n",
      "   macro avg       0.98      0.98      0.98      3699\n",
      "weighted avg       1.00      1.00      1.00      3699\n",
      "\n"
     ]
    }
   ],
   "source": [
    "classificationreport = classification_report(ytest,y_dt)\n",
    "print(classificationreport)"
   ]
  },
  {
   "cell_type": "code",
   "execution_count": 109,
   "metadata": {},
   "outputs": [
    {
     "data": {
      "text/plain": [
       "0.9967558799675588"
      ]
     },
     "execution_count": 109,
     "metadata": {},
     "output_type": "execute_result"
    }
   ],
   "source": [
    "accuracy_score(ytest,y_dt)"
   ]
  },
  {
   "cell_type": "code",
   "execution_count": null,
   "metadata": {},
   "outputs": [],
   "source": []
  },
  {
   "cell_type": "code",
   "execution_count": 110,
   "metadata": {},
   "outputs": [
    {
     "data": {
      "text/plain": [
       "0.9732580500571131"
      ]
     },
     "execution_count": 110,
     "metadata": {},
     "output_type": "execute_result"
    }
   ],
   "source": [
    "cohen_kappa_score(ytest,y_dt)"
   ]
  },
  {
   "cell_type": "code",
   "execution_count": 111,
   "metadata": {},
   "outputs": [
    {
     "data": {
      "text/plain": [
       "0.9274191726216171"
      ]
     },
     "execution_count": 111,
     "metadata": {},
     "output_type": "execute_result"
    }
   ],
   "source": [
    "explained_variance_score(ytest,y_dt)"
   ]
  },
  {
   "cell_type": "code",
   "execution_count": null,
   "metadata": {},
   "outputs": [],
   "source": []
  },
  {
   "cell_type": "code",
   "execution_count": 112,
   "metadata": {},
   "outputs": [],
   "source": [
    "# KNN"
   ]
  },
  {
   "cell_type": "code",
   "execution_count": 113,
   "metadata": {},
   "outputs": [],
   "source": [
    "from sklearn.neighbors import KNeighborsClassifier\n",
    "knn=KNeighborsClassifier()"
   ]
  },
  {
   "cell_type": "code",
   "execution_count": 114,
   "metadata": {},
   "outputs": [],
   "source": [
    "y_kn=knn.fit(scaled_xtrain,ytrain).predict(scaled_xtest)"
   ]
  },
  {
   "cell_type": "code",
   "execution_count": 115,
   "metadata": {},
   "outputs": [],
   "source": [
    "from sklearn.metrics import classification_report,confusion_matrix,explained_variance_score,cohen_kappa_score,accuracy_score"
   ]
  },
  {
   "cell_type": "code",
   "execution_count": 116,
   "metadata": {},
   "outputs": [
    {
     "name": "stdout",
     "output_type": "stream",
     "text": [
      "              precision    recall  f1-score   support\n",
      "\n",
      "           0       1.00      1.00      1.00      3463\n",
      "           1       0.99      0.97      0.98       154\n",
      "           2       0.99      1.00      0.99        82\n",
      "\n",
      "   micro avg       1.00      1.00      1.00      3699\n",
      "   macro avg       0.99      0.99      0.99      3699\n",
      "weighted avg       1.00      1.00      1.00      3699\n",
      "\n"
     ]
    }
   ],
   "source": [
    "classificationreport = classification_report(ytest,y_kn)\n",
    "print(classificationreport)"
   ]
  },
  {
   "cell_type": "code",
   "execution_count": 117,
   "metadata": {},
   "outputs": [
    {
     "data": {
      "text/plain": [
       "0.9978372533117059"
      ]
     },
     "execution_count": 117,
     "metadata": {},
     "output_type": "execute_result"
    }
   ],
   "source": [
    "accuracy_score(ytest,y_kn)"
   ]
  },
  {
   "cell_type": "code",
   "execution_count": null,
   "metadata": {},
   "outputs": [],
   "source": []
  },
  {
   "cell_type": "code",
   "execution_count": 118,
   "metadata": {},
   "outputs": [
    {
     "data": {
      "text/plain": [
       "0.9821006674142868"
      ]
     },
     "execution_count": 118,
     "metadata": {},
     "output_type": "execute_result"
    }
   ],
   "source": [
    "cohen_kappa_score(ytest,y_kn)"
   ]
  },
  {
   "cell_type": "code",
   "execution_count": 119,
   "metadata": {},
   "outputs": [
    {
     "data": {
      "text/plain": [
       "0.9758067872759684"
      ]
     },
     "execution_count": 119,
     "metadata": {},
     "output_type": "execute_result"
    }
   ],
   "source": [
    "explained_variance_score(ytest,y_kn)"
   ]
  },
  {
   "cell_type": "code",
   "execution_count": null,
   "metadata": {},
   "outputs": [],
   "source": []
  },
  {
   "cell_type": "code",
   "execution_count": 120,
   "metadata": {},
   "outputs": [],
   "source": [
    "# Naive Bayes"
   ]
  },
  {
   "cell_type": "code",
   "execution_count": 121,
   "metadata": {},
   "outputs": [],
   "source": [
    "from sklearn.naive_bayes import GaussianNB\n",
    "nb=GaussianNB()\n"
   ]
  },
  {
   "cell_type": "code",
   "execution_count": 122,
   "metadata": {},
   "outputs": [],
   "source": [
    "y_nb=nb.fit(scaled_xtrain,ytrain).predict(scaled_xtest)"
   ]
  },
  {
   "cell_type": "code",
   "execution_count": 123,
   "metadata": {},
   "outputs": [],
   "source": [
    "from sklearn.metrics import classification_report,confusion_matrix,explained_variance_score,cohen_kappa_score,accuracy_score,f1_score"
   ]
  },
  {
   "cell_type": "code",
   "execution_count": 124,
   "metadata": {},
   "outputs": [
    {
     "name": "stdout",
     "output_type": "stream",
     "text": [
      "              precision    recall  f1-score   support\n",
      "\n",
      "           0       1.00      0.68      0.81      3463\n",
      "           1       0.84      0.44      0.57       154\n",
      "           2       0.06      0.98      0.12        82\n",
      "\n",
      "   micro avg       0.68      0.68      0.68      3699\n",
      "   macro avg       0.63      0.70      0.50      3699\n",
      "weighted avg       0.97      0.68      0.78      3699\n",
      "\n"
     ]
    }
   ],
   "source": [
    "classificationreport = classification_report(ytest,y_nb)\n",
    "print(classificationreport)"
   ]
  },
  {
   "cell_type": "code",
   "execution_count": 125,
   "metadata": {},
   "outputs": [
    {
     "data": {
      "text/plain": [
       "0.6769397134360639"
      ]
     },
     "execution_count": 125,
     "metadata": {},
     "output_type": "execute_result"
    }
   ],
   "source": [
    "accuracy_score(ytest,y_nb)"
   ]
  },
  {
   "cell_type": "code",
   "execution_count": 126,
   "metadata": {},
   "outputs": [
    {
     "data": {
      "text/plain": [
       "0.1805696057161894"
      ]
     },
     "execution_count": 126,
     "metadata": {},
     "output_type": "execute_result"
    }
   ],
   "source": [
    "cohen_kappa_score(ytest,y_nb)"
   ]
  },
  {
   "cell_type": "code",
   "execution_count": null,
   "metadata": {},
   "outputs": [],
   "source": []
  },
  {
   "cell_type": "code",
   "execution_count": 127,
   "metadata": {},
   "outputs": [
    {
     "data": {
      "text/plain": [
       "-5.76249290935751"
      ]
     },
     "execution_count": 127,
     "metadata": {},
     "output_type": "execute_result"
    }
   ],
   "source": [
    "explained_variance_score(ytest,y_nb)"
   ]
  },
  {
   "cell_type": "markdown",
   "metadata": {},
   "source": [
    "# Ensemble Techniques"
   ]
  },
  {
   "cell_type": "code",
   "execution_count": 128,
   "metadata": {},
   "outputs": [],
   "source": [
    "# Random Forest"
   ]
  },
  {
   "cell_type": "code",
   "execution_count": 129,
   "metadata": {},
   "outputs": [],
   "source": [
    "from sklearn.ensemble import RandomForestClassifier\n",
    "rf=RandomForestClassifier()"
   ]
  },
  {
   "cell_type": "code",
   "execution_count": 130,
   "metadata": {},
   "outputs": [
    {
     "name": "stderr",
     "output_type": "stream",
     "text": [
      "C:\\Users\\Asus\\Anaconda3\\lib\\site-packages\\sklearn\\ensemble\\forest.py:246: FutureWarning: The default value of n_estimators will change from 10 in version 0.20 to 100 in 0.22.\n",
      "  \"10 in version 0.20 to 100 in 0.22.\", FutureWarning)\n"
     ]
    }
   ],
   "source": [
    "y_rf=rf.fit(scaled_xtrain,ytrain).predict(scaled_xtest)"
   ]
  },
  {
   "cell_type": "code",
   "execution_count": 131,
   "metadata": {},
   "outputs": [],
   "source": [
    "from sklearn.metrics import classification_report,confusion_matrix,explained_variance_score,cohen_kappa_score,accuracy_score"
   ]
  },
  {
   "cell_type": "code",
   "execution_count": 132,
   "metadata": {},
   "outputs": [
    {
     "name": "stdout",
     "output_type": "stream",
     "text": [
      "              precision    recall  f1-score   support\n",
      "\n",
      "           0       1.00      1.00      1.00      3463\n",
      "           1       0.97      0.98      0.98       154\n",
      "           2       0.96      0.90      0.93        82\n",
      "\n",
      "   micro avg       1.00      1.00      1.00      3699\n",
      "   macro avg       0.98      0.96      0.97      3699\n",
      "weighted avg       1.00      1.00      1.00      3699\n",
      "\n"
     ]
    }
   ],
   "source": [
    "classificationreport = classification_report(ytest,y_rf)\n",
    "print(classificationreport)"
   ]
  },
  {
   "cell_type": "code",
   "execution_count": 133,
   "metadata": {},
   "outputs": [
    {
     "data": {
      "text/plain": [
       "0.9962151932954852"
      ]
     },
     "execution_count": 133,
     "metadata": {},
     "output_type": "execute_result"
    }
   ],
   "source": [
    "accuracy_score(ytest,y_rf)"
   ]
  },
  {
   "cell_type": "code",
   "execution_count": 134,
   "metadata": {},
   "outputs": [
    {
     "data": {
      "text/plain": [
       "0.9685420205127457"
      ]
     },
     "execution_count": 134,
     "metadata": {},
     "output_type": "execute_result"
    }
   ],
   "source": [
    "cohen_kappa_score(ytest,y_rf)"
   ]
  },
  {
   "cell_type": "code",
   "execution_count": null,
   "metadata": {},
   "outputs": [],
   "source": []
  },
  {
   "cell_type": "code",
   "execution_count": 135,
   "metadata": {},
   "outputs": [
    {
     "data": {
      "text/plain": [
       "0.9230678668136525"
      ]
     },
     "execution_count": 135,
     "metadata": {},
     "output_type": "execute_result"
    }
   ],
   "source": [
    "explained_variance_score(ytest,y_rf)"
   ]
  },
  {
   "cell_type": "code",
   "execution_count": 136,
   "metadata": {},
   "outputs": [],
   "source": [
    "# XGBoost"
   ]
  },
  {
   "cell_type": "code",
   "execution_count": 137,
   "metadata": {},
   "outputs": [],
   "source": [
    "from xgboost import XGBClassifier\n",
    "xgb=XGBClassifier()"
   ]
  },
  {
   "cell_type": "code",
   "execution_count": 138,
   "metadata": {},
   "outputs": [],
   "source": [
    "y_xgb=xgb.fit(scaled_xtrain,ytrain).predict(scaled_xtest)"
   ]
  },
  {
   "cell_type": "code",
   "execution_count": 139,
   "metadata": {},
   "outputs": [],
   "source": [
    "from sklearn.metrics import classification_report,confusion_matrix,explained_variance_score,cohen_kappa_score,accuracy_score,f1_score"
   ]
  },
  {
   "cell_type": "code",
   "execution_count": 140,
   "metadata": {},
   "outputs": [
    {
     "name": "stdout",
     "output_type": "stream",
     "text": [
      "              precision    recall  f1-score   support\n",
      "\n",
      "           0       1.00      1.00      1.00      3463\n",
      "           1       0.99      0.99      0.99       154\n",
      "           2       0.94      0.95      0.95        82\n",
      "\n",
      "   micro avg       1.00      1.00      1.00      3699\n",
      "   macro avg       0.98      0.98      0.98      3699\n",
      "weighted avg       1.00      1.00      1.00      3699\n",
      "\n"
     ]
    }
   ],
   "source": [
    "classificationreport = classification_report(ytest,y_xgb)\n",
    "print(classificationreport)"
   ]
  },
  {
   "cell_type": "code",
   "execution_count": 141,
   "metadata": {},
   "outputs": [
    {
     "data": {
      "text/plain": [
       "0.9970262233035956"
      ]
     },
     "execution_count": 141,
     "metadata": {},
     "output_type": "execute_result"
    }
   ],
   "source": [
    "accuracy_score(ytest,y_xgb)"
   ]
  },
  {
   "cell_type": "code",
   "execution_count": 142,
   "metadata": {},
   "outputs": [
    {
     "data": {
      "text/plain": [
       "0.9755353171317717"
      ]
     },
     "execution_count": 142,
     "metadata": {},
     "output_type": "execute_result"
    }
   ],
   "source": [
    "cohen_kappa_score(ytest,y_xgb)"
   ]
  },
  {
   "cell_type": "code",
   "execution_count": null,
   "metadata": {},
   "outputs": [],
   "source": []
  },
  {
   "cell_type": "code",
   "execution_count": 143,
   "metadata": {},
   "outputs": [
    {
     "data": {
      "text/plain": [
       "0.9296203934607925"
      ]
     },
     "execution_count": 143,
     "metadata": {},
     "output_type": "execute_result"
    }
   ],
   "source": [
    "explained_variance_score(ytest,y_xgb)"
   ]
  },
  {
   "cell_type": "code",
   "execution_count": null,
   "metadata": {},
   "outputs": [],
   "source": []
  },
  {
   "cell_type": "markdown",
   "metadata": {},
   "source": [
    "# Tabulating the Observations"
   ]
  },
  {
   "cell_type": "code",
   "execution_count": null,
   "metadata": {},
   "outputs": [],
   "source": []
  },
  {
   "cell_type": "code",
   "execution_count": 144,
   "metadata": {},
   "outputs": [],
   "source": [
    "dict={\"Without PCA Cohen Kappa Score\":[0.9503643170564792,0.9798202241469921,0.9821006674142868,0.1805696057161894,0.9663655723126556,0.9755353171317717\n",
    "],\"With PCA Cohen Kappa Score\":[0.972873624751809,0.9797778976448549,0.9866290250285565,0.7354947093927084,0.9799383162431483,0.984431565447491]}"
   ]
  },
  {
   "cell_type": "code",
   "execution_count": 145,
   "metadata": {},
   "outputs": [
    {
     "data": {
      "text/html": [
       "<div>\n",
       "<style scoped>\n",
       "    .dataframe tbody tr th:only-of-type {\n",
       "        vertical-align: middle;\n",
       "    }\n",
       "\n",
       "    .dataframe tbody tr th {\n",
       "        vertical-align: top;\n",
       "    }\n",
       "\n",
       "    .dataframe thead th {\n",
       "        text-align: right;\n",
       "    }\n",
       "</style>\n",
       "<table border=\"1\" class=\"dataframe\">\n",
       "  <thead>\n",
       "    <tr style=\"text-align: right;\">\n",
       "      <th></th>\n",
       "      <th>Without PCA Cohen Kappa Score</th>\n",
       "      <th>With PCA Cohen Kappa Score</th>\n",
       "    </tr>\n",
       "  </thead>\n",
       "  <tbody>\n",
       "    <tr>\n",
       "      <th>Logistic Regression</th>\n",
       "      <td>0.950364</td>\n",
       "      <td>0.972874</td>\n",
       "    </tr>\n",
       "    <tr>\n",
       "      <th>Decision Tree</th>\n",
       "      <td>0.979820</td>\n",
       "      <td>0.979778</td>\n",
       "    </tr>\n",
       "    <tr>\n",
       "      <th>K-Nearest Neighbours</th>\n",
       "      <td>0.982101</td>\n",
       "      <td>0.986629</td>\n",
       "    </tr>\n",
       "    <tr>\n",
       "      <th>Naive-Bayes</th>\n",
       "      <td>0.180570</td>\n",
       "      <td>0.735495</td>\n",
       "    </tr>\n",
       "    <tr>\n",
       "      <th>Random Forest</th>\n",
       "      <td>0.966366</td>\n",
       "      <td>0.979938</td>\n",
       "    </tr>\n",
       "    <tr>\n",
       "      <th>XGBoost</th>\n",
       "      <td>0.975535</td>\n",
       "      <td>0.984432</td>\n",
       "    </tr>\n",
       "  </tbody>\n",
       "</table>\n",
       "</div>"
      ],
      "text/plain": [
       "                      Without PCA Cohen Kappa Score  \\\n",
       "Logistic Regression                        0.950364   \n",
       "Decision Tree                              0.979820   \n",
       "K-Nearest Neighbours                       0.982101   \n",
       "Naive-Bayes                                0.180570   \n",
       "Random Forest                              0.966366   \n",
       "XGBoost                                    0.975535   \n",
       "\n",
       "                      With PCA Cohen Kappa Score  \n",
       "Logistic Regression                     0.972874  \n",
       "Decision Tree                           0.979778  \n",
       "K-Nearest Neighbours                    0.986629  \n",
       "Naive-Bayes                             0.735495  \n",
       "Random Forest                           0.979938  \n",
       "XGBoost                                 0.984432  "
      ]
     },
     "execution_count": 145,
     "metadata": {},
     "output_type": "execute_result"
    }
   ],
   "source": [
    "pd.DataFrame(dict,index=[\"Logistic Regression\",\"Decision Tree\",\"K-Nearest Neighbours\",\"Naive-Bayes\",\"Random Forest\",\"XGBoost\"])"
   ]
  },
  {
   "cell_type": "code",
   "execution_count": null,
   "metadata": {},
   "outputs": [],
   "source": []
  },
  {
   "cell_type": "markdown",
   "metadata": {},
   "source": [
    "# Conclusion :\n",
    "\n",
    "## With the help of Clustering and PCA we were able to increase our Cohen Kappa Score , the highest increment noticed is in Naive Bayes where the increment is from 18 % to 73 %\n",
    "\n",
    "## I would like to suggest to with Random Forest , as its score is around between highest and lowest observed "
   ]
  },
  {
   "cell_type": "code",
   "execution_count": null,
   "metadata": {},
   "outputs": [],
   "source": []
  }
 ],
 "metadata": {
  "kernelspec": {
   "display_name": "Python 3",
   "language": "python",
   "name": "python3"
  },
  "language_info": {
   "codemirror_mode": {
    "name": "ipython",
    "version": 3
   },
   "file_extension": ".py",
   "mimetype": "text/x-python",
   "name": "python",
   "nbconvert_exporter": "python",
   "pygments_lexer": "ipython3",
   "version": "3.7.4"
  }
 },
 "nbformat": 4,
 "nbformat_minor": 4
}
